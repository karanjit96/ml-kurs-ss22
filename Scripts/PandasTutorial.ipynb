{
 "cells": [
  {
   "cell_type": "markdown",
   "metadata": {},
   "source": [
    "Tutorial Pandas"
   ]
  },
  {
   "cell_type": "markdown",
   "metadata": {},
   "source": [
    "pandas"
   ]
  },
  {
   "cell_type": "code",
   "execution_count": 13,
   "metadata": {},
   "outputs": [],
   "source": [
    "import pandas as pd"
   ]
  },
  {
   "cell_type": "code",
   "execution_count": 14,
   "metadata": {},
   "outputs": [
    {
     "name": "stdout",
     "output_type": "stream",
     "text": [
      "<class 'pandas.core.frame.DataFrame'>\n"
     ]
    }
   ],
   "source": [
    "cpu = pd.read_csv(\"cpu.csv\")\n",
    "print(type(cpu))"
   ]
  },
  {
   "cell_type": "code",
   "execution_count": 15,
   "metadata": {},
   "outputs": [
    {
     "name": "stdout",
     "output_type": "stream",
     "text": [
      "  Manufacturer    CPU Technology Package  Pins  Clock  Transistors    Year\n",
      "0          MOS   6502       NMOS    PDIP    40    1.0       3510.0     NaN\n",
      "1          MOS  6502A       NMOS    PDIP    40    2.0       3510.0     NaN\n",
      "2          MOS  6502B       NMOS    PDIP    40    3.0          NaN     NaN\n",
      "3        Intel   8008       PMOS    PDIP    18    NaN       3500.0  1972.0\n",
      "4        Intel   8080       NMOS    CDIP    40    NaN       6000.0  1974.0\n",
      "5        Zilog    Z80       NMOS    CDIP    40    2.5       8500.0  1976.0\n",
      "6     Motorola   6800       NMOS    PDIP    40    1.0       4100.0     NaN\n",
      "7     Motorola   6809       NMOS    PDIP    40    1.0       9000.0  1978.0\n",
      "8     Motorola  68000       HMOS    PDIP    64   10.0      68000.0  1979.0\n"
     ]
    }
   ],
   "source": [
    "print(cpu)"
   ]
  },
  {
   "cell_type": "code",
   "execution_count": 16,
   "metadata": {},
   "outputs": [
    {
     "name": "stdout",
     "output_type": "stream",
     "text": [
      "(9, 8)\n"
     ]
    }
   ],
   "source": [
    "print(cpu.shape)"
   ]
  },
  {
   "cell_type": "code",
   "execution_count": 17,
   "metadata": {},
   "outputs": [
    {
     "data": {
      "text/plain": [
       "Manufacturer     object\n",
       "CPU              object\n",
       "Technology       object\n",
       "Package          object\n",
       "Pins              int64\n",
       "Clock           float64\n",
       "Transistors     float64\n",
       "Year            float64\n",
       "dtype: object"
      ]
     },
     "execution_count": 17,
     "metadata": {},
     "output_type": "execute_result"
    }
   ],
   "source": [
    "cpu.dtypes"
   ]
  },
  {
   "cell_type": "code",
   "execution_count": 18,
   "metadata": {},
   "outputs": [
    {
     "name": "stdout",
     "output_type": "stream",
     "text": [
      "  Manufacturer   CPU Technology Package  Pins  Clock  Transistors  Year\n",
      "0          MOS  6502       NMOS    PDIP    40    1.0       3510.0   NaN\n",
      "  Manufacturer   CPU Technology Package  Beine  Clock  Transistors  Year\n",
      "0          MOS  6502       NMOS    PDIP     40    1.0       3510.0   NaN\n"
     ]
    }
   ],
   "source": [
    "print(cpu.head(1))\n",
    "cpu.rename(columns={\"Pins\":\"Beine\"},inplace = True)\n",
    "print(cpu.head(1))"
   ]
  },
  {
   "cell_type": "code",
   "execution_count": 19,
   "metadata": {},
   "outputs": [
    {
     "name": "stdout",
     "output_type": "stream",
     "text": [
      "  Manufacturer   CPU Technology Package  Beine  Clock  Transistors  Year\n",
      "0          MOS  6502       NMOS    PDIP     40    1.0       3510.0   NaN\n",
      "  Manufacturer   CPU Technology Package  Beine  Uhr  Transistors  Year\n",
      "0          MOS  6502       NMOS    PDIP     40  1.0       3510.0   NaN\n"
     ]
    }
   ],
   "source": [
    "print(cpu.head(1))\n",
    "cpu.rename(columns={\"Pins\":\"Beine\", \"Clock\" : \"Uhr\"},inplace = True)\n",
    "print(cpu.head(1))"
   ]
  },
  {
   "cell_type": "code",
   "execution_count": 20,
   "metadata": {},
   "outputs": [
    {
     "data": {
      "text/plain": [
       "0     True\n",
       "1     True\n",
       "2     True\n",
       "3    False\n",
       "4     True\n",
       "5     True\n",
       "6     True\n",
       "7     True\n",
       "8     True\n",
       "Name: Beine, dtype: bool"
      ]
     },
     "execution_count": 20,
     "metadata": {},
     "output_type": "execute_result"
    }
   ],
   "source": [
    "cpu[\"Beine\"] > 18 "
   ]
  },
  {
   "cell_type": "code",
   "execution_count": 21,
   "metadata": {},
   "outputs": [
    {
     "name": "stdout",
     "output_type": "stream",
     "text": [
      "  Manufacturer   CPU Technology Package  Beine  Uhr  Transistors    Year\n",
      "4        Intel  8080       NMOS    CDIP     40  NaN       6000.0  1974.0\n",
      "5        Zilog   Z80       NMOS    CDIP     40  2.5       8500.0  1976.0\n"
     ]
    }
   ],
   "source": [
    "cdips = cpu[cpu[\"Package\"] == \"CDIP\"]\n",
    "print (cdips)"
   ]
  },
  {
   "cell_type": "code",
   "execution_count": 22,
   "metadata": {},
   "outputs": [
    {
     "data": {
      "text/html": [
       "<div>\n",
       "<style scoped>\n",
       "    .dataframe tbody tr th:only-of-type {\n",
       "        vertical-align: middle;\n",
       "    }\n",
       "\n",
       "    .dataframe tbody tr th {\n",
       "        vertical-align: top;\n",
       "    }\n",
       "\n",
       "    .dataframe thead th {\n",
       "        text-align: right;\n",
       "    }\n",
       "</style>\n",
       "<table border=\"1\" class=\"dataframe\">\n",
       "  <thead>\n",
       "    <tr style=\"text-align: right;\">\n",
       "      <th></th>\n",
       "      <th>Manufacturer</th>\n",
       "      <th>CPU</th>\n",
       "      <th>Technology</th>\n",
       "      <th>Package</th>\n",
       "      <th>Beine</th>\n",
       "      <th>Uhr</th>\n",
       "      <th>Transistors</th>\n",
       "      <th>Year</th>\n",
       "      <th>test</th>\n",
       "    </tr>\n",
       "  </thead>\n",
       "  <tbody>\n",
       "    <tr>\n",
       "      <th>0</th>\n",
       "      <td>MOS</td>\n",
       "      <td>6502</td>\n",
       "      <td>NMOS</td>\n",
       "      <td>PDIP</td>\n",
       "      <td>40</td>\n",
       "      <td>1.0</td>\n",
       "      <td>3510.0</td>\n",
       "      <td>NaN</td>\n",
       "      <td>False</td>\n",
       "    </tr>\n",
       "    <tr>\n",
       "      <th>1</th>\n",
       "      <td>MOS</td>\n",
       "      <td>6502A</td>\n",
       "      <td>NMOS</td>\n",
       "      <td>PDIP</td>\n",
       "      <td>40</td>\n",
       "      <td>2.0</td>\n",
       "      <td>3510.0</td>\n",
       "      <td>NaN</td>\n",
       "      <td>False</td>\n",
       "    </tr>\n",
       "    <tr>\n",
       "      <th>2</th>\n",
       "      <td>MOS</td>\n",
       "      <td>6502B</td>\n",
       "      <td>NMOS</td>\n",
       "      <td>PDIP</td>\n",
       "      <td>40</td>\n",
       "      <td>3.0</td>\n",
       "      <td>NaN</td>\n",
       "      <td>NaN</td>\n",
       "      <td>False</td>\n",
       "    </tr>\n",
       "    <tr>\n",
       "      <th>3</th>\n",
       "      <td>Intel</td>\n",
       "      <td>8008</td>\n",
       "      <td>PMOS</td>\n",
       "      <td>PDIP</td>\n",
       "      <td>18</td>\n",
       "      <td>NaN</td>\n",
       "      <td>3500.0</td>\n",
       "      <td>1972.0</td>\n",
       "      <td>False</td>\n",
       "    </tr>\n",
       "    <tr>\n",
       "      <th>4</th>\n",
       "      <td>Intel</td>\n",
       "      <td>8080</td>\n",
       "      <td>NMOS</td>\n",
       "      <td>CDIP</td>\n",
       "      <td>40</td>\n",
       "      <td>NaN</td>\n",
       "      <td>6000.0</td>\n",
       "      <td>1974.0</td>\n",
       "      <td>True</td>\n",
       "    </tr>\n",
       "    <tr>\n",
       "      <th>5</th>\n",
       "      <td>Zilog</td>\n",
       "      <td>Z80</td>\n",
       "      <td>NMOS</td>\n",
       "      <td>CDIP</td>\n",
       "      <td>40</td>\n",
       "      <td>2.5</td>\n",
       "      <td>8500.0</td>\n",
       "      <td>1976.0</td>\n",
       "      <td>True</td>\n",
       "    </tr>\n",
       "    <tr>\n",
       "      <th>6</th>\n",
       "      <td>Motorola</td>\n",
       "      <td>6800</td>\n",
       "      <td>NMOS</td>\n",
       "      <td>PDIP</td>\n",
       "      <td>40</td>\n",
       "      <td>1.0</td>\n",
       "      <td>4100.0</td>\n",
       "      <td>NaN</td>\n",
       "      <td>False</td>\n",
       "    </tr>\n",
       "    <tr>\n",
       "      <th>7</th>\n",
       "      <td>Motorola</td>\n",
       "      <td>6809</td>\n",
       "      <td>NMOS</td>\n",
       "      <td>PDIP</td>\n",
       "      <td>40</td>\n",
       "      <td>1.0</td>\n",
       "      <td>9000.0</td>\n",
       "      <td>1978.0</td>\n",
       "      <td>False</td>\n",
       "    </tr>\n",
       "    <tr>\n",
       "      <th>8</th>\n",
       "      <td>Motorola</td>\n",
       "      <td>68000</td>\n",
       "      <td>HMOS</td>\n",
       "      <td>PDIP</td>\n",
       "      <td>64</td>\n",
       "      <td>10.0</td>\n",
       "      <td>68000.0</td>\n",
       "      <td>1979.0</td>\n",
       "      <td>False</td>\n",
       "    </tr>\n",
       "  </tbody>\n",
       "</table>\n",
       "</div>"
      ],
      "text/plain": [
       "  Manufacturer    CPU Technology Package  Beine   Uhr  Transistors    Year  \\\n",
       "0          MOS   6502       NMOS    PDIP     40   1.0       3510.0     NaN   \n",
       "1          MOS  6502A       NMOS    PDIP     40   2.0       3510.0     NaN   \n",
       "2          MOS  6502B       NMOS    PDIP     40   3.0          NaN     NaN   \n",
       "3        Intel   8008       PMOS    PDIP     18   NaN       3500.0  1972.0   \n",
       "4        Intel   8080       NMOS    CDIP     40   NaN       6000.0  1974.0   \n",
       "5        Zilog    Z80       NMOS    CDIP     40   2.5       8500.0  1976.0   \n",
       "6     Motorola   6800       NMOS    PDIP     40   1.0       4100.0     NaN   \n",
       "7     Motorola   6809       NMOS    PDIP     40   1.0       9000.0  1978.0   \n",
       "8     Motorola  68000       HMOS    PDIP     64  10.0      68000.0  1979.0   \n",
       "\n",
       "    test  \n",
       "0  False  \n",
       "1  False  \n",
       "2  False  \n",
       "3  False  \n",
       "4   True  \n",
       "5   True  \n",
       "6  False  \n",
       "7  False  \n",
       "8  False  "
      ]
     },
     "execution_count": 22,
     "metadata": {},
     "output_type": "execute_result"
    }
   ],
   "source": [
    "c = cpu.copy()\n",
    "c[\"test\"] = c[\"Package\"] == \"CDIP\"\n",
    "c"
   ]
  },
  {
   "cell_type": "code",
   "execution_count": 23,
   "metadata": {},
   "outputs": [
    {
     "data": {
      "text/plain": [
       "0    False\n",
       "1    False\n",
       "2    False\n",
       "3    False\n",
       "4     True\n",
       "5     True\n",
       "6    False\n",
       "7    False\n",
       "8    False\n",
       "Name: Package, dtype: bool"
      ]
     },
     "execution_count": 23,
     "metadata": {},
     "output_type": "execute_result"
    }
   ],
   "source": [
    "c[\"Package\"] == \"CDIP\""
   ]
  },
  {
   "cell_type": "code",
   "execution_count": 24,
   "metadata": {},
   "outputs": [
    {
     "data": {
      "text/plain": [
       "<AxesSubplot:>"
      ]
     },
     "execution_count": 24,
     "metadata": {},
     "output_type": "execute_result"
    },
    {
     "data": {
      "image/png": "[encoded data removed]",
      "text/plain": [
       "<Figure size 432x288 with 1 Axes>"
      ]
     },
     "metadata": {
      "needs_background": "light"
     },
     "output_type": "display_data"
    }
   ],
   "source": [
    "table = pd.DataFrame([[2,1],[0,2],[2,3],[2,3],\n",
    "                      [2,2],[0,4],[2,1],[1,3]])\n",
    "table.rename(columns={0:\"x\", 1:\"y\"},inplace = True)\n",
    "table.plot.bar()"
   ]
  },
  {
   "cell_type": "code",
   "execution_count": 25,
   "metadata": {},
   "outputs": [
    {
     "data": {
      "text/plain": [
       "<AxesSubplot:>"
      ]
     },
     "execution_count": 25,
     "metadata": {},
     "output_type": "execute_result"
    },
    {
     "data": {
      "image/png": "[encoded data removed]",
      "text/plain": [
       "<Figure size 432x288 with 1 Axes>"
      ]
     },
     "metadata": {
      "needs_background": "light"
     },
     "output_type": "display_data"
    }
   ],
   "source": [
    "table.plot.line()"
   ]
  },
  {
   "cell_type": "code",
   "execution_count": 26,
   "metadata": {},
   "outputs": [
    {
     "data": {
      "text/plain": [
       "<AxesSubplot:>"
      ]
     },
     "execution_count": 26,
     "metadata": {},
     "output_type": "execute_result"
    },
    {
     "data": {
      "image/png": "[encoded data removed]",
      "text/plain": [
       "<Figure size 432x288 with 1 Axes>"
      ]
     },
     "metadata": {
      "needs_background": "light"
     },
     "output_type": "display_data"
    }
   ],
   "source": [
    "table.plot.bar()"
   ]
  },
  {
   "cell_type": "code",
   "execution_count": 27,
   "metadata": {},
   "outputs": [
    {
     "data": {
      "text/plain": [
       "<AxesSubplot:>"
      ]
     },
     "execution_count": 27,
     "metadata": {},
     "output_type": "execute_result"
    },
    {
     "data": {
      "image/png": "[encoded data removed]",
      "text/plain": [
       "<Figure size 432x288 with 1 Axes>"
      ]
     },
     "metadata": {
      "needs_background": "light"
     },
     "output_type": "display_data"
    }
   ],
   "source": [
    "cpu.plot.barh()"
   ]
  },
  {
   "cell_type": "code",
   "execution_count": 28,
   "metadata": {},
   "outputs": [
    {
     "data": {
      "text/plain": [
       "<AxesSubplot:ylabel='Frequency'>"
      ]
     },
     "execution_count": 28,
     "metadata": {},
     "output_type": "execute_result"
    },
    {
     "data": {
      "image/png": "[encoded data removed]",
      "text/plain": [
       "<Figure size 432x288 with 1 Axes>"
      ]
     },
     "metadata": {
      "needs_background": "light"
     },
     "output_type": "display_data"
    }
   ],
   "source": [
    "table.plot.hist()"
   ]
  },
  {
   "cell_type": "code",
   "execution_count": 29,
   "metadata": {},
   "outputs": [
    {
     "data": {
      "text/plain": [
       "<AxesSubplot:>"
      ]
     },
     "execution_count": 29,
     "metadata": {},
     "output_type": "execute_result"
    },
    {
     "data": {
      "image/png": "[encoded data removed]",
      "text/plain": [
       "<Figure size 432x288 with 1 Axes>"
      ]
     },
     "metadata": {
      "needs_background": "light"
     },
     "output_type": "display_data"
    }
   ],
   "source": [
    "table.plot.box()"
   ]
  },
  {
   "cell_type": "code",
   "execution_count": 30,
   "metadata": {},
   "outputs": [
    {
     "data": {
      "text/plain": [
       "<AxesSubplot:ylabel='Density'>"
      ]
     },
     "execution_count": 30,
     "metadata": {},
     "output_type": "execute_result"
    },
    {
     "data": {
      "image/png": "[encoded data removed]",
      "text/plain": [
       "<Figure size 432x288 with 1 Axes>"
      ]
     },
     "metadata": {
      "needs_background": "light"
     },
     "output_type": "display_data"
    },
    {
     "data": {
      "image/png": "[encoded data removed]",
      "text/plain": [
       "<Figure size 432x288 with 1 Axes>"
      ]
     },
     "metadata": {
      "needs_background": "light"
     },
     "output_type": "display_data"
    },
    {
     "data": {
      "image/png": "[encoded data removed]",
      "text/plain": [
       "<Figure size 432x288 with 1 Axes>"
      ]
     },
     "metadata": {
      "needs_background": "light"
     },
     "output_type": "display_data"
    }
   ],
   "source": [
    "table.plot.kde(logx=True)\n",
    "table.plot.kde(logy=True)\n",
    "table.plot.kde(loglog=True)"
   ]
  },
  {
   "cell_type": "code",
   "execution_count": 31,
   "metadata": {},
   "outputs": [
    {
     "data": {
      "text/plain": [
       "<AxesSubplot:title={'center':'my Plot'}>"
      ]
     },
     "execution_count": 31,
     "metadata": {},
     "output_type": "execute_result"
    },
    {
     "data": {
      "image/png": "[encoded data removed]",
      "text/plain": [
       "<Figure size 432x288 with 1 Axes>"
      ]
     },
     "metadata": {
      "needs_background": "light"
     },
     "output_type": "display_data"
    }
   ],
   "source": [
    "table = pd.DataFrame([[2,1,4],[0,2,4],[2,3,5],[2,3,3],\n",
    "                      [2,2,2],[0,4,2],[2,1,1],[1,3,1]])\n",
    "table.rename(columns={0:\"x\", 1:\"y\", 2: \"z\"},inplace = True)\n",
    "table.plot.area(title = \"my Plot\", color = [\"red\",'#00BB00'])"
   ]
  },
  {
   "cell_type": "code",
   "execution_count": 32,
   "metadata": {},
   "outputs": [
    {
     "data": {
      "text/plain": [
       "<AxesSubplot:ylabel='y'>"
      ]
     },
     "execution_count": 32,
     "metadata": {},
     "output_type": "execute_result"
    },
    {
     "data": {
      "image/png": "[encoded data removed]",
      "text/plain": [
       "<Figure size 432x288 with 1 Axes>"
      ]
     },
     "metadata": {},
     "output_type": "display_data"
    }
   ],
   "source": [
    "table = pd.DataFrame([[2,1,4],[0,2,4],[2,3,5],[2,3,3],\n",
    "                      [2,2,2],[0,4,2],[2,1,1],[1,3,1]])\n",
    "table.rename(columns={0:\"x\", 1:\"y\"},inplace = True)\n",
    "table.plot.pie(y='y')"
   ]
  },
  {
   "cell_type": "code",
   "execution_count": 33,
   "metadata": {},
   "outputs": [
    {
     "data": {
      "text/plain": [
       "<AxesSubplot:xlabel='x', ylabel='y'>"
      ]
     },
     "execution_count": 33,
     "metadata": {},
     "output_type": "execute_result"
    },
    {
     "data": {
      "image/png": "[encoded data removed]",
      "text/plain": [
       "<Figure size 432x288 with 1 Axes>"
      ]
     },
     "metadata": {
      "needs_background": "light"
     },
     "output_type": "display_data"
    }
   ],
   "source": [
    "table.plot.scatter(y='y', x='x')"
   ]
  },
  {
   "cell_type": "code",
   "execution_count": 34,
   "metadata": {},
   "outputs": [
    {
     "data": {
      "text/plain": [
       "<AxesSubplot:xlabel='x', ylabel='y'>"
      ]
     },
     "execution_count": 34,
     "metadata": {},
     "output_type": "execute_result"
    },
    {
     "data": {
      "image/png": "[encoded data removed]",
      "text/plain": [
       "<Figure size 432x288 with 2 Axes>"
      ]
     },
     "metadata": {
      "needs_background": "light"
     },
     "output_type": "display_data"
    }
   ],
   "source": [
    "table.plot.hexbin(y='y', x='x')"
   ]
  },
  {
   "cell_type": "code",
   "execution_count": 35,
   "metadata": {},
   "outputs": [
    {
     "data": {
      "text/plain": [
       "<AxesSubplot:>"
      ]
     },
     "execution_count": 35,
     "metadata": {},
     "output_type": "execute_result"
    },
    {
     "data": {
      "image/png": "[encoded data removed]",
      "text/plain": [
       "<Figure size 432x288 with 1 Axes>"
      ]
     },
     "metadata": {
      "needs_background": "light"
     },
     "output_type": "display_data"
    }
   ],
   "source": [
    "cpu.plot.box()"
   ]
  },
  {
   "cell_type": "code",
   "execution_count": 36,
   "metadata": {},
   "outputs": [
    {
     "data": {
      "text/plain": [
       "<AxesSubplot:>"
      ]
     },
     "execution_count": 36,
     "metadata": {},
     "output_type": "execute_result"
    },
    {
     "data": {
      "image/png": "[encoded data removed]",
      "text/plain": [
       "<Figure size 432x288 with 1 Axes>"
      ]
     },
     "metadata": {
      "needs_background": "light"
     },
     "output_type": "display_data"
    }
   ],
   "source": [
    "cpu[\"Beine\"].hist()"
   ]
  },
  {
   "cell_type": "code",
   "execution_count": 37,
   "metadata": {},
   "outputs": [
    {
     "data": {
      "text/plain": [
       "array([[<AxesSubplot:title={'center':'Beine'}>,\n",
       "        <AxesSubplot:title={'center':'Year'}>]], dtype=object)"
      ]
     },
     "execution_count": 37,
     "metadata": {},
     "output_type": "execute_result"
    },
    {
     "data": {
      "image/png": "[encoded data removed]",
      "text/plain": [
       "<Figure size 432x288 with 2 Axes>"
      ]
     },
     "metadata": {
      "needs_background": "light"
     },
     "output_type": "display_data"
    }
   ],
   "source": [
    "cpu[[\"Beine\",\"Year\"]].hist()"
   ]
  },
  {
   "cell_type": "code",
   "execution_count": 38,
   "metadata": {},
   "outputs": [
    {
     "data": {
      "text/plain": [
       "array([[<AxesSubplot:title={'center':'Beine'}>,\n",
       "        <AxesSubplot:title={'center':'Uhr'}>],\n",
       "       [<AxesSubplot:title={'center':'Transistors'}>,\n",
       "        <AxesSubplot:title={'center':'Year'}>]], dtype=object)"
      ]
     },
     "execution_count": 38,
     "metadata": {},
     "output_type": "execute_result"
    },
    {
     "data": {
      "image/png": "[encoded data removed]",
      "text/plain": [
       "<Figure size 432x288 with 4 Axes>"
      ]
     },
     "metadata": {
      "needs_background": "light"
     },
     "output_type": "display_data"
    }
   ],
   "source": [
    "cpu.hist()"
   ]
  },
  {
   "cell_type": "code",
   "execution_count": 39,
   "metadata": {},
   "outputs": [
    {
     "data": {
      "text/plain": [
       "<AxesSubplot:>"
      ]
     },
     "execution_count": 39,
     "metadata": {},
     "output_type": "execute_result"
    },
    {
     "data": {
      "image/png": "[encoded data removed]",
      "text/plain": [
       "<Figure size 432x288 with 1 Axes>"
      ]
     },
     "metadata": {
      "needs_background": "light"
     },
     "output_type": "display_data"
    }
   ],
   "source": [
    "cpu[\"Year\"].hist(bins= 3)"
   ]
  },
  {
   "cell_type": "code",
   "execution_count": 40,
   "metadata": {},
   "outputs": [
    {
     "data": {
      "text/plain": [
       "<AxesSubplot:>"
      ]
     },
     "execution_count": 40,
     "metadata": {},
     "output_type": "execute_result"
    },
    {
     "data": {
      "image/png": "[encoded data removed]",
      "text/plain": [
       "<Figure size 432x288 with 1 Axes>"
      ]
     },
     "metadata": {
      "needs_background": "light"
     },
     "output_type": "display_data"
    }
   ],
   "source": [
    "bins_array =(range (1970,1984))\n",
    "cpu[\"Year\"].hist(bins = bins_array)"
   ]
  },
  {
   "cell_type": "code",
   "execution_count": 41,
   "metadata": {},
   "outputs": [
    {
     "data": {
      "text/plain": [
       "<AxesSubplot:>"
      ]
     },
     "execution_count": 41,
     "metadata": {},
     "output_type": "execute_result"
    },
    {
     "data": {
      "image/png": "[encoded data removed]",
      "text/plain": [
       "<Figure size 432x288 with 1 Axes>"
      ]
     },
     "metadata": {
      "needs_background": "light"
     },
     "output_type": "display_data"
    }
   ],
   "source": [
    "cpu[\"Year\"].hist(bins= 5)"
   ]
  },
  {
   "cell_type": "code",
   "execution_count": 42,
   "metadata": {},
   "outputs": [
    {
     "data": {
      "text/plain": [
       "array([[<AxesSubplot:title={'center':'0'}>]], dtype=object)"
      ]
     },
     "execution_count": 42,
     "metadata": {},
     "output_type": "execute_result"
    },
    {
     "data": {
      "image/png": "[encoded data removed]",
      "text/plain": [
       "<Figure size 432x288 with 1 Axes>"
      ]
     },
     "metadata": {
      "needs_background": "light"
     },
     "output_type": "display_data"
    }
   ],
   "source": [
    "values = (range (0, 21,4))\n",
    "df = pd.DataFrame(values)\n",
    "df.hist(bins = 10)"
   ]
  },
  {
   "cell_type": "code",
   "execution_count": 43,
   "metadata": {},
   "outputs": [
    {
     "data": {
      "text/plain": [
       "array([[<AxesSubplot:title={'center':'18'}>,\n",
       "        <AxesSubplot:title={'center':'40'}>],\n",
       "       [<AxesSubplot:title={'center':'64'}>, <AxesSubplot:>]],\n",
       "      dtype=object)"
      ]
     },
     "execution_count": 43,
     "metadata": {},
     "output_type": "execute_result"
    },
    {
     "data": {
      "image/png": "[encoded data removed]",
      "text/plain": [
       "<Figure size 432x288 with 4 Axes>"
      ]
     },
     "metadata": {
      "needs_background": "light"
     },
     "output_type": "display_data"
    }
   ],
   "source": [
    "cpu.hist(by=\"Beine\")"
   ]
  },
  {
   "cell_type": "code",
   "execution_count": 44,
   "metadata": {},
   "outputs": [
    {
     "data": {
      "text/plain": [
       "array([[<AxesSubplot:title={'center':'0'}>]], dtype=object)"
      ]
     },
     "execution_count": 44,
     "metadata": {},
     "output_type": "execute_result"
    },
    {
     "data": {
      "image/png": "[encoded data removed]",
      "text/plain": [
       "<Figure size 432x288 with 1 Axes>"
      ]
     },
     "metadata": {
      "needs_background": "light"
     },
     "output_type": "display_data"
    }
   ],
   "source": [
    "import numpy as np\n",
    "values = (range (0, 21,4))\n",
    "df = pd.DataFrame(values)\n",
    "df.hist(bins=np.logspace(np.log10(1),np.log10(20.0), 10))"
   ]
  },
  {
   "cell_type": "code",
   "execution_count": 45,
   "metadata": {},
   "outputs": [],
   "source": [
    "hist(data, bins=np.logspace(np.log10(0.1),np.log10(1.0), 50))"
   ]
  },
  {
   "cell_type": "code",
   "execution_count": 46,
   "metadata": {},
   "outputs": [
    {
     "name": "stdout",
     "output_type": "stream",
     "text": [
      "<class 'pandas.core.frame.DataFrame'>\n",
      "RangeIndex: 9 entries, 0 to 8\n",
      "Data columns (total 8 columns):\n",
      " #   Column        Non-Null Count  Dtype  \n",
      "---  ------        --------------  -----  \n",
      " 0   Manufacturer  9 non-null      object \n",
      " 1   CPU           9 non-null      object \n",
      " 2   Technology    9 non-null      object \n",
      " 3   Package       9 non-null      object \n",
      " 4   Beine         9 non-null      int64  \n",
      " 5   Uhr           7 non-null      float64\n",
      " 6   Transistors   8 non-null      float64\n",
      " 7   Year          5 non-null      float64\n",
      "dtypes: float64(3), int64(1), object(4)\n",
      "memory usage: 704.0+ bytes\n",
      "None\n"
     ]
    }
   ],
   "source": [
    "print(cpu.info())"
   ]
  },
  {
   "cell_type": "code",
   "execution_count": 47,
   "metadata": {},
   "outputs": [
    {
     "data": {
      "text/html": [
       "<div>\n",
       "<style scoped>\n",
       "    .dataframe tbody tr th:only-of-type {\n",
       "        vertical-align: middle;\n",
       "    }\n",
       "\n",
       "    .dataframe tbody tr th {\n",
       "        vertical-align: top;\n",
       "    }\n",
       "\n",
       "    .dataframe thead th {\n",
       "        text-align: right;\n",
       "    }\n",
       "</style>\n",
       "<table border=\"1\" class=\"dataframe\">\n",
       "  <thead>\n",
       "    <tr style=\"text-align: right;\">\n",
       "      <th></th>\n",
       "      <th>Manufacturer</th>\n",
       "      <th>CPU</th>\n",
       "      <th>Technology</th>\n",
       "    </tr>\n",
       "  </thead>\n",
       "  <tbody>\n",
       "    <tr>\n",
       "      <th>0</th>\n",
       "      <td>MOS</td>\n",
       "      <td>6502</td>\n",
       "      <td>NMOS</td>\n",
       "    </tr>\n",
       "    <tr>\n",
       "      <th>1</th>\n",
       "      <td>MOS</td>\n",
       "      <td>6502A</td>\n",
       "      <td>NMOS</td>\n",
       "    </tr>\n",
       "    <tr>\n",
       "      <th>2</th>\n",
       "      <td>MOS</td>\n",
       "      <td>6502B</td>\n",
       "      <td>NMOS</td>\n",
       "    </tr>\n",
       "    <tr>\n",
       "      <th>3</th>\n",
       "      <td>Intel</td>\n",
       "      <td>8008</td>\n",
       "      <td>PMOS</td>\n",
       "    </tr>\n",
       "    <tr>\n",
       "      <th>4</th>\n",
       "      <td>Intel</td>\n",
       "      <td>8080</td>\n",
       "      <td>NMOS</td>\n",
       "    </tr>\n",
       "    <tr>\n",
       "      <th>5</th>\n",
       "      <td>Zilog</td>\n",
       "      <td>Z80</td>\n",
       "      <td>NMOS</td>\n",
       "    </tr>\n",
       "    <tr>\n",
       "      <th>6</th>\n",
       "      <td>Motorola</td>\n",
       "      <td>6800</td>\n",
       "      <td>NMOS</td>\n",
       "    </tr>\n",
       "    <tr>\n",
       "      <th>7</th>\n",
       "      <td>Motorola</td>\n",
       "      <td>6809</td>\n",
       "      <td>NMOS</td>\n",
       "    </tr>\n",
       "    <tr>\n",
       "      <th>8</th>\n",
       "      <td>Motorola</td>\n",
       "      <td>68000</td>\n",
       "      <td>HMOS</td>\n",
       "    </tr>\n",
       "  </tbody>\n",
       "</table>\n",
       "</div>"
      ],
      "text/plain": [
       "  Manufacturer    CPU Technology\n",
       "0          MOS   6502       NMOS\n",
       "1          MOS  6502A       NMOS\n",
       "2          MOS  6502B       NMOS\n",
       "3        Intel   8008       PMOS\n",
       "4        Intel   8080       NMOS\n",
       "5        Zilog    Z80       NMOS\n",
       "6     Motorola   6800       NMOS\n",
       "7     Motorola   6809       NMOS\n",
       "8     Motorola  68000       HMOS"
      ]
     },
     "execution_count": 47,
     "metadata": {},
     "output_type": "execute_result"
    }
   ],
   "source": [
    "cpu[[\"Manufacturer\",\"CPU\",\"Technology\"]]"
   ]
  },
  {
   "cell_type": "code",
   "execution_count": 48,
   "metadata": {},
   "outputs": [
    {
     "name": "stdout",
     "output_type": "stream",
     "text": [
      "Empty DataFrame\n",
      "Columns: []\n",
      "Index: []\n"
     ]
    }
   ],
   "source": [
    "df =pd.DataFrame({})\n",
    "print(df)"
   ]
  },
  {
   "cell_type": "code",
   "execution_count": 49,
   "metadata": {},
   "outputs": [
    {
     "name": "stdout",
     "output_type": "stream",
     "text": [
      "     Name   Farbe\n",
      "0   Apfel     rot\n",
      "1  Banane    gelb\n",
      "2  Orange  orange\n"
     ]
    }
   ],
   "source": [
    "df =pd.DataFrame({\"Name\":[\"Apfel\",\"Banane\",\"Orange\"],\n",
    "                 \"Farbe\":(\"rot\",\"gelb\",\"orange\")})\n",
    "print(df)"
   ]
  },
  {
   "cell_type": "code",
   "execution_count": null,
   "metadata": {},
   "outputs": [],
   "source": []
  },
  {
   "cell_type": "code",
   "execution_count": 50,
   "metadata": {},
   "outputs": [
    {
     "name": "stdout",
     "output_type": "stream",
     "text": [
      "                Name   Farbe\n",
      "0      [Apfel, Kiwi]    grün\n",
      "1  [Banane, Zitrone]    gelb\n",
      "2             Orange  orange\n"
     ]
    },
    {
     "data": {
      "text/html": [
       "<div>\n",
       "<style scoped>\n",
       "    .dataframe tbody tr th:only-of-type {\n",
       "        vertical-align: middle;\n",
       "    }\n",
       "\n",
       "    .dataframe tbody tr th {\n",
       "        vertical-align: top;\n",
       "    }\n",
       "\n",
       "    .dataframe thead th {\n",
       "        text-align: right;\n",
       "    }\n",
       "</style>\n",
       "<table border=\"1\" class=\"dataframe\">\n",
       "  <thead>\n",
       "    <tr style=\"text-align: right;\">\n",
       "      <th></th>\n",
       "      <th>Name</th>\n",
       "      <th>Farbe</th>\n",
       "    </tr>\n",
       "  </thead>\n",
       "  <tbody>\n",
       "    <tr>\n",
       "      <th>0</th>\n",
       "      <td>Apfel</td>\n",
       "      <td>grün</td>\n",
       "    </tr>\n",
       "    <tr>\n",
       "      <th>0</th>\n",
       "      <td>Kiwi</td>\n",
       "      <td>grün</td>\n",
       "    </tr>\n",
       "    <tr>\n",
       "      <th>1</th>\n",
       "      <td>Banane</td>\n",
       "      <td>gelb</td>\n",
       "    </tr>\n",
       "    <tr>\n",
       "      <th>1</th>\n",
       "      <td>Zitrone</td>\n",
       "      <td>gelb</td>\n",
       "    </tr>\n",
       "    <tr>\n",
       "      <th>2</th>\n",
       "      <td>Orange</td>\n",
       "      <td>orange</td>\n",
       "    </tr>\n",
       "  </tbody>\n",
       "</table>\n",
       "</div>"
      ],
      "text/plain": [
       "      Name   Farbe\n",
       "0    Apfel    grün\n",
       "0     Kiwi    grün\n",
       "1   Banane    gelb\n",
       "1  Zitrone    gelb\n",
       "2   Orange  orange"
      ]
     },
     "execution_count": 50,
     "metadata": {},
     "output_type": "execute_result"
    }
   ],
   "source": [
    "df =pd.DataFrame({\"Name\":[[\"Apfel\",\"Kiwi\"],[\"Banane\",\"Zitrone\"],\"Orange\"],\n",
    "                 \"Farbe\":(\"grün\",\"gelb\",\"orange\")})\n",
    "print(df)\n",
    "df.explode(\"Name\")"
   ]
  },
  {
   "cell_type": "code",
   "execution_count": 51,
   "metadata": {},
   "outputs": [
    {
     "name": "stdout",
     "output_type": "stream",
     "text": [
      "['Apfel', nan, 'Orange', 'Zitrone']\n"
     ]
    }
   ],
   "source": [
    "import numpy as np\n",
    "liste = [\"Apfel\",np.nan,\"Orange\",\"Zitrone\"]\n",
    "print(liste)"
   ]
  },
  {
   "cell_type": "code",
   "execution_count": 52,
   "metadata": {},
   "outputs": [
    {
     "name": "stdout",
     "output_type": "stream",
     "text": [
      "Name         4\n",
      "Farbe        4\n",
      "Geschmack    3\n",
      "Gewicht      4\n",
      "dtype: int64\n"
     ]
    }
   ],
   "source": [
    "\n",
    "df = pd.DataFrame({\"Name\":[\"Apfel\",\"Banane\",\"Orange\",\"Zitrone\"],\n",
    "                 \"Farbe\":(\"rot\",\"gelb\",\"orange\",\"gelb\"),\n",
    "                 \"Geschmack\":[\"Sauer\",np.nan, \"Perfekt\",\"Sauer\"],\n",
    "                  \"Gewicht\":(185,190,160,80)})\n",
    "\n",
    "print(df.count())"
   ]
  },
  {
   "cell_type": "code",
   "execution_count": 53,
   "metadata": {},
   "outputs": [
    {
     "name": "stdout",
     "output_type": "stream",
     "text": [
      "0    4\n",
      "1    3\n",
      "2    4\n",
      "3    4\n",
      "dtype: int64\n"
     ]
    }
   ],
   "source": [
    "print(df.count(axis = 1))"
   ]
  },
  {
   "cell_type": "code",
   "execution_count": 54,
   "metadata": {},
   "outputs": [
    {
     "name": "stdout",
     "output_type": "stream",
     "text": [
      "      Name   Farbe Geschmack  Gewicht\n",
      "0    Apfel     rot     Sauer      185\n",
      "1   Banane    gelb      Kein      190\n",
      "2   Orange  orange   Perfekt      160\n",
      "3  Zitrone    gelb     Sauer       80 \n",
      "\n",
      "           Name Geschmack  Gewicht\n",
      "Farbe                             \n",
      "rot       Apfel     Sauer      185\n",
      "gelb     Banane      Kein      190\n",
      "orange   Orange   Perfekt      160\n",
      "gelb    Zitrone     Sauer       80\n"
     ]
    }
   ],
   "source": [
    "df =pd.DataFrame({\"Name\":[\"Apfel\",\"Banane\",\"Orange\",\"Zitrone\"],\n",
    "                 \"Farbe\":(\"rot\",\"gelb\",\"orange\",\"gelb\"),\n",
    "                 \"Geschmack\":[\"Sauer\",\"Kein\",\"Perfekt\",\"Sauer\"],\n",
    "                  \"Gewicht\":(185,190,160,80)})\n",
    "\n",
    "print(df,\"\\n\")\n",
    "print(df.set_index(\"Farbe\"))"
   ]
  },
  {
   "cell_type": "code",
   "execution_count": 55,
   "metadata": {},
   "outputs": [
    {
     "name": "stdout",
     "output_type": "stream",
     "text": [
      "           Name Geschmack  Gewicht\n",
      "Farbe                             \n",
      "rot       Apfel     Sauer      185\n",
      "gelb     Banane      Kein      190\n",
      "orange   Orange   Perfekt      160\n",
      "gelb    Zitrone     Sauer       80\n",
      "           Name Geschmack  Gewicht\n",
      "Farbe                             \n",
      "rot       Apfel     Sauer      185\n",
      "gelb     Banane      Kein      190\n",
      "orange   Orange   Perfekt      160\n",
      "gelb    Zitrone     Sauer       80\n"
     ]
    }
   ],
   "source": [
    "df = df.set_index(\"Farbe\")\n",
    "print(df)\n",
    "df = df.reindex()\n",
    "print(df)"
   ]
  },
  {
   "cell_type": "code",
   "execution_count": 56,
   "metadata": {},
   "outputs": [
    {
     "ename": "KeyError",
     "evalue": "\"None of ['Farbe'] are in the columns\"",
     "output_type": "error",
     "traceback": [
      "\u001b[0;31m---------------------------------------------------------------------------\u001b[0m",
      "\u001b[0;31mKeyError\u001b[0m                                  Traceback (most recent call last)",
      "\u001b[1;32m/Users/karanjitsingh/Documents/GitHub/ml-kurs-ss22/Scripts/PandasTutorial.ipynb Cell 47'\u001b[0m in \u001b[0;36m<cell line: 3>\u001b[0;34m()\u001b[0m\n\u001b[1;32m      <a href='vscode-notebook-cell:/Users/karanjitsingh/Documents/GitHub/ml-kurs-ss22/Scripts/PandasTutorial.ipynb#ch0000046?line=0'>1</a>\u001b[0m c\n\u001b[0;32m----> <a href='vscode-notebook-cell:/Users/karanjitsingh/Documents/GitHub/ml-kurs-ss22/Scripts/PandasTutorial.ipynb#ch0000046?line=2'>3</a>\u001b[0m df \u001b[39m=\u001b[39m df\u001b[39m.\u001b[39;49mset_index(\u001b[39m\"\u001b[39;49m\u001b[39mFarbe\u001b[39;49m\u001b[39m\"\u001b[39;49m)\n\u001b[1;32m      <a href='vscode-notebook-cell:/Users/karanjitsingh/Documents/GitHub/ml-kurs-ss22/Scripts/PandasTutorial.ipynb#ch0000046?line=3'>4</a>\u001b[0m \u001b[39mprint\u001b[39m(df\u001b[39m.\u001b[39mloc[\u001b[39m\"\u001b[39m\u001b[39mgelb\u001b[39m\u001b[39m\"\u001b[39m])\n",
      "File \u001b[0;32m~/miniconda3/envs/ml-env/lib/python3.8/site-packages/pandas/util/_decorators.py:311\u001b[0m, in \u001b[0;36mdeprecate_nonkeyword_arguments.<locals>.decorate.<locals>.wrapper\u001b[0;34m(*args, **kwargs)\u001b[0m\n\u001b[1;32m    <a href='file:///Users/karanjitsingh/miniconda3/envs/ml-env/lib/python3.8/site-packages/pandas/util/_decorators.py?line=304'>305</a>\u001b[0m \u001b[39mif\u001b[39;00m \u001b[39mlen\u001b[39m(args) \u001b[39m>\u001b[39m num_allow_args:\n\u001b[1;32m    <a href='file:///Users/karanjitsingh/miniconda3/envs/ml-env/lib/python3.8/site-packages/pandas/util/_decorators.py?line=305'>306</a>\u001b[0m     warnings\u001b[39m.\u001b[39mwarn(\n\u001b[1;32m    <a href='file:///Users/karanjitsingh/miniconda3/envs/ml-env/lib/python3.8/site-packages/pandas/util/_decorators.py?line=306'>307</a>\u001b[0m         msg\u001b[39m.\u001b[39mformat(arguments\u001b[39m=\u001b[39marguments),\n\u001b[1;32m    <a href='file:///Users/karanjitsingh/miniconda3/envs/ml-env/lib/python3.8/site-packages/pandas/util/_decorators.py?line=307'>308</a>\u001b[0m         \u001b[39mFutureWarning\u001b[39;00m,\n\u001b[1;32m    <a href='file:///Users/karanjitsingh/miniconda3/envs/ml-env/lib/python3.8/site-packages/pandas/util/_decorators.py?line=308'>309</a>\u001b[0m         stacklevel\u001b[39m=\u001b[39mstacklevel,\n\u001b[1;32m    <a href='file:///Users/karanjitsingh/miniconda3/envs/ml-env/lib/python3.8/site-packages/pandas/util/_decorators.py?line=309'>310</a>\u001b[0m     )\n\u001b[0;32m--> <a href='file:///Users/karanjitsingh/miniconda3/envs/ml-env/lib/python3.8/site-packages/pandas/util/_decorators.py?line=310'>311</a>\u001b[0m \u001b[39mreturn\u001b[39;00m func(\u001b[39m*\u001b[39;49margs, \u001b[39m*\u001b[39;49m\u001b[39m*\u001b[39;49mkwargs)\n",
      "File \u001b[0;32m~/miniconda3/envs/ml-env/lib/python3.8/site-packages/pandas/core/frame.py:5488\u001b[0m, in \u001b[0;36mDataFrame.set_index\u001b[0;34m(self, keys, drop, append, inplace, verify_integrity)\u001b[0m\n\u001b[1;32m   <a href='file:///Users/karanjitsingh/miniconda3/envs/ml-env/lib/python3.8/site-packages/pandas/core/frame.py?line=5484'>5485</a>\u001b[0m                 missing\u001b[39m.\u001b[39mappend(col)\n\u001b[1;32m   <a href='file:///Users/karanjitsingh/miniconda3/envs/ml-env/lib/python3.8/site-packages/pandas/core/frame.py?line=5486'>5487</a>\u001b[0m \u001b[39mif\u001b[39;00m missing:\n\u001b[0;32m-> <a href='file:///Users/karanjitsingh/miniconda3/envs/ml-env/lib/python3.8/site-packages/pandas/core/frame.py?line=5487'>5488</a>\u001b[0m     \u001b[39mraise\u001b[39;00m \u001b[39mKeyError\u001b[39;00m(\u001b[39mf\u001b[39m\u001b[39m\"\u001b[39m\u001b[39mNone of \u001b[39m\u001b[39m{\u001b[39;00mmissing\u001b[39m}\u001b[39;00m\u001b[39m are in the columns\u001b[39m\u001b[39m\"\u001b[39m)\n\u001b[1;32m   <a href='file:///Users/karanjitsingh/miniconda3/envs/ml-env/lib/python3.8/site-packages/pandas/core/frame.py?line=5489'>5490</a>\u001b[0m \u001b[39mif\u001b[39;00m inplace:\n\u001b[1;32m   <a href='file:///Users/karanjitsingh/miniconda3/envs/ml-env/lib/python3.8/site-packages/pandas/core/frame.py?line=5490'>5491</a>\u001b[0m     frame \u001b[39m=\u001b[39m \u001b[39mself\u001b[39m\n",
      "\u001b[0;31mKeyError\u001b[0m: \"None of ['Farbe'] are in the columns\""
     ]
    }
   ],
   "source": [
    "c\n",
    "\n",
    "df = df.set_index(\"Farbe\")\n",
    "print(df.loc[\"gelb\"])"
   ]
  },
  {
   "cell_type": "code",
   "execution_count": null,
   "metadata": {},
   "outputs": [
    {
     "name": "stdout",
     "output_type": "stream",
     "text": [
      "          Name Geschmack  Gewicht\n",
      "Farbe                            \n",
      "orange  Orange   Perfekt      160\n",
      "rot      Apfel     Sauer      185\n"
     ]
    }
   ],
   "source": [
    "print(df.loc[{\"rot\",\"orange\"}])"
   ]
  },
  {
   "cell_type": "code",
   "execution_count": null,
   "metadata": {},
   "outputs": [
    {
     "name": "stdout",
     "output_type": "stream",
     "text": [
      "          Name Geschmack  Gewicht\n",
      "Farbe                            \n",
      "rot      Apfel     Sauer      185\n",
      "orange  Orange   Perfekt      160\n"
     ]
    }
   ],
   "source": [
    "print(df.loc[[\"rot\",\"orange\"]])"
   ]
  },
  {
   "cell_type": "code",
   "execution_count": null,
   "metadata": {},
   "outputs": [
    {
     "name": "stdout",
     "output_type": "stream",
     "text": [
      "          Name Geschmack  Gewicht\n",
      "Farbe                            \n",
      "rot      Apfel     Sauer      185\n",
      "gelb    Banane      Kein      190\n",
      "orange  Orange   Perfekt      160\n"
     ]
    }
   ],
   "source": [
    "print(df.loc[\"rot\":\"orange\"])"
   ]
  },
  {
   "cell_type": "code",
   "execution_count": null,
   "metadata": {},
   "outputs": [],
   "source": []
  },
  {
   "cell_type": "code",
   "execution_count": null,
   "metadata": {},
   "outputs": [
    {
     "name": "stdout",
     "output_type": "stream",
     "text": [
      "           Name Geschmack  Gewicht\n",
      "Farbe                             \n",
      "rot       Apfel     Sauer      185\n",
      "gelb     Banane      Kein      190\n",
      "orange   Orange   Perfekt      160\n",
      "gelb    Zitrone     Sauer       80\n"
     ]
    }
   ],
   "source": [
    "print(df.loc[[True,True,True,True]])"
   ]
  },
  {
   "cell_type": "code",
   "execution_count": null,
   "metadata": {},
   "outputs": [
    {
     "name": "stdout",
     "output_type": "stream",
     "text": [
      "          Name Geschmack  Gewicht\n",
      "Farbe                            \n",
      "gelb    Banane      Kein      190\n",
      "gelb   Zitrone     Sauer       80\n"
     ]
    }
   ],
   "source": [
    "print(df.loc[[False,True,False,True]])"
   ]
  },
  {
   "cell_type": "code",
   "execution_count": null,
   "metadata": {},
   "outputs": [
    {
     "name": "stdout",
     "output_type": "stream",
     "text": [
      "         Name Geschmack  Gewicht\n",
      "Farbe                           \n",
      "rot     Apfel     Sauer      185\n",
      "gelb   Banane      Kein      190\n"
     ]
    }
   ],
   "source": [
    "print(df.loc[df[\"Gewicht\"] > 160])"
   ]
  },
  {
   "cell_type": "code",
   "execution_count": null,
   "metadata": {},
   "outputs": [
    {
     "name": "stdout",
     "output_type": "stream",
     "text": [
      "Sauer\n"
     ]
    }
   ],
   "source": [
    "print(df.loc[\"rot\",\"Geschmack\"])"
   ]
  },
  {
   "cell_type": "code",
   "execution_count": null,
   "metadata": {},
   "outputs": [],
   "source": []
  },
  {
   "cell_type": "code",
   "execution_count": null,
   "metadata": {},
   "outputs": [
    {
     "data": {
      "text/plain": [
       "Name         Apfel\n",
       "Farbe          rot\n",
       "Geschmack    Sauer\n",
       "Gewicht        185\n",
       "Name: 0, dtype: object"
      ]
     },
     "execution_count": 60,
     "metadata": {},
     "output_type": "execute_result"
    }
   ],
   "source": [
    "df =pd.DataFrame({\"Name\":[\"Apfel\",\"Banane\",\"Orange\",\"Zitrone\",\"Kiwi\"],\n",
    "                 \"Farbe\":(\"rot\",\"gelb\",\"orange\",\"gelb\",\"grün\"),\n",
    "                 \"Geschmack\":[\"Sauer\",\"Kein\",\"Perfekt\",\"Sauer\",\"Sauer\"],\n",
    "                  \"Gewicht\":(185,190,160,80,90)})\n",
    "\n",
    "df.iloc[0]"
   ]
  },
  {
   "cell_type": "code",
   "execution_count": null,
   "metadata": {},
   "outputs": [
    {
     "data": {
      "text/html": [
       "<div>\n",
       "<style scoped>\n",
       "    .dataframe tbody tr th:only-of-type {\n",
       "        vertical-align: middle;\n",
       "    }\n",
       "\n",
       "    .dataframe tbody tr th {\n",
       "        vertical-align: top;\n",
       "    }\n",
       "\n",
       "    .dataframe thead th {\n",
       "        text-align: right;\n",
       "    }\n",
       "</style>\n",
       "<table border=\"1\" class=\"dataframe\">\n",
       "  <thead>\n",
       "    <tr style=\"text-align: right;\">\n",
       "      <th></th>\n",
       "      <th>Name</th>\n",
       "      <th>Farbe</th>\n",
       "      <th>Geschmack</th>\n",
       "      <th>Gewicht</th>\n",
       "    </tr>\n",
       "  </thead>\n",
       "  <tbody>\n",
       "    <tr>\n",
       "      <th>0</th>\n",
       "      <td>Apfel</td>\n",
       "      <td>rot</td>\n",
       "      <td>Sauer</td>\n",
       "      <td>185</td>\n",
       "    </tr>\n",
       "    <tr>\n",
       "      <th>3</th>\n",
       "      <td>Zitrone</td>\n",
       "      <td>gelb</td>\n",
       "      <td>Sauer</td>\n",
       "      <td>80</td>\n",
       "    </tr>\n",
       "  </tbody>\n",
       "</table>\n",
       "</div>"
      ],
      "text/plain": [
       "      Name Farbe Geschmack  Gewicht\n",
       "0    Apfel   rot     Sauer      185\n",
       "3  Zitrone  gelb     Sauer       80"
      ]
     },
     "execution_count": 61,
     "metadata": {},
     "output_type": "execute_result"
    }
   ],
   "source": [
    "df.iloc[[0,3]]"
   ]
  },
  {
   "cell_type": "code",
   "execution_count": null,
   "metadata": {},
   "outputs": [],
   "source": []
  },
  {
   "cell_type": "code",
   "execution_count": null,
   "metadata": {},
   "outputs": [
    {
     "data": {
      "text/html": [
       "<div>\n",
       "<style scoped>\n",
       "    .dataframe tbody tr th:only-of-type {\n",
       "        vertical-align: middle;\n",
       "    }\n",
       "\n",
       "    .dataframe tbody tr th {\n",
       "        vertical-align: top;\n",
       "    }\n",
       "\n",
       "    .dataframe thead th {\n",
       "        text-align: right;\n",
       "    }\n",
       "</style>\n",
       "<table border=\"1\" class=\"dataframe\">\n",
       "  <thead>\n",
       "    <tr style=\"text-align: right;\">\n",
       "      <th></th>\n",
       "      <th>Name</th>\n",
       "      <th>Farbe</th>\n",
       "      <th>Geschmack</th>\n",
       "      <th>Gewicht</th>\n",
       "    </tr>\n",
       "  </thead>\n",
       "  <tbody>\n",
       "    <tr>\n",
       "      <th>0</th>\n",
       "      <td>Apfel</td>\n",
       "      <td>rot</td>\n",
       "      <td>Sauer</td>\n",
       "      <td>185</td>\n",
       "    </tr>\n",
       "    <tr>\n",
       "      <th>1</th>\n",
       "      <td>Banane</td>\n",
       "      <td>gelb</td>\n",
       "      <td>Kein</td>\n",
       "      <td>190</td>\n",
       "    </tr>\n",
       "  </tbody>\n",
       "</table>\n",
       "</div>"
      ],
      "text/plain": [
       "     Name Farbe Geschmack  Gewicht\n",
       "0   Apfel   rot     Sauer      185\n",
       "1  Banane  gelb      Kein      190"
      ]
     },
     "execution_count": 62,
     "metadata": {},
     "output_type": "execute_result"
    }
   ],
   "source": [
    "df.iloc[0:2]"
   ]
  },
  {
   "cell_type": "code",
   "execution_count": null,
   "metadata": {},
   "outputs": [],
   "source": []
  },
  {
   "cell_type": "code",
   "execution_count": null,
   "metadata": {},
   "outputs": [
    {
     "name": "stdout",
     "output_type": "stream",
     "text": [
      "die Zitrone ist Sauer\n"
     ]
    }
   ],
   "source": [
    "print (\"die\",df.iloc[3,0],\"ist\",df.iloc[3,2])"
   ]
  },
  {
   "cell_type": "code",
   "execution_count": null,
   "metadata": {},
   "outputs": [
    {
     "name": "stdout",
     "output_type": "stream",
     "text": [
      "['Name', 'Farbe', 'Geschmack', 'Gewicht']\n"
     ]
    },
    {
     "data": {
      "text/html": [
       "<div>\n",
       "<style scoped>\n",
       "    .dataframe tbody tr th:only-of-type {\n",
       "        vertical-align: middle;\n",
       "    }\n",
       "\n",
       "    .dataframe tbody tr th {\n",
       "        vertical-align: top;\n",
       "    }\n",
       "\n",
       "    .dataframe thead th {\n",
       "        text-align: right;\n",
       "    }\n",
       "</style>\n",
       "<table border=\"1\" class=\"dataframe\">\n",
       "  <thead>\n",
       "    <tr style=\"text-align: right;\">\n",
       "      <th></th>\n",
       "      <th>Farbe</th>\n",
       "      <th>Geschmack</th>\n",
       "    </tr>\n",
       "  </thead>\n",
       "  <tbody>\n",
       "    <tr>\n",
       "      <th>0</th>\n",
       "      <td>rot</td>\n",
       "      <td>Sauer</td>\n",
       "    </tr>\n",
       "    <tr>\n",
       "      <th>2</th>\n",
       "      <td>orange</td>\n",
       "      <td>Perfekt</td>\n",
       "    </tr>\n",
       "  </tbody>\n",
       "</table>\n",
       "</div>"
      ],
      "text/plain": [
       "    Farbe Geschmack\n",
       "0     rot     Sauer\n",
       "2  orange   Perfekt"
      ]
     },
     "execution_count": 64,
     "metadata": {},
     "output_type": "execute_result"
    }
   ],
   "source": [
    "collumns = list(df.columns.values.tolist())\n",
    "print(collumns)\n",
    "\n",
    "geschmack = collumns.index(\"Geschmack\")\n",
    "df.iloc[[0,2],[1,geschmack]]"
   ]
  },
  {
   "cell_type": "code",
   "execution_count": null,
   "metadata": {},
   "outputs": [
    {
     "data": {
      "text/html": [
       "<div>\n",
       "<style scoped>\n",
       "    .dataframe tbody tr th:only-of-type {\n",
       "        vertical-align: middle;\n",
       "    }\n",
       "\n",
       "    .dataframe tbody tr th {\n",
       "        vertical-align: top;\n",
       "    }\n",
       "\n",
       "    .dataframe thead th {\n",
       "        text-align: right;\n",
       "    }\n",
       "</style>\n",
       "<table border=\"1\" class=\"dataframe\">\n",
       "  <thead>\n",
       "    <tr style=\"text-align: right;\">\n",
       "      <th></th>\n",
       "      <th>Name</th>\n",
       "      <th>Farbe</th>\n",
       "      <th>Geschmack</th>\n",
       "      <th>Gewicht</th>\n",
       "    </tr>\n",
       "  </thead>\n",
       "  <tbody>\n",
       "    <tr>\n",
       "      <th>0</th>\n",
       "      <td>Apfel</td>\n",
       "      <td>rot</td>\n",
       "      <td>Sauer</td>\n",
       "      <td>185</td>\n",
       "    </tr>\n",
       "    <tr>\n",
       "      <th>3</th>\n",
       "      <td>Zitrone</td>\n",
       "      <td>gelb</td>\n",
       "      <td>Sauer</td>\n",
       "      <td>80</td>\n",
       "    </tr>\n",
       "  </tbody>\n",
       "</table>\n",
       "</div>"
      ],
      "text/plain": [
       "      Name Farbe Geschmack  Gewicht\n",
       "0    Apfel   rot     Sauer      185\n",
       "3  Zitrone  gelb     Sauer       80"
      ]
     },
     "execution_count": 66,
     "metadata": {},
     "output_type": "execute_result"
    }
   ],
   "source": [
    "df.iloc[[True,False, False, True, False]]"
   ]
  },
  {
   "cell_type": "code",
   "execution_count": null,
   "metadata": {},
   "outputs": [
    {
     "data": {
      "text/html": [
       "<div>\n",
       "<style scoped>\n",
       "    .dataframe tbody tr th:only-of-type {\n",
       "        vertical-align: middle;\n",
       "    }\n",
       "\n",
       "    .dataframe tbody tr th {\n",
       "        vertical-align: top;\n",
       "    }\n",
       "\n",
       "    .dataframe thead th {\n",
       "        text-align: right;\n",
       "    }\n",
       "</style>\n",
       "<table border=\"1\" class=\"dataframe\">\n",
       "  <thead>\n",
       "    <tr style=\"text-align: right;\">\n",
       "      <th></th>\n",
       "      <th>Name</th>\n",
       "      <th>Farbe</th>\n",
       "      <th>Geschmack</th>\n",
       "      <th>Gewicht</th>\n",
       "    </tr>\n",
       "  </thead>\n",
       "  <tbody>\n",
       "    <tr>\n",
       "      <th>1</th>\n",
       "      <td>Banane</td>\n",
       "      <td>gelb</td>\n",
       "      <td>Kein</td>\n",
       "      <td>190</td>\n",
       "    </tr>\n",
       "    <tr>\n",
       "      <th>3</th>\n",
       "      <td>Zitrone</td>\n",
       "      <td>gelb</td>\n",
       "      <td>Sauer</td>\n",
       "      <td>80</td>\n",
       "    </tr>\n",
       "  </tbody>\n",
       "</table>\n",
       "</div>"
      ],
      "text/plain": [
       "      Name Farbe Geschmack  Gewicht\n",
       "1   Banane  gelb      Kein      190\n",
       "3  Zitrone  gelb     Sauer       80"
      ]
     },
     "execution_count": 67,
     "metadata": {},
     "output_type": "execute_result"
    }
   ],
   "source": [
    "df.iloc[lambda x: x.index % 2 > 0]"
   ]
  },
  {
   "cell_type": "code",
   "execution_count": null,
   "metadata": {},
   "outputs": [],
   "source": []
  },
  {
   "cell_type": "code",
   "execution_count": null,
   "metadata": {},
   "outputs": [
    {
     "name": "stdout",
     "output_type": "stream",
     "text": [
      "<class 'pandas.core.series.Series'>\n",
      "<class 'pandas.core.series.Series'>\n",
      "<class 'pandas.core.series.Series'>\n",
      "            0           1\n",
      "0   Apfelchen     rotchen\n",
      "1  Bananechen    gelbchen\n",
      "2  Orangechen  orangechen \n",
      "\n",
      "<class 'str'>\n",
      "<class 'str'>\n",
      "<class 'str'>\n",
      "       0      1      2      3      4      5\n",
      "0  rchen  ochen  tchen    NaN    NaN    NaN\n",
      "1  gchen  echen  lchen  bchen    NaN    NaN\n",
      "2  ochen  rchen  achen  nchen  gchen  echen\n"
     ]
    }
   ],
   "source": [
    "def funktionchen(data):\n",
    "    value = []\n",
    "    print(type(data))\n",
    "    for iteration in data: \n",
    "        value.append(iteration + \"chen\")\n",
    "    return(pd.Series(value))\n",
    "\n",
    "df =pd.DataFrame({\"Name\":[\"Apfel\",\"Banane\",\"Orange\"],\n",
    "                 \"Farbe\":(\"rot\",\"gelb\",\"orange\")})\n",
    "\n",
    "print(df.apply(funktionchen, axis = 1),\"\\n\")\n",
    "print(df[\"Farbe\"].apply(funktionchen))"
   ]
  },
  {
   "cell_type": "code",
   "execution_count": null,
   "metadata": {},
   "outputs": [],
   "source": []
  },
  {
   "cell_type": "code",
   "execution_count": null,
   "metadata": {},
   "outputs": [
    {
     "name": "stdout",
     "output_type": "stream",
     "text": [
      "0     Apfel\n",
      "1    Banane\n",
      "2    Orange\n",
      "Name: Name, dtype: object\n"
     ]
    }
   ],
   "source": [
    "print(df[\"Name\"])"
   ]
  },
  {
   "cell_type": "code",
   "execution_count": null,
   "metadata": {},
   "outputs": [
    {
     "name": "stdout",
     "output_type": "stream",
     "text": [
      "     Name   Farbe\n",
      "0   Apfel     rot\n",
      "1  Banane    gelb\n",
      "2  Orange  orange\n",
      "\n",
      "      Name   Farbe Geschmack\n",
      "0   Apfel     rot     Sauer\n",
      "1  Banane    gelb      Kein\n",
      "2  Orange  orange   Perfekt\n"
     ]
    }
   ],
   "source": [
    "print(df)\n",
    "df[\"Geschmack\"]=[\"Sauer\",\"Kein\",\"Perfekt\"]\n",
    "print(\"\\n\",df)"
   ]
  },
  {
   "cell_type": "code",
   "execution_count": null,
   "metadata": {},
   "outputs": [
    {
     "name": "stdout",
     "output_type": "stream",
     "text": [
      "     Name   Farbe Geschmack\n",
      "0   Apfel     rot   geht so\n",
      "1  Banane    gelb     fehlt\n",
      "2  Orange  orange       süß\n"
     ]
    }
   ],
   "source": [
    "df[\"Geschmack\"]=[\"geht so\",\"fehlt\",\"süß\"]\n",
    "print(df)"
   ]
  },
  {
   "cell_type": "code",
   "execution_count": null,
   "metadata": {},
   "outputs": [
    {
     "name": "stdout",
     "output_type": "stream",
     "text": [
      "     Name   Farbe        Geschmack\n",
      "0   Apfel     rot          geht so\n",
      "1  Banane    gelb  nicht vorhanden\n",
      "2  Orange  orange              süß\n"
     ]
    }
   ],
   "source": [
    "df[\"Geschmack\"][1]=\"nicht vorhanden\"\n",
    "print(df)"
   ]
  },
  {
   "cell_type": "code",
   "execution_count": null,
   "metadata": {},
   "outputs": [
    {
     "name": "stdout",
     "output_type": "stream",
     "text": [
      "<class 'pandas.core.frame.DataFrame'>\n",
      "RangeIndex: 3 entries, 0 to 2\n",
      "Data columns (total 4 columns):\n",
      " #   Column     Non-Null Count  Dtype \n",
      "---  ------     --------------  ----- \n",
      " 0   Name       3 non-null      object\n",
      " 1   Farbe      3 non-null      object\n",
      " 2   Geschmack  3 non-null      object\n",
      " 3   Gewicht    3 non-null      int64 \n",
      "dtypes: int64(1), object(3)\n",
      "memory usage: 224.0+ bytes\n"
     ]
    }
   ],
   "source": [
    "df[\"Gewicht\"]=[181,100,160]\n",
    "df.info()"
   ]
  },
  {
   "cell_type": "code",
   "execution_count": null,
   "metadata": {},
   "outputs": [
    {
     "name": "stdout",
     "output_type": "stream",
     "text": [
      "   Name_1 Farbe  Name_2  Gewicht\n",
      "0   Apfel   rot   Apfel      185\n",
      "1  Orange  gelb   Birne      190\n",
      "2  Banane   rot  Banane      100\n"
     ]
    }
   ],
   "source": [
    "frucht1 =pd.DataFrame({\"Name\":[\"Apfel\",\"Orange\",\"Banane\"],\n",
    "                 \"Farbe\":(\"rot\",\"gelb\",\"rot\")})\n",
    "\n",
    "frucht2 =pd.DataFrame({\"Name\":[\"Apfel\",\"Birne\",\"Banane\"],\n",
    "                 \"Gewicht\":(185,190,100)})\n",
    "\n",
    "frucht = frucht1.join(frucht2, lsuffix='_1', rsuffix='_2')\n",
    "#frucht = frucht1.join(frucht2)\n",
    "print(frucht)\n"
   ]
  },
  {
   "cell_type": "code",
   "execution_count": null,
   "metadata": {},
   "outputs": [
    {
     "name": "stdout",
     "output_type": "stream",
     "text": [
      "       Farbe\n",
      "Name        \n",
      "Apfel    rot\n",
      "Orange  gelb\n",
      "Banane   rot\n",
      "        Gewicht\n",
      "Name           \n",
      "Apfel       185\n",
      "Birne       190\n",
      "Banane      100\n"
     ]
    }
   ],
   "source": [
    "print(frucht1.set_index('Name'))\n",
    "print(frucht2.set_index('Name'))"
   ]
  },
  {
   "cell_type": "code",
   "execution_count": null,
   "metadata": {},
   "outputs": [
    {
     "name": "stdout",
     "output_type": "stream",
     "text": [
      "       Farbe  Gewicht\n",
      "Name                 \n",
      "Apfel    rot    185.0\n",
      "Orange  gelb      NaN\n",
      "Banane   rot    100.0\n"
     ]
    }
   ],
   "source": [
    "frucht = frucht1.set_index('Name').join(frucht2.set_index('Name'))\n",
    "print(frucht)"
   ]
  },
  {
   "cell_type": "code",
   "execution_count": null,
   "metadata": {},
   "outputs": [
    {
     "name": "stdout",
     "output_type": "stream",
     "text": [
      "       Farbe  Gewicht\n",
      "Name                 \n",
      "Apfel    rot      185\n",
      "Birne    NaN      190\n",
      "Banane   rot      100\n"
     ]
    }
   ],
   "source": [
    "frucht = frucht1.set_index('Name').join(frucht2.set_index('Name'), how ='right')\n",
    "print(frucht)"
   ]
  },
  {
   "cell_type": "code",
   "execution_count": null,
   "metadata": {},
   "outputs": [
    {
     "name": "stdout",
     "output_type": "stream",
     "text": [
      "       Farbe  Gewicht\n",
      "Name                 \n",
      "Apfel    rot    185.0\n",
      "Banane   rot    100.0\n",
      "Birne    NaN    190.0\n",
      "Orange  gelb      NaN\n"
     ]
    }
   ],
   "source": [
    "frucht = frucht1.set_index('Name').join(frucht2.set_index('Name'), how ='outer')\n",
    "print(frucht)"
   ]
  },
  {
   "cell_type": "code",
   "execution_count": null,
   "metadata": {},
   "outputs": [
    {
     "name": "stdout",
     "output_type": "stream",
     "text": [
      "       Farbe  Gewicht\n",
      "Name                 \n",
      "Apfel    rot      185\n",
      "Banane   rot      100\n"
     ]
    }
   ],
   "source": [
    "frucht = frucht1.set_index('Name').join(frucht2.set_index('Name'), how ='inner')\n",
    "print(frucht)"
   ]
  },
  {
   "cell_type": "code",
   "execution_count": null,
   "metadata": {},
   "outputs": [
    {
     "data": {
      "text/html": [
       "<div>\n",
       "<style scoped>\n",
       "    .dataframe tbody tr th:only-of-type {\n",
       "        vertical-align: middle;\n",
       "    }\n",
       "\n",
       "    .dataframe tbody tr th {\n",
       "        vertical-align: top;\n",
       "    }\n",
       "\n",
       "    .dataframe thead th {\n",
       "        text-align: right;\n",
       "    }\n",
       "</style>\n",
       "<table border=\"1\" class=\"dataframe\">\n",
       "  <thead>\n",
       "    <tr style=\"text-align: right;\">\n",
       "      <th></th>\n",
       "      <th>Manufacturer</th>\n",
       "      <th>CPU</th>\n",
       "      <th>Technology</th>\n",
       "      <th>Package</th>\n",
       "      <th>Beine</th>\n",
       "      <th>Uhr</th>\n",
       "      <th>Transistors</th>\n",
       "      <th>Year</th>\n",
       "    </tr>\n",
       "  </thead>\n",
       "  <tbody>\n",
       "    <tr>\n",
       "      <th>0</th>\n",
       "      <td>MOS</td>\n",
       "      <td>6502</td>\n",
       "      <td>NMOS</td>\n",
       "      <td>PDIP</td>\n",
       "      <td>40</td>\n",
       "      <td>1.0</td>\n",
       "      <td>3510.0</td>\n",
       "      <td>NaN</td>\n",
       "    </tr>\n",
       "    <tr>\n",
       "      <th>1</th>\n",
       "      <td>MOS</td>\n",
       "      <td>6502A</td>\n",
       "      <td>NMOS</td>\n",
       "      <td>PDIP</td>\n",
       "      <td>40</td>\n",
       "      <td>2.0</td>\n",
       "      <td>3510.0</td>\n",
       "      <td>NaN</td>\n",
       "    </tr>\n",
       "    <tr>\n",
       "      <th>2</th>\n",
       "      <td>MOS</td>\n",
       "      <td>6502B</td>\n",
       "      <td>NMOS</td>\n",
       "      <td>PDIP</td>\n",
       "      <td>40</td>\n",
       "      <td>3.0</td>\n",
       "      <td>NaN</td>\n",
       "      <td>NaN</td>\n",
       "    </tr>\n",
       "    <tr>\n",
       "      <th>3</th>\n",
       "      <td>Intel</td>\n",
       "      <td>8008</td>\n",
       "      <td>PMOS</td>\n",
       "      <td>PDIP</td>\n",
       "      <td>18</td>\n",
       "      <td>NaN</td>\n",
       "      <td>3500.0</td>\n",
       "      <td>1972.0</td>\n",
       "    </tr>\n",
       "    <tr>\n",
       "      <th>4</th>\n",
       "      <td>Intel</td>\n",
       "      <td>8080</td>\n",
       "      <td>NMOS</td>\n",
       "      <td>CDIP</td>\n",
       "      <td>40</td>\n",
       "      <td>NaN</td>\n",
       "      <td>6000.0</td>\n",
       "      <td>1974.0</td>\n",
       "    </tr>\n",
       "    <tr>\n",
       "      <th>5</th>\n",
       "      <td>Zilog</td>\n",
       "      <td>Z80</td>\n",
       "      <td>NMOS</td>\n",
       "      <td>CDIP</td>\n",
       "      <td>40</td>\n",
       "      <td>2.5</td>\n",
       "      <td>8500.0</td>\n",
       "      <td>1976.0</td>\n",
       "    </tr>\n",
       "    <tr>\n",
       "      <th>6</th>\n",
       "      <td>Motorola</td>\n",
       "      <td>6800</td>\n",
       "      <td>NMOS</td>\n",
       "      <td>PDIP</td>\n",
       "      <td>40</td>\n",
       "      <td>1.0</td>\n",
       "      <td>4100.0</td>\n",
       "      <td>NaN</td>\n",
       "    </tr>\n",
       "    <tr>\n",
       "      <th>7</th>\n",
       "      <td>Motorola</td>\n",
       "      <td>6809</td>\n",
       "      <td>NMOS</td>\n",
       "      <td>PDIP</td>\n",
       "      <td>40</td>\n",
       "      <td>1.0</td>\n",
       "      <td>9000.0</td>\n",
       "      <td>1978.0</td>\n",
       "    </tr>\n",
       "    <tr>\n",
       "      <th>8</th>\n",
       "      <td>Motorola</td>\n",
       "      <td>68000</td>\n",
       "      <td>HMOS</td>\n",
       "      <td>PDIP</td>\n",
       "      <td>64</td>\n",
       "      <td>10.0</td>\n",
       "      <td>68000.0</td>\n",
       "      <td>1979.0</td>\n",
       "    </tr>\n",
       "  </tbody>\n",
       "</table>\n",
       "</div>"
      ],
      "text/plain": [
       "  Manufacturer    CPU Technology Package  Beine   Uhr  Transistors    Year\n",
       "0          MOS   6502       NMOS    PDIP     40   1.0       3510.0     NaN\n",
       "1          MOS  6502A       NMOS    PDIP     40   2.0       3510.0     NaN\n",
       "2          MOS  6502B       NMOS    PDIP     40   3.0          NaN     NaN\n",
       "3        Intel   8008       PMOS    PDIP     18   NaN       3500.0  1972.0\n",
       "4        Intel   8080       NMOS    CDIP     40   NaN       6000.0  1974.0\n",
       "5        Zilog    Z80       NMOS    CDIP     40   2.5       8500.0  1976.0\n",
       "6     Motorola   6800       NMOS    PDIP     40   1.0       4100.0     NaN\n",
       "7     Motorola   6809       NMOS    PDIP     40   1.0       9000.0  1978.0\n",
       "8     Motorola  68000       HMOS    PDIP     64  10.0      68000.0  1979.0"
      ]
     },
     "execution_count": 80,
     "metadata": {},
     "output_type": "execute_result"
    }
   ],
   "source": [
    "cpu.head(20)"
   ]
  },
  {
   "cell_type": "code",
   "execution_count": null,
   "metadata": {},
   "outputs": [
    {
     "name": "stdout",
     "output_type": "stream",
     "text": [
      "<class 'pandas.core.frame.DataFrame'>\n",
      "  Manufacturer    CPU Technology Package  Beine  Uhr  Transistors    Year\n",
      "0          MOS   6502       NMOS    PDIP     40  1.0       3510.0     NaN\n",
      "1          MOS  6502A       NMOS    PDIP     40  2.0       3510.0     NaN\n",
      "2          MOS  6502B       NMOS    PDIP     40  3.0          NaN     NaN\n",
      "3        Intel   8008       PMOS    PDIP     18  NaN       3500.0  1972.0\n",
      "4        Intel   8080       NMOS    CDIP     40  NaN       6000.0  1974.0\n",
      "5        Zilog    Z80       NMOS    CDIP     40  2.5       8500.0  1976.0\n",
      "6     Motorola   6800       NMOS    PDIP     40  1.0       4100.0     NaN\n"
     ]
    }
   ],
   "source": [
    "head = cpu.head(-2)\n",
    "print(type(head))\n",
    "print(head)"
   ]
  },
  {
   "cell_type": "code",
   "execution_count": null,
   "metadata": {},
   "outputs": [
    {
     "data": {
      "text/html": [
       "<div>\n",
       "<style scoped>\n",
       "    .dataframe tbody tr th:only-of-type {\n",
       "        vertical-align: middle;\n",
       "    }\n",
       "\n",
       "    .dataframe tbody tr th {\n",
       "        vertical-align: top;\n",
       "    }\n",
       "\n",
       "    .dataframe thead th {\n",
       "        text-align: right;\n",
       "    }\n",
       "</style>\n",
       "<table border=\"1\" class=\"dataframe\">\n",
       "  <thead>\n",
       "    <tr style=\"text-align: right;\">\n",
       "      <th></th>\n",
       "      <th>Manufacturer</th>\n",
       "      <th>CPU</th>\n",
       "      <th>Technology</th>\n",
       "      <th>Package</th>\n",
       "      <th>Beine</th>\n",
       "      <th>Uhr</th>\n",
       "      <th>Transistors</th>\n",
       "      <th>Year</th>\n",
       "    </tr>\n",
       "  </thead>\n",
       "  <tbody>\n",
       "    <tr>\n",
       "      <th>8</th>\n",
       "      <td>Motorola</td>\n",
       "      <td>68000</td>\n",
       "      <td>HMOS</td>\n",
       "      <td>PDIP</td>\n",
       "      <td>64</td>\n",
       "      <td>10.0</td>\n",
       "      <td>68000.0</td>\n",
       "      <td>1979.0</td>\n",
       "    </tr>\n",
       "  </tbody>\n",
       "</table>\n",
       "</div>"
      ],
      "text/plain": [
       "  Manufacturer    CPU Technology Package  Beine   Uhr  Transistors    Year\n",
       "8     Motorola  68000       HMOS    PDIP     64  10.0      68000.0  1979.0"
      ]
     },
     "execution_count": 82,
     "metadata": {},
     "output_type": "execute_result"
    }
   ],
   "source": [
    "cpu.tail(1)"
   ]
  },
  {
   "cell_type": "code",
   "execution_count": null,
   "metadata": {},
   "outputs": [
    {
     "name": "stdout",
     "output_type": "stream",
     "text": [
      "\n",
      "    One-dimensional ndarray with axis labels (including time series).\n",
      "\n",
      "    Labels need not be unique but must be a hashable type. The object\n",
      "    supports both integer- and label-based indexing and provides a host of\n",
      "    methods for performing operations involving the index. Statistical\n",
      "    methods from ndarray have been overridden to automatically exclude\n",
      "    missing data (currently represented as NaN).\n",
      "\n",
      "    Operations between Series (+, -, /, *, **) align values based on their\n",
      "    associated index values-- they need not be the same length. The result\n",
      "    index will be the sorted union of the two indexes.\n",
      "\n",
      "    Parameters\n",
      "    ----------\n",
      "    data : array-like, Iterable, dict, or scalar value\n",
      "        Contains data stored in Series.\n",
      "\n",
      "        .. versionchanged:: 0.23.0\n",
      "           If data is a dict, argument order is maintained for Python 3.6\n",
      "           and later.\n",
      "\n",
      "    index : array-like or Index (1d)\n",
      "        Values must be hashable and have the same length as `data`.\n",
      "        Non-unique index values are allowed. Will default to\n",
      "        RangeIndex (0, 1, 2, ..., n) if not provided. If both a dict and index\n",
      "        sequence are used, the index will override the keys found in the\n",
      "        dict.\n",
      "    dtype : str, numpy.dtype, or ExtensionDtype, optional\n",
      "        Data type for the output Series. If not specified, this will be\n",
      "        inferred from `data`.\n",
      "        See the :ref:`user guide <basics.dtypes>` for more usages.\n",
      "    name : str, optional\n",
      "        The name to give to the Series.\n",
      "    copy : bool, default False\n",
      "        Copy input data.\n",
      "    \n"
     ]
    }
   ],
   "source": [
    "print (cpu.count().__doc__)"
   ]
  },
  {
   "cell_type": "code",
   "execution_count": null,
   "metadata": {},
   "outputs": [
    {
     "name": "stdout",
     "output_type": "stream",
     "text": [
      "<class 'pandas.core.series.Series'>\n",
      "Manufacturer    9\n",
      "CPU             9\n",
      "Technology      9\n",
      "Package         9\n",
      "Beine           9\n",
      "Uhr             7\n",
      "Transistors     8\n",
      "Year            5\n",
      "dtype: int64\n"
     ]
    }
   ],
   "source": [
    "count = cpu.count()\n",
    "print(type(count))\n",
    "print(count)\n",
    "#print(cpu.count(axis='columns'))"
   ]
  },
  {
   "cell_type": "code",
   "execution_count": null,
   "metadata": {},
   "outputs": [
    {
     "name": "stdout",
     "output_type": "stream",
     "text": [
      "<class 'pandas.core.frame.DataFrame'>\n",
      "  Manufacturer    CPU Technology Package  Beine  Uhr  Transistors    Year\n",
      "0          MOS   6502       NMOS    PDIP     40  1.0       3510.0     NaN\n",
      "1          MOS  6502A       NMOS    PDIP     40  2.0       3510.0     NaN\n",
      "2          MOS  6502B       NMOS    PDIP     40  3.0          NaN     NaN\n",
      "3        Intel   8008       PMOS    PDIP     18  NaN       3500.0  1972.0\n",
      "   Manufacturer    CPU  Technology  Package  Beine    Uhr  Transistors   Year\n",
      "0         False  False       False    False  False  False        False   True\n",
      "1         False  False       False    False  False  False        False   True\n",
      "2         False  False       False    False  False  False         True   True\n",
      "3         False  False       False    False  False   True        False  False\n"
     ]
    }
   ],
   "source": [
    "table = cpu.head(4).isna()\n",
    "print(type(table))\n",
    "\n",
    "print(cpu.head(4))\n",
    "print(table)"
   ]
  },
  {
   "cell_type": "code",
   "execution_count": null,
   "metadata": {},
   "outputs": [
    {
     "name": "stdout",
     "output_type": "stream",
     "text": [
      "Spalten : \n",
      "Manufacturer    False\n",
      "CPU             False\n",
      "Technology      False\n",
      "Package         False\n",
      "Beine           False\n",
      "Uhr              True\n",
      "Transistors      True\n",
      "Year             True\n",
      "dtype: bool\n",
      "\n",
      "Zeilen : \n",
      "0    True\n",
      "1    True\n",
      "2    True\n",
      "3    True\n",
      "dtype: bool\n",
      "\n",
      "Tabelle :  True\n"
     ]
    }
   ],
   "source": [
    "print(\"Spalten : \")\n",
    "print(table.any())\n",
    "print(\"\")\n",
    "\n",
    "print(\"Zeilen : \")\n",
    "print(table.any(axis='columns'))\n",
    "\n",
    "print(\"\")\n",
    "print(\"Tabelle : \",table.any().any())"
   ]
  },
  {
   "cell_type": "code",
   "execution_count": null,
   "metadata": {},
   "outputs": [
    {
     "name": "stdout",
     "output_type": "stream",
     "text": [
      "Manufacturer    False\n",
      "CPU             False\n",
      "Technology      False\n",
      "Package         False\n",
      "Beine           False\n",
      "Uhr              True\n",
      "Transistors      True\n",
      "Year             True\n",
      "dtype: bool\n"
     ]
    }
   ],
   "source": [
    "table = cpu.isna()\n",
    "print(table.any())"
   ]
  },
  {
   "cell_type": "code",
   "execution_count": null,
   "metadata": {},
   "outputs": [
    {
     "name": "stdout",
     "output_type": "stream",
     "text": [
      "True\n"
     ]
    }
   ],
   "source": [
    "print(table.any().any())"
   ]
  },
  {
   "cell_type": "code",
   "execution_count": null,
   "metadata": {},
   "outputs": [
    {
     "name": "stdout",
     "output_type": "stream",
     "text": [
      "<class 'numpy.ndarray'>\n",
      "[['MOS' '6502' 'NMOS' 'PDIP' 40 1.0 3510.0 nan]\n",
      " ['MOS' '6502A' 'NMOS' 'PDIP' 40 2.0 3510.0 nan]\n",
      " ['MOS' '6502B' 'NMOS' 'PDIP' 40 3.0 nan nan]\n",
      " ['Intel' '8008' 'PMOS' 'PDIP' 18 nan 3500.0 1972.0]]\n"
     ]
    }
   ],
   "source": [
    "values = cpu.head(4).values\n",
    "print(type(values))\n",
    "print(values)"
   ]
  },
  {
   "cell_type": "code",
   "execution_count": null,
   "metadata": {},
   "outputs": [
    {
     "name": "stdout",
     "output_type": "stream",
     "text": [
      "Manufacturer    0\n",
      "CPU             0\n",
      "Technology      0\n",
      "Package         0\n",
      "Beine           0\n",
      "Uhr             1\n",
      "Transistors     1\n",
      "Year            3\n",
      "dtype: int64\n"
     ]
    }
   ],
   "source": [
    "nanCount = cpu.head(4).isna().sum()\n",
    "print(nanCount)"
   ]
  },
  {
   "cell_type": "code",
   "execution_count": null,
   "metadata": {},
   "outputs": [
    {
     "name": "stdout",
     "output_type": "stream",
     "text": [
      "5\n"
     ]
    }
   ],
   "source": [
    "nanCount = cpu.head(4).isna().to_numpy().sum()\n",
    "print(nanCount)"
   ]
  },
  {
   "cell_type": "markdown",
   "metadata": {},
   "source": [
    "fillna"
   ]
  },
  {
   "cell_type": "code",
   "execution_count": null,
   "metadata": {},
   "outputs": [
    {
     "name": "stdout",
     "output_type": "stream",
     "text": [
      "  Manufacturer    CPU Technology Package  Beine  Uhr  Transistors  Year\n",
      "0          MOS   6502       NMOS    PDIP     40  1.0       3510.0   NaN\n",
      "1          MOS  6502A       NMOS    PDIP     40  2.0       3510.0   NaN\n",
      "2          MOS  6502B       NMOS    PDIP     40  3.0          NaN   NaN\n",
      "  Manufacturer    CPU Technology Package  Beine  Uhr  Transistors  Year\n",
      "0          MOS   6502       NMOS    PDIP     40  1.0       3510.0  -1.0\n",
      "1          MOS  6502A       NMOS    PDIP     40  2.0       3510.0  -1.0\n",
      "2          MOS  6502B       NMOS    PDIP     40  3.0         -1.0  -1.0\n",
      "  Manufacturer    CPU Technology Package  Beine   Uhr  Transistors    Year\n",
      "0          MOS   6502       NMOS    PDIP     40   1.0       3510.0    -1.0\n",
      "1          MOS  6502A       NMOS    PDIP     40   2.0       3510.0    -1.0\n",
      "2          MOS  6502B       NMOS    PDIP     40   3.0         -1.0    -1.0\n",
      "3        Intel   8008       PMOS    PDIP     18   NaN       3500.0  1972.0\n",
      "4        Intel   8080       NMOS    CDIP     40   NaN       6000.0  1974.0\n",
      "5        Zilog    Z80       NMOS    CDIP     40   2.5       8500.0  1976.0\n",
      "6     Motorola   6800       NMOS    PDIP     40   1.0       4100.0     NaN\n",
      "7     Motorola   6809       NMOS    PDIP     40   1.0       9000.0  1978.0\n",
      "8     Motorola  68000       HMOS    PDIP     64  10.0      68000.0  1979.0\n"
     ]
    },
    {
     "name": "stderr",
     "output_type": "stream",
     "text": [
      "C:\\Users\\tavin\\AppData\\Roaming\\Python\\Python38\\site-packages\\pandas\\core\\frame.py:4317: SettingWithCopyWarning: \n",
      "A value is trying to be set on a copy of a slice from a DataFrame\n",
      "\n",
      "See the caveats in the documentation: https://pandas.pydata.org/pandas-docs/stable/user_guide/indexing.html#returning-a-view-versus-a-copy\n",
      "  return super().fillna(\n"
     ]
    }
   ],
   "source": [
    "table = cpu.head(3)\n",
    "print(table)\n",
    "table.fillna(-1, inplace = True)\n",
    "print(table)\n",
    "print(cpu)"
   ]
  },
  {
   "cell_type": "code",
   "execution_count": null,
   "metadata": {},
   "outputs": [
    {
     "name": "stdout",
     "output_type": "stream",
     "text": [
      "  Manufacturer    CPU Technology Package  Beine  Uhr  Transistors  Year\n",
      "0          MOS   6502       NMOS    PDIP     40  1.0       3510.0  -1.0\n",
      "1          MOS  6502A       NMOS    PDIP     40  2.0       3510.0  -1.0\n",
      "2          MOS  6502B       NMOS    PDIP     40  3.0         -1.0  -1.0\n",
      "  Manufacturer    CPU Technology Package  Beine  Uhr  Transistors  Year\n",
      "0          MOS   6502       NMOS    PDIP     40  1.0       3510.0  -1.0\n",
      "1          MOS  6502A       NMOS    PDIP     40  2.0       3510.0  -1.0\n",
      "2          MOS  6502B       NMOS    PDIP     40  3.0         -1.0  -1.0\n",
      "  Manufacturer    CPU Technology Package  Beine  Uhr  Transistors  Year\n",
      "0          MOS   6502       NMOS    PDIP     40  1.0       3510.0  -1.0\n",
      "1          MOS  6502A       NMOS    PDIP     40  2.0       3510.0  -1.0\n",
      "2          MOS  6502B       NMOS    PDIP     40  3.0         -1.0  -1.0\n"
     ]
    }
   ],
   "source": [
    "table = cpu.head(3).copy()\n",
    "print(table)\n",
    "table.fillna(-1, inplace = True)\n",
    "print(table)\n",
    "print(cpu.head(3))"
   ]
  },
  {
   "cell_type": "code",
   "execution_count": null,
   "metadata": {},
   "outputs": [
    {
     "name": "stdout",
     "output_type": "stream",
     "text": [
      "  Manufacturer    CPU Technology Package  Pins  Clock  Transistors    Year\n",
      "0          MOS   6502       NMOS    PDIP    40    1.0       3510.0     NaN\n",
      "1          MOS  6502A       NMOS    PDIP    40    2.0       3510.0     NaN\n",
      "2          MOS  6502B       NMOS    PDIP    40    3.0          NaN     NaN\n",
      "3        Intel   8008       PMOS    PDIP    18    NaN       3500.0  1972.0\n",
      "4        Intel   8080       NMOS    CDIP    40    NaN       6000.0  1974.0\n",
      "5        Zilog    Z80       NMOS    CDIP    40    2.5       8500.0  1976.0\n",
      "6     Motorola   6800       NMOS    PDIP    40    1.0       4100.0     NaN\n",
      "7     Motorola   6809       NMOS    PDIP    40    1.0       9000.0  1978.0\n",
      "8     Motorola  68000       HMOS    PDIP    64   10.0      68000.0  1979.0\n"
     ]
    }
   ],
   "source": [
    "cpu = pd.read_csv(\"D:/HS/ml/jpyter/cpu.csv\")\n",
    "print(cpu.head(10))"
   ]
  },
  {
   "cell_type": "code",
   "execution_count": null,
   "metadata": {},
   "outputs": [
    {
     "name": "stdout",
     "output_type": "stream",
     "text": [
      "     CPU    Year Manufacturer\n",
      "0   6502  1972.0          MOS\n",
      "1  6502A  1972.0          MOS\n",
      "2  6502B  1972.0          MOS\n",
      "3   8008  1972.0        Intel\n",
      "4   8080  1974.0        Intel\n",
      "5    Z80  1976.0        Zilog\n",
      "6   6800  1978.0     Motorola\n",
      "7   6809  1978.0     Motorola\n",
      "8  68000  1979.0     Motorola\n"
     ]
    }
   ],
   "source": [
    "cpu.fillna(method=\"bfill\", inplace = True)\n",
    "print(cpu[{\"Manufacturer\",\"CPU\",\"Year\"}])"
   ]
  },
  {
   "cell_type": "code",
   "execution_count": null,
   "metadata": {},
   "outputs": [
    {
     "name": "stdout",
     "output_type": "stream",
     "text": [
      "     CPU    Year Manufacturer\n",
      "0   6502  1972.0          MOS\n",
      "1  6502A  1972.0          MOS\n",
      "2  6502B  1972.0          MOS\n",
      "3   8008  1972.0        Intel\n",
      "4   8080  1974.0        Intel\n",
      "5    Z80  1976.0        Zilog\n",
      "6   6800  1978.0     Motorola\n",
      "7   6809  1978.0     Motorola\n",
      "8  68000  1979.0     Motorola\n"
     ]
    }
   ],
   "source": [
    "cpu.fillna(method=\"ffill\", inplace = True)\n",
    "print(cpu[{\"Manufacturer\",\"CPU\",\"Year\"}])"
   ]
  },
  {
   "cell_type": "code",
   "execution_count": null,
   "metadata": {},
   "outputs": [
    {
     "name": "stdout",
     "output_type": "stream",
     "text": [
      "     CPU    Year Manufacturer\n",
      "0   6502  1972.0          MOS\n",
      "1  6502A  1972.0          MOS\n",
      "2  6502B  1972.0          MOS\n",
      "3   8008  1972.0        Intel\n",
      "4   8080  1974.0        Intel\n",
      "5    Z80  1976.0        Zilog\n",
      "6   6800  1978.0     Motorola\n",
      "7   6809  1978.0     Motorola\n",
      "8  68000  1979.0     Motorola\n"
     ]
    }
   ],
   "source": [
    "cpu.fillna(method=\"bfill\", inplace = True ,limit=1)\n",
    "print(cpu[{\"Manufacturer\",\"CPU\",\"Year\"}])"
   ]
  },
  {
   "cell_type": "code",
   "execution_count": null,
   "metadata": {},
   "outputs": [
    {
     "name": "stdout",
     "output_type": "stream",
     "text": [
      "  Manufacturer    CPU Technology Package  Pins  Clock  Transistors    Year\n",
      "0          MOS   6502       NMOS    PDIP    40    1.0       3510.0  1972.0\n",
      "1          MOS  6502A       NMOS    PDIP    40    2.0       3510.0  1972.0\n",
      "2          MOS  6502B       NMOS    PDIP    40    3.0       3500.0  1972.0\n",
      "3        Intel   8008       PMOS    PDIP    18    2.5       3500.0  1972.0\n",
      "  Manufacturer    CPU Technology Package  Pins  Clock  Transistors    Year\n",
      "0          MOS   6502       NMOS    PDIP    40    1.0       3510.0  1972.0\n",
      "1          MOS  6502A       NMOS    PDIP    40    2.0       3510.0  1972.0\n",
      "2          MOS  6502B       NMOS    PDIP    40    3.0       3500.0  1972.0\n",
      "3        Intel   8008       PMOS    PDIP    18    2.5       3500.0  1972.0\n"
     ]
    }
   ],
   "source": [
    "table = cpu.head(4).copy()\n",
    "print(table)\n",
    "table[\"Year\"].fillna(1970, inplace = True)\n",
    "print(table)"
   ]
  },
  {
   "cell_type": "code",
   "execution_count": null,
   "metadata": {},
   "outputs": [
    {
     "name": "stdout",
     "output_type": "stream",
     "text": [
      "  Manufacturer    CPU Technology Package  Pins  Clock  Transistors    Year\n",
      "0          MOS   6502       NMOS    PDIP    40    1.0       3510.0  1972.0\n",
      "1          MOS  6502A       NMOS    PDIP    40    2.0       3510.0  1972.0\n",
      "2          MOS  6502B       NMOS    PDIP    40    3.0       3500.0  1972.0\n",
      "3        Intel   8008       PMOS    PDIP    18    2.5       3500.0  1972.0\n",
      "  Manufacturer    CPU Technology Package  Pins  Clock  Transistors    Year\n",
      "0          MOS   6502       NMOS    PDIP    40    1.0       3510.0  1972.0\n",
      "1          MOS  6502A       NMOS    PDIP    40    2.0       3510.0  1972.0\n",
      "2          MOS  6502B       NMOS    PDIP    40    3.0       3500.0  1972.0\n",
      "3        Intel   8008       PMOS    PDIP    18    2.5       3500.0  1972.0\n"
     ]
    }
   ],
   "source": [
    "table = cpu.copy()\n",
    "print(table.head(4))\n",
    "\n",
    "summe = cpu[\"Year\"].sum()\n",
    "valueCount = cpu[\"Year\"].notna().sum()\n",
    "durchschnitt  = summe / valueCount\n",
    "\n",
    "table[\"Year\"].fillna(durchschnitt, inplace = True)\n",
    "print(table.head(4))"
   ]
  },
  {
   "cell_type": "code",
   "execution_count": null,
   "metadata": {},
   "outputs": [
    {
     "name": "stdout",
     "output_type": "stream",
     "text": [
      "  Manufacturer    CPU Technology Package  Pins  Clock  Transistors    Year\n",
      "0          MOS   6502       NMOS    PDIP    40    1.0       3510.0  1972.0\n",
      "1          MOS  6502A       NMOS    PDIP    40    2.0       3510.0  1972.0\n",
      "2          MOS  6502B       NMOS    PDIP    40    3.0       3500.0  1972.0\n",
      "3        Intel   8008       PMOS    PDIP    18    2.5       3500.0  1972.0\n",
      "  Manufacturer    CPU Technology Package  Pins  Clock  Transistors    Year\n",
      "0          MOS   6502       NMOS    PDIP    40    1.0       3510.0  1972.0\n",
      "1          MOS  6502A       NMOS    PDIP    40    2.0       3510.0  1972.0\n",
      "2          MOS  6502B       NMOS    PDIP    40    3.0       3500.0  1972.0\n",
      "3        Intel   8008       PMOS    PDIP    18    2.5       3500.0  1972.0\n"
     ]
    }
   ],
   "source": [
    "table = cpu.copy()\n",
    "print(table.head(4))\n",
    "\n",
    "table[\"Year\"].fillna(table[\"Year\"].mean(), inplace = True)\n",
    "\n",
    "print(table.head(4))"
   ]
  },
  {
   "cell_type": "code",
   "execution_count": null,
   "metadata": {},
   "outputs": [
    {
     "data": {
      "text/plain": [
       "<AxesSubplot:>"
      ]
     },
     "execution_count": 101,
     "metadata": {},
     "output_type": "execute_result"
    },
    {
     "data": {
      "image/png": "[encoded data removed]",
      "text/plain": [
       "<Figure size 432x288 with 1 Axes>"
      ]
     },
     "metadata": {
      "needs_background": "light"
     },
     "output_type": "display_data"
    }
   ],
   "source": [
    "cpu.plot.bar()"
   ]
  },
  {
   "cell_type": "code",
   "execution_count": null,
   "metadata": {},
   "outputs": [
    {
     "data": {
      "text/plain": [
       "<AxesSubplot:>"
      ]
     },
     "execution_count": 103,
     "metadata": {},
     "output_type": "execute_result"
    },
    {
     "data": {
      "image/png": "[encoded data removed]",
      "text/plain": [
       "<Figure size 432x288 with 1 Axes>"
      ]
     },
     "metadata": {
      "needs_background": "light"
     },
     "output_type": "display_data"
    }
   ],
   "source": [
    "table = pd.DataFrame([[2,1],[0,2],[2,3],[2,3]])\n",
    "table.rename(columns={0:\"x\", 1:\"y\"},inplace = True)\n",
    "table.plot.bar()"
   ]
  },
  {
   "cell_type": "code",
   "execution_count": null,
   "metadata": {},
   "outputs": [
    {
     "data": {
      "image/png": "[encoded data removed]",
      "text/plain": [
       "<Figure size 432x288 with 1 Axes>"
      ]
     },
     "metadata": {
      "needs_background": "light"
     },
     "output_type": "display_data"
    }
   ],
   "source": [
    "table.plot.hist();"
   ]
  },
  {
   "cell_type": "code",
   "execution_count": null,
   "metadata": {},
   "outputs": [],
   "source": []
  },
  {
   "cell_type": "code",
   "execution_count": null,
   "metadata": {},
   "outputs": [
    {
     "name": "stdout",
     "output_type": "stream",
     "text": [
      "  Manufacturer    CPU Technology  Pins  Clock  Transistors    Year\n",
      "0          MOS   6502       NMOS    40    1.0       3510.0  1972.0\n",
      "1          MOS  6502A       NMOS    40    2.0       3510.0  1972.0\n",
      "  Manufacturer Technology Package  Transistors\n",
      "0          MOS       NMOS    PDIP       3510.0\n",
      "1          MOS       NMOS    PDIP       3510.0\n"
     ]
    }
   ],
   "source": [
    "table = cpu.drop(\"Package\", axis = 1)\n",
    "print(table.head(2))\n",
    "table = cpu.drop({\"CPU\",\"Pins\",\"Clock\",\"Year\"}, axis = 1)\n",
    "print(table.head(2))"
   ]
  },
  {
   "cell_type": "code",
   "execution_count": null,
   "metadata": {},
   "outputs": [
    {
     "name": "stdout",
     "output_type": "stream",
     "text": [
      "0    PDIP\n",
      "1    PDIP\n",
      "Name: Package, dtype: object\n",
      "  Manufacturer    CPU Technology  Pins  Clock  Transistors    Year\n",
      "0          MOS   6502       NMOS    40    1.0       3510.0  1972.0\n",
      "1          MOS  6502A       NMOS    40    2.0       3510.0  1972.0\n"
     ]
    }
   ],
   "source": [
    "cpu2 = cpu.copy()\n",
    "table = cpu2.pop(\"Package\")\n",
    "print(table.head(2))\n",
    "print(cpu2.head(2))"
   ]
  },
  {
   "cell_type": "code",
   "execution_count": null,
   "metadata": {},
   "outputs": [],
   "source": []
  },
  {
   "cell_type": "code",
   "execution_count": null,
   "metadata": {},
   "outputs": [
    {
     "name": "stdout",
     "output_type": "stream",
     "text": [
      "  Manufacturer    CPU Technology Package  Pins  Clock  Transistors    Year\n",
      "0          MOS   6502       NMOS    PDIP    40    1.0       3510.0  1972.0\n",
      "1          MOS  6502A       NMOS    PDIP    40    2.0       3510.0  1972.0\n",
      "2          MOS  6502B       NMOS    PDIP    40    3.0       3500.0  1972.0\n",
      "3        Intel   8008       PMOS    PDIP    18    2.5       3500.0  1972.0\n",
      "  Manufacturer    CPU Technology Package  Pins  Clock  Transistors    Year\n",
      "0          MOS   6502       NMOS    PDIP    40    1.0       3510.0  1972.0\n",
      "2          MOS  6502B       NMOS    PDIP    40    3.0       3500.0  1972.0\n",
      "4        Intel   8080       NMOS    CDIP    40    2.5       6000.0  1974.0\n",
      "5        Zilog    Z80       NMOS    CDIP    40    2.5       8500.0  1976.0\n"
     ]
    }
   ],
   "source": [
    "table = cpu.copy()\n",
    "print(table.head(4))\n",
    "table = table.drop({1,3})\n",
    "print(table.head(4))"
   ]
  },
  {
   "cell_type": "code",
   "execution_count": null,
   "metadata": {},
   "outputs": [
    {
     "name": "stdout",
     "output_type": "stream",
     "text": [
      "  Manufacturer    CPU Technology Package  Pins  Clock  Transistors    Year\n",
      "0          MOS   6502       NMOS    PDIP    40    1.0       3510.0  1972.0\n",
      "1          MOS  6502A       NMOS    PDIP    40    2.0       3510.0  1972.0\n",
      "2          MOS  6502B       NMOS    PDIP    40    3.0       3500.0  1972.0\n",
      "3        Intel   8008       PMOS    PDIP    18    2.5       3500.0  1972.0\n",
      "Int64Index([0, 1, 2, 4, 5, 6, 7, 8], dtype='int64')\n",
      "\n",
      "\n",
      "  Manufacturer   CPU Technology Package  Pins  Clock  Transistors    Year\n",
      "3        Intel  8008       PMOS    PDIP    18    2.5       3500.0  1972.0\n"
     ]
    }
   ],
   "source": [
    "table = cpu.copy()\n",
    "print(cpu.head(4))\n",
    "\n",
    "pins=cpu[\"Pins\"].gt(19)\n",
    "print(table.index[pins])\n",
    "table=cpu.drop(table.index[pins])\n",
    "\n",
    "print(\"\\n\")\n",
    "print(table)"
   ]
  },
  {
   "cell_type": "code",
   "execution_count": null,
   "metadata": {},
   "outputs": [
    {
     "name": "stdout",
     "output_type": "stream",
     "text": [
      "0     True\n",
      "1     True\n",
      "2     True\n",
      "3    False\n",
      "4     True\n",
      "5     True\n",
      "6     True\n",
      "7     True\n",
      "8     True\n",
      "Name: Pins, dtype: bool\n"
     ]
    },
    {
     "ename": "IndexError",
     "evalue": "boolean index did not match indexed array along dimension 0; dimension is 1 but corresponding boolean dimension is 9",
     "output_type": "error",
     "traceback": [
      "\u001b[1;31m---------------------------------------------------------------------------\u001b[0m",
      "\u001b[1;31mIndexError\u001b[0m                                Traceback (most recent call last)",
      "\u001b[1;32m<ipython-input-109-908a86549570>\u001b[0m in \u001b[0;36m<module>\u001b[1;34m\u001b[0m\n\u001b[0;32m      1\u001b[0m \u001b[0mprint\u001b[0m\u001b[1;33m(\u001b[0m\u001b[0mpins\u001b[0m\u001b[1;33m)\u001b[0m\u001b[1;33m\u001b[0m\u001b[1;33m\u001b[0m\u001b[0m\n\u001b[1;32m----> 2\u001b[1;33m \u001b[0mprint\u001b[0m\u001b[1;33m(\u001b[0m\u001b[0mtable\u001b[0m\u001b[1;33m.\u001b[0m\u001b[0mindex\u001b[0m\u001b[1;33m[\u001b[0m\u001b[0mpins\u001b[0m\u001b[1;33m]\u001b[0m\u001b[1;33m)\u001b[0m\u001b[1;33m\u001b[0m\u001b[1;33m\u001b[0m\u001b[0m\n\u001b[0m",
      "\u001b[1;32m~\\AppData\\Roaming\\Python\\Python38\\site-packages\\pandas\\core\\indexes\\base.py\u001b[0m in \u001b[0;36m__getitem__\u001b[1;34m(self, key)\u001b[0m\n\u001b[0;32m   4109\u001b[0m             \u001b[0mkey\u001b[0m \u001b[1;33m=\u001b[0m \u001b[0mnp\u001b[0m\u001b[1;33m.\u001b[0m\u001b[0masarray\u001b[0m\u001b[1;33m(\u001b[0m\u001b[0mkey\u001b[0m\u001b[1;33m,\u001b[0m \u001b[0mdtype\u001b[0m\u001b[1;33m=\u001b[0m\u001b[0mbool\u001b[0m\u001b[1;33m)\u001b[0m\u001b[1;33m\u001b[0m\u001b[1;33m\u001b[0m\u001b[0m\n\u001b[0;32m   4110\u001b[0m \u001b[1;33m\u001b[0m\u001b[0m\n\u001b[1;32m-> 4111\u001b[1;33m         \u001b[0mresult\u001b[0m \u001b[1;33m=\u001b[0m \u001b[0mgetitem\u001b[0m\u001b[1;33m(\u001b[0m\u001b[0mkey\u001b[0m\u001b[1;33m)\u001b[0m\u001b[1;33m\u001b[0m\u001b[1;33m\u001b[0m\u001b[0m\n\u001b[0m\u001b[0;32m   4112\u001b[0m         \u001b[1;32mif\u001b[0m \u001b[1;32mnot\u001b[0m \u001b[0mis_scalar\u001b[0m\u001b[1;33m(\u001b[0m\u001b[0mresult\u001b[0m\u001b[1;33m)\u001b[0m\u001b[1;33m:\u001b[0m\u001b[1;33m\u001b[0m\u001b[1;33m\u001b[0m\u001b[0m\n\u001b[0;32m   4113\u001b[0m             \u001b[1;32mif\u001b[0m \u001b[0mnp\u001b[0m\u001b[1;33m.\u001b[0m\u001b[0mndim\u001b[0m\u001b[1;33m(\u001b[0m\u001b[0mresult\u001b[0m\u001b[1;33m)\u001b[0m \u001b[1;33m>\u001b[0m \u001b[1;36m1\u001b[0m\u001b[1;33m:\u001b[0m\u001b[1;33m\u001b[0m\u001b[1;33m\u001b[0m\u001b[0m\n",
      "\u001b[1;31mIndexError\u001b[0m: boolean index did not match indexed array along dimension 0; dimension is 1 but corresponding boolean dimension is 9"
     ]
    }
   ],
   "source": [
    "print(pins)\n",
    "print(table.index[pins])"
   ]
  },
  {
   "cell_type": "markdown",
   "metadata": {},
   "source": [
    "Columns mit NANs entfernen"
   ]
  },
  {
   "cell_type": "code",
   "execution_count": null,
   "metadata": {},
   "outputs": [],
   "source": []
  },
  {
   "cell_type": "code",
   "execution_count": null,
   "metadata": {},
   "outputs": [
    {
     "name": "stdout",
     "output_type": "stream",
     "text": [
      "  Manufacturer    CPU Technology Package  Pins  Clock  Transistors    Year\n",
      "0          MOS   6502       NMOS    PDIP    40    1.0       3510.0  1972.0\n",
      "1          MOS  6502A       NMOS    PDIP    40    2.0       3510.0  1972.0\n",
      "2          MOS  6502B       NMOS    PDIP    40    3.0       3500.0  1972.0\n",
      "3        Intel   8008       PMOS    PDIP    18    2.5       3500.0  1972.0\n",
      "4        Intel   8080       NMOS    CDIP    40    2.5       6000.0  1974.0\n",
      "5        Zilog    Z80       NMOS    CDIP    40    2.5       8500.0  1976.0\n",
      "  Manufacturer    CPU Technology Package  Pins  Clock  Transistors    Year\n",
      "0          MOS   6502       NMOS    PDIP    40    1.0       3510.0  1972.0\n",
      "1          MOS  6502A       NMOS    PDIP    40    2.0       3510.0  1972.0\n",
      "2          MOS  6502B       NMOS    PDIP    40    3.0       3500.0  1972.0\n",
      "3        Intel   8008       PMOS    PDIP    18    2.5       3500.0  1972.0\n",
      "4        Intel   8080       NMOS    CDIP    40    2.5       6000.0  1974.0\n",
      "5        Zilog    Z80       NMOS    CDIP    40    2.5       8500.0  1976.0\n"
     ]
    }
   ],
   "source": [
    "table = cpu.head(6).copy()\n",
    "print(table)\n",
    "table.dropna(inplace = True)\n",
    "print(table)"
   ]
  },
  {
   "cell_type": "code",
   "execution_count": null,
   "metadata": {},
   "outputs": [
    {
     "name": "stdout",
     "output_type": "stream",
     "text": [
      "  Manufacturer    CPU Technology Package  Pins  Clock  Transistors    Year\n",
      "0          MOS   6502       NMOS    PDIP    40    1.0       3510.0  1972.0\n",
      "1          MOS  6502A       NMOS    PDIP    40    2.0       3510.0  1972.0\n",
      "2          MOS  6502B       NMOS    PDIP    40    3.0       3500.0  1972.0\n",
      "  Manufacturer    CPU Technology Package  Pins  Clock  Transistors    Year\n",
      "0          MOS   6502       NMOS    PDIP    40    1.0       3510.0  1972.0\n",
      "1          MOS  6502A       NMOS    PDIP    40    2.0       3510.0  1972.0\n",
      "2          MOS  6502B       NMOS    PDIP    40    3.0       3500.0  1972.0\n"
     ]
    }
   ],
   "source": [
    "table = cpu.head(3).copy()\n",
    "print(table)\n",
    "table.dropna(axis = 1, inplace = True)\n",
    "print(table)"
   ]
  },
  {
   "cell_type": "code",
   "execution_count": null,
   "metadata": {},
   "outputs": [
    {
     "name": "stdout",
     "output_type": "stream",
     "text": [
      "  Manufacturer    CPU Technology Package  Pins  Clock  Transistors    Year\n",
      "0          MOS   6502       NMOS    PDIP    40    1.0       3510.0  1972.0\n",
      "1          MOS  6502A       NMOS    PDIP    40    2.0       3510.0  1972.0\n",
      "2          MOS  6502B       NMOS    PDIP    40    3.0       3500.0  1972.0\n",
      "3        Intel   8008       PMOS    PDIP    18    2.5       3500.0  1972.0\n",
      "4        Intel   8080       NMOS    CDIP    40    2.5       6000.0  1974.0\n",
      "5        Zilog    Z80       NMOS    CDIP    40    2.5       8500.0  1976.0\n",
      "6     Motorola   6800       NMOS    PDIP    40    1.0       4100.0  1978.0\n",
      "7     Motorola   6809       NMOS    PDIP    40    1.0       9000.0  1978.0\n",
      "8     Motorola  68000       HMOS    PDIP    64   10.0      68000.0  1979.0\n"
     ]
    }
   ],
   "source": [
    "print(cpu)"
   ]
  },
  {
   "cell_type": "code",
   "execution_count": null,
   "metadata": {},
   "outputs": [
    {
     "name": "stdout",
     "output_type": "stream",
     "text": [
      "  Manufacturer    CPU Technology Package  Pins  Clock  Transistors    Year\n",
      "0          MOS   6502       NMOS    PDIP    40    1.0       3510.0  1972.0\n",
      "1          MOS  6502A       NMOS    PDIP    40    2.0       3510.0  1972.0\n",
      "2          MOS  6502B       NMOS    PDIP    40    3.0       3500.0  1972.0\n",
      "3        Intel   8008       PMOS    PDIP    18    2.5       3500.0  1972.0\n",
      "\n",
      "\n",
      "   Manufacturer    CPU Technology Package  Pins  Clock  Transistors    Year\n",
      "0          MOS   6502       NMOS    PDIP    40    1.0       3510.0  1972.0\n",
      "1          MOS  6502A       NMOS    PDIP    40    2.0       3510.0  1972.0\n",
      "2          MOS  6502B       NMOS    PDIP    40    3.0       3500.0  1972.0\n",
      "3        Intel   8008       PMOS    PDIP    18    2.5       3500.0  1972.0\n"
     ]
    }
   ],
   "source": [
    "cpuCopy = cpu.head(4).copy()\n",
    "print(cpuCopy)\n",
    "\n",
    "for column in cpuCopy.columns:\n",
    "    if (cpuCopy[column].isna().any()):\n",
    "         cpuCopy.drop(column, axis = 1, inplace = True)\n",
    "\n",
    "     \n",
    "print(\"\\n\\n\", cpuCopy)   "
   ]
  },
  {
   "cell_type": "code",
   "execution_count": null,
   "metadata": {},
   "outputs": [
    {
     "name": "stdout",
     "output_type": "stream",
     "text": [
      "Manufacturer    MOSMOSMOSIntelIntelZilogMotorolaMotorolaMotorola\n",
      "CPU                       65026502A6502B80088080Z806800680968000\n",
      "Technology                  NMOSNMOSNMOSPMOSNMOSNMOSNMOSNMOSHMOS\n",
      "Package                     PDIPPDIPPDIPPDIPCDIPCDIPPDIPPDIPPDIP\n",
      "Pins                                                         362\n",
      "Clock                                                       25.5\n",
      "Transistors                                               109620\n",
      "Year                                                       17773\n",
      "dtype: object\n",
      "\n",
      "Sume aller Transistoren -  109620.0\n"
     ]
    }
   ],
   "source": [
    "print(cpu.sum())\n",
    "print(\"\\nSume aller Transistoren - \",cpu[\"Transistors\"].sum())"
   ]
  },
  {
   "cell_type": "code",
   "execution_count": null,
   "metadata": {},
   "outputs": [
    {
     "name": "stdout",
     "output_type": "stream",
     "text": [
      "Manufacturer    Zilog\n",
      "CPU               Z80\n",
      "Technology       PMOS\n",
      "Package          PDIP\n",
      "Pins               64\n",
      "Clock              10\n",
      "Transistors     68000\n",
      "Year             1979\n",
      "dtype: object\n",
      "\n",
      "Maximum aller Transistoren -  68000.0\n"
     ]
    }
   ],
   "source": [
    "print(cpu.max())\n",
    "print(\"\\nMaximum aller Transistoren - \",cpu[\"Transistors\"].max())"
   ]
  },
  {
   "cell_type": "code",
   "execution_count": null,
   "metadata": {},
   "outputs": [
    {
     "name": "stdout",
     "output_type": "stream",
     "text": [
      "Manufacturer    Intel\n",
      "CPU              6502\n",
      "Technology       HMOS\n",
      "Package          CDIP\n",
      "Pins               18\n",
      "Clock               1\n",
      "Transistors      3500\n",
      "Year             1972\n",
      "dtype: object\n",
      "\n",
      "Minimum aller Transistoren -  3500.0\n"
     ]
    }
   ],
   "source": [
    "print(cpu.min())\n",
    "print(\"\\nMinimum aller Transistoren - \",cpu[\"Transistors\"].min())"
   ]
  },
  {
   "cell_type": "code",
   "execution_count": null,
   "metadata": {},
   "outputs": [
    {
     "name": "stdout",
     "output_type": "stream",
     "text": [
      "     CPU  Transistors  Difference\n",
      "0   6502       3510.0         NaN\n",
      "1  6502A       3510.0         0.0\n",
      "2  6502B       3500.0       -10.0\n",
      "3   8008       3500.0         0.0\n",
      "4   8080       6000.0      2500.0\n",
      "5    Z80       8500.0      2500.0\n",
      "6   6800       4100.0     -4400.0\n",
      "7   6809       9000.0      4900.0\n",
      "8  68000      68000.0     59000.0\n"
     ]
    }
   ],
   "source": [
    "df =pd.DataFrame({})\n",
    "df[\"CPU\"] = cpu[\"CPU\"]\n",
    "df[\"Transistors\"] = cpu[\"Transistors\"]\n",
    "df[\"Difference\"] = cpu[\"Transistors\"].diff()\n",
    "print(df)"
   ]
  },
  {
   "cell_type": "code",
   "execution_count": null,
   "metadata": {},
   "outputs": [
    {
     "name": "stdout",
     "output_type": "stream",
     "text": [
      "     CPU  Transistors      + 1      - 1\n",
      "0   6502       3510.0   3511.0   3509.0\n",
      "1  6502A       3510.0   3511.0   3509.0\n",
      "2  6502B       3500.0   3501.0   3499.0\n",
      "3   8008       3500.0   3501.0   3499.0\n",
      "4   8080       6000.0   6001.0   5999.0\n",
      "5    Z80       8500.0   8501.0   8499.0\n",
      "6   6800       4100.0   4101.0   4099.0\n",
      "7   6809       9000.0   9001.0   8999.0\n",
      "8  68000      68000.0  68001.0  67999.0\n"
     ]
    }
   ],
   "source": [
    "df =pd.DataFrame({})\n",
    "df[\"CPU\"] = cpu[\"CPU\"]\n",
    "df[\"Transistors\"] = cpu[\"Transistors\"]\n",
    "df[\"+ 1\"] = cpu[\"Transistors\"].add(1)\n",
    "df[\"- 1\"] = cpu[\"Transistors\"].sub(1)\n",
    "print(df)"
   ]
  },
  {
   "cell_type": "code",
   "execution_count": null,
   "metadata": {},
   "outputs": [],
   "source": []
  },
  {
   "cell_type": "code",
   "execution_count": null,
   "metadata": {},
   "outputs": [
    {
     "name": "stdout",
     "output_type": "stream",
     "text": [
      "   Transistors\n",
      "0       7020.0\n",
      "1       7020.0\n",
      "2       7000.0\n",
      "3       7000.0\n",
      "4      12000.0\n",
      "5      17000.0\n",
      "6       8200.0\n",
      "7      18000.0\n",
      "8     136000.0\n"
     ]
    }
   ],
   "source": [
    "df =pd.DataFrame({})\n",
    "df[\"Transistors\"] = cpu[\"Transistors\"] + cpu[\"Transistors\"]\n",
    "print(df)"
   ]
  },
  {
   "cell_type": "code",
   "execution_count": null,
   "metadata": {},
   "outputs": [],
   "source": []
  },
  {
   "cell_type": "code",
   "execution_count": null,
   "metadata": {},
   "outputs": [
    {
     "name": "stdout",
     "output_type": "stream",
     "text": [
      "<class 'numpy.ndarray'>\n",
      "[['MOS' '6502' 'NMOS' 'PDIP' 40 1.0 3510.0 1972.0]\n",
      " ['MOS' '6502A' 'NMOS' 'PDIP' 40 2.0 3510.0 1972.0]\n",
      " ['MOS' '6502B' 'NMOS' 'PDIP' 40 3.0 3500.0 1972.0]\n",
      " ['Intel' '8008' 'PMOS' 'PDIP' 18 2.5 3500.0 1972.0]]\n",
      "<class 'numpy.ndarray'>\n",
      "[[False False False False False False False False]\n",
      " [False False False False False False False False]\n",
      " [False False False False False False False False]\n",
      " [False False False False False False False False]]\n",
      "<class 'numpy.int32'>\n",
      "0\n",
      "*****\n",
      "<class 'pandas.core.series.Series'>\n",
      "sume : Manufacturer        MOSMOSMOSIntel\n",
      "CPU             65026502A6502B8008\n",
      "Technology        NMOSNMOSNMOSPMOS\n",
      "Package           PDIPPDIPPDIPPDIP\n",
      "Pins                           138\n",
      "Clock                          8.5\n",
      "Transistors                  14020\n",
      "Year                          7888\n",
      "dtype: object\n",
      "*****\n",
      "<class 'numpy.bool_'>\n",
      "  Manufacturer    CPU Technology Package  Pins  Clock  Transistors    Year\n",
      "0          MOS   6502       NMOS    PDIP    40    1.0       3510.0  1972.0\n",
      "1          MOS  6502A       NMOS    PDIP    40    2.0       3510.0  1972.0\n",
      "2          MOS  6502B       NMOS    PDIP    40    3.0       3500.0  1972.0\n",
      "3        Intel   8008       PMOS    PDIP    18    2.5       3500.0  1972.0\n",
      "False\n",
      "<class 'numpy.bool_'>\n",
      "  Manufacturer    CPU Technology Package  Pins  Clock  Transistors    Year\n",
      "7     Motorola   6809       NMOS    PDIP    40    1.0       9000.0  1978.0\n",
      "8     Motorola  68000       HMOS    PDIP    64   10.0      68000.0  1979.0\n",
      "False\n"
     ]
    }
   ],
   "source": [
    "t = cpu.head(4).values\n",
    "print(type(t))\n",
    "print(t)\n",
    "\n",
    "t = cpu.head(4).isna().values\n",
    "print(type(t))\n",
    "print(t)\n",
    "\n",
    "t = cpu.head(4).isna().values.sum()\n",
    "print(type(t))\n",
    "print(t)\n",
    "\n",
    "print(\"*****\")\n",
    "table = cpu.head(4).sum()\n",
    "print(type(table))\n",
    "print(\"sume :\",table)\n",
    "print(\"*****\")\n",
    "\n",
    "table = cpu.head(4).isna().values.any()\n",
    "print(type(table))\n",
    "\n",
    "print(cpu.head(4))\n",
    "print(table)\n",
    "\n",
    "table = cpu.tail(2).isna().values.any()\n",
    "print(type(table))\n",
    "\n",
    "print(cpu.tail(2))\n",
    "print(table)"
   ]
  },
  {
   "cell_type": "code",
   "execution_count": null,
   "metadata": {},
   "outputs": [],
   "source": []
  },
  {
   "cell_type": "code",
   "execution_count": null,
   "metadata": {},
   "outputs": [
    {
     "name": "stdout",
     "output_type": "stream",
     "text": [
      "<class 'pandas.core.frame.DataFrame'>\n",
      "  Manufacturer    CPU Technology Package  Pins  Clock  Transistors    Year\n",
      "0          MOS   6502       NMOS    PDIP    40    1.0       3510.0  1972.0\n",
      "1          MOS  6502A       NMOS    PDIP    40    2.0       3510.0  1972.0\n",
      "2          MOS  6502B       NMOS    PDIP    40    3.0       3500.0  1972.0\n",
      "3        Intel   8008       PMOS    PDIP    18    2.5       3500.0  1972.0\n",
      "   Manufacturer    CPU  Technology  Package   Pins  Clock  Transistors   Year\n",
      "0         False  False       False    False  False  False        False  False\n",
      "1         False  False       False    False  False  False        False  False\n",
      "2         False  False       False    False  False  False        False  False\n",
      "3         False  False       False    False  False  False        False  False\n"
     ]
    }
   ],
   "source": [
    "table = cpu.head(4).isna()\n",
    "print(type(table))\n",
    "\n",
    "print(cpu.head(4))\n",
    "print(table)"
   ]
  },
  {
   "cell_type": "code",
   "execution_count": null,
   "metadata": {},
   "outputs": [
    {
     "name": "stdout",
     "output_type": "stream",
     "text": [
      " Spalten : \n",
      "Manufacturer    False\n",
      "CPU             False\n",
      "Technology      False\n",
      "Package         False\n",
      "Pins            False\n",
      "Clock           False\n",
      "Transistors     False\n",
      "Year            False\n",
      "dtype: bool\n",
      "\n",
      "Tabelle :  False\n"
     ]
    }
   ],
   "source": [
    "print(\" Spalten : \")\n",
    "print(table.any())\n",
    "print(\"\")\n",
    "\n",
    "print(\"Tabelle : \",table.any().any())"
   ]
  },
  {
   "cell_type": "code",
   "execution_count": null,
   "metadata": {},
   "outputs": [],
   "source": []
  },
  {
   "cell_type": "code",
   "execution_count": null,
   "metadata": {},
   "outputs": [
    {
     "name": "stdout",
     "output_type": "stream",
     "text": [
      "  Manufacturer    CPU Technology Package  Pins  Clock  Transistors    Year\n",
      "0          MOS   6502       NMOS    PDIP    40    1.0       3510.0  1972.0\n",
      "1          MOS  6502A       NMOS    PDIP    40    2.0       3510.0  1972.0\n",
      "2          MOS  6502B       NMOS    PDIP    40    3.0       3500.0  1972.0\n",
      "3        Intel   8008       PMOS    PDIP    18    2.5       3500.0  1972.0\n",
      "4        Intel   8080       NMOS    CDIP    40    2.5       6000.0  1974.0\n",
      "  Manufacturer    CPU Technology Package  Pins  Clock  Transistors    Year\n",
      "0          MOS   6502       NMOS    PDIP    40    1.0       3510.0  1972.0\n",
      "1          MOS  6502A       NMOS    PDIP    40    2.0       3510.0  1972.0\n",
      "2          MOS  6502B       NMOS    PDIP    40    3.0       3500.0  1972.0\n",
      "3        Intel   8008       PMOS    PDIP    18    2.5       3500.0  1972.0\n",
      "4        Intel   8080       NMOS    CDIP    40    2.5       6000.0  1974.0\n",
      "5        Zilog    Z80       NMOS    CDIP    40    2.5       8500.0  1976.0\n",
      "6     Motorola   6800       NMOS    PDIP    40    1.0       4100.0  1978.0\n",
      "7     Motorola   6809       NMOS    PDIP    40    1.0       9000.0  1978.0\n",
      "8     Motorola  68000       HMOS    PDIP    64   10.0      68000.0  1979.0\n",
      "  Manufacturer    CPU Technology Package  Pins  Clock  Transistors    Year\n",
      "0          MOS   6502       NMOS    PDIP    40    1.0       3510.0  1972.0\n",
      "1          MOS  6502A       NMOS    PDIP    40    2.0       3510.0  1972.0\n",
      "2          MOS  6502B       NMOS    PDIP    40    3.0       3500.0  1972.0\n",
      "3        Intel   8008       PMOS    PDIP    18    2.5       3500.0  1972.0\n",
      "4        Intel   8080       NMOS    CDIP    40    2.5       6000.0  1974.0\n"
     ]
    }
   ],
   "source": [
    "print(cpu.head(5))\n",
    "print(cpu.dropna(0))\n",
    "print(cpu.head(5))"
   ]
  },
  {
   "cell_type": "code",
   "execution_count": null,
   "metadata": {},
   "outputs": [
    {
     "name": "stdout",
     "output_type": "stream",
     "text": [
      "\n",
      "    Two-dimensional, size-mutable, potentially heterogeneous tabular data.\n",
      "\n",
      "    Data structure also contains labeled axes (rows and columns).\n",
      "    Arithmetic operations align on both row and column labels. Can be\n",
      "    thought of as a dict-like container for Series objects. The primary\n",
      "    pandas data structure.\n",
      "\n",
      "    Parameters\n",
      "    ----------\n",
      "    data : ndarray (structured or homogeneous), Iterable, dict, or DataFrame\n",
      "        Dict can contain Series, arrays, constants, or list-like objects.\n",
      "\n",
      "        .. versionchanged:: 0.23.0\n",
      "           If data is a dict, column order follows insertion-order for\n",
      "           Python 3.6 and later.\n",
      "\n",
      "        .. versionchanged:: 0.25.0\n",
      "           If data is a list of dicts, column order follows insertion-order\n",
      "           for Python 3.6 and later.\n",
      "\n",
      "    index : Index or array-like\n",
      "        Index to use for resulting frame. Will default to RangeIndex if\n",
      "        no indexing information part of input data and no index provided.\n",
      "    columns : Index or array-like\n",
      "        Column labels to use for resulting frame. Will default to\n",
      "        RangeIndex (0, 1, 2, ..., n) if no column labels are provided.\n",
      "    dtype : dtype, default None\n",
      "        Data type to force. Only a single dtype is allowed. If None, infer.\n",
      "    copy : bool, default False\n",
      "        Copy data from inputs. Only affects DataFrame / 2d ndarray input.\n",
      "\n",
      "    See Also\n",
      "    --------\n",
      "    DataFrame.from_records : Constructor from tuples, also record arrays.\n",
      "    DataFrame.from_dict : From dicts of Series, arrays, or dicts.\n",
      "    read_csv : Read a comma-separated values (csv) file into DataFrame.\n",
      "    read_table : Read general delimited file into DataFrame.\n",
      "    read_clipboard : Read text from clipboard into DataFrame.\n",
      "\n",
      "    Examples\n",
      "    --------\n",
      "    Constructing DataFrame from a dictionary.\n",
      "\n",
      "    >>> d = {'col1': [1, 2], 'col2': [3, 4]}\n",
      "    >>> df = pd.DataFrame(data=d)\n",
      "    >>> df\n",
      "       col1  col2\n",
      "    0     1     3\n",
      "    1     2     4\n",
      "\n",
      "    Notice that the inferred dtype is int64.\n",
      "\n",
      "    >>> df.dtypes\n",
      "    col1    int64\n",
      "    col2    int64\n",
      "    dtype: object\n",
      "\n",
      "    To enforce a single dtype:\n",
      "\n",
      "    >>> df = pd.DataFrame(data=d, dtype=np.int8)\n",
      "    >>> df.dtypes\n",
      "    col1    int8\n",
      "    col2    int8\n",
      "    dtype: object\n",
      "\n",
      "    Constructing DataFrame from numpy ndarray:\n",
      "\n",
      "    >>> df2 = pd.DataFrame(np.array([[1, 2, 3], [4, 5, 6], [7, 8, 9]]),\n",
      "    ...                    columns=['a', 'b', 'c'])\n",
      "    >>> df2\n",
      "       a  b  c\n",
      "    0  1  2  3\n",
      "    1  4  5  6\n",
      "    2  7  8  9\n",
      "    \n"
     ]
    }
   ],
   "source": [
    "print(cpu.head().__doc__)"
   ]
  },
  {
   "cell_type": "code",
   "execution_count": null,
   "metadata": {},
   "outputs": [],
   "source": [
    "df2 = pd.DataFrame(np.array([[1, 2, 3], [4, 5, 6], [7, 8, 9]]), columns=['a', 'b', 'c'])"
   ]
  },
  {
   "cell_type": "code",
   "execution_count": null,
   "metadata": {},
   "outputs": [],
   "source": []
  }
 ],
 "metadata": {
  "kernelspec": {
   "display_name": "Python 3",
   "language": "python",
   "name": "python3"
  },
  "language_info": {
   "codemirror_mode": {
    "name": "ipython",
    "version": 3
   },
   "file_extension": ".py",
   "mimetype": "text/x-python",
   "name": "python",
   "nbconvert_exporter": "python",
   "pygments_lexer": "ipython3",
   "version": "3.8.11"
  }
 },
 "nbformat": 4,
 "nbformat_minor": 4
}
