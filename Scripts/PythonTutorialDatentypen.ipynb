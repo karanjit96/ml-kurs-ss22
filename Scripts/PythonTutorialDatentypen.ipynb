{
 "cells": [
  {
   "cell_type": "markdown",
   "metadata": {},
   "source": [
    "Tutorial Datentypen"
   ]
  },
  {
   "cell_type": "markdown",
   "metadata": {},
   "source": [
    "Speicherverwaltung"
   ]
  },
  {
   "cell_type": "code",
   "execution_count": 1,
   "metadata": {},
   "outputs": [
    {
     "name": "stdout",
     "output_type": "stream",
     "text": [
      "Speicherstelle von a = 5 - 140725254096672\n",
      "Speicherstelle von a = 6 - 140725254096704\n",
      "Speicherstelle von b = 7 - 140725254096736\n",
      "Speicherstelle von a = 7 - 140725254096736\n",
      "Speicherstelle von c = 6 - 140725254096704\n"
     ]
    }
   ],
   "source": [
    "a = 5\n",
    "print(\"Speicherstelle von a =\", a ,\"-\" , id(a))\n",
    "\n",
    "a = 6\n",
    "print(\"Speicherstelle von a =\", a ,\"-\" , id(a))\n",
    "\n",
    "b = 7 \n",
    "print(\"Speicherstelle von b =\", b ,\"-\" , id(b))\n",
    "\n",
    "a = b \n",
    "print(\"Speicherstelle von a =\", a ,\"-\" , id(a))\n",
    "\n",
    "c = 6 \n",
    "print(\"Speicherstelle von c =\", c ,\"-\" , id(c))"
   ]
  },
  {
   "cell_type": "code",
   "execution_count": 2,
   "metadata": {},
   "outputs": [
    {
     "name": "stdout",
     "output_type": "stream",
     "text": [
      "<class 'int'>\n",
      "<class 'float'>\n",
      "<class 'complex'>\n",
      "<class 'bool'>\n"
     ]
    }
   ],
   "source": [
    "ganzzahl = 6;\n",
    "print(type(ganzzahl))\n",
    "\n",
    "gleitkommazahl = 6.9;\n",
    "print(type(gleitkommazahl))\n",
    "\n",
    "komplex = 2.0+4.9J\n",
    "print(type(komplex))\n",
    "\n",
    "boolean = True;\n",
    "print(type(boolean))"
   ]
  },
  {
   "cell_type": "code",
   "execution_count": 3,
   "metadata": {},
   "outputs": [
    {
     "name": "stdout",
     "output_type": "stream",
     "text": [
      "integer <class 'int'> 7\n",
      "integer <class 'float'> 55.300000000000004 \n",
      "\n",
      "<class 'int'> 10\n",
      "<class 'float'> 15.9\n",
      "<class 'complex'> 15.9\n"
     ]
    }
   ],
   "source": [
    "\n",
    "integer  = 7\n",
    "flieskomma = 7.9\n",
    "print(\"integer\",type(integer), integer)\n",
    "integer = integer * flieskomma\n",
    "print(\"integer\",type(integer), integer,\"\\n\")\n",
    "\n",
    "print(type(8 + True), 8 + True + True)\n",
    "print(type(8 + 7.9), 8 + 7.9)\n",
    "print(type(8 + 7.9+3J), 8 + 7.9)"
   ]
  },
  {
   "cell_type": "code",
   "execution_count": 4,
   "metadata": {},
   "outputs": [
    {
     "name": "stdout",
     "output_type": "stream",
     "text": [
      "[8, 2, 3, 8, 2, 3, 8, 2, 3]\n"
     ]
    }
   ],
   "source": [
    "list =[8 ,2,3]\n",
    "list = list * 3\n",
    "print(list)"
   ]
  },
  {
   "cell_type": "code",
   "execution_count": null,
   "metadata": {},
   "outputs": [],
   "source": []
  },
  {
   "cell_type": "code",
   "execution_count": 5,
   "metadata": {},
   "outputs": [
    {
     "name": "stdout",
     "output_type": "stream",
     "text": [
      "<class 'bytes'>\n",
      "b'\\x00\\x00\\x00\\x00\\x00'\n"
     ]
    }
   ],
   "source": [
    "a = bytes(5)\n",
    "print(type(a))\n",
    "print(a)"
   ]
  },
  {
   "cell_type": "code",
   "execution_count": null,
   "metadata": {},
   "outputs": [],
   "source": []
  },
  {
   "cell_type": "code",
   "execution_count": 6,
   "metadata": {},
   "outputs": [
    {
     "name": "stdout",
     "output_type": "stream",
     "text": [
      "Speicherstelle von liste = 2150656261952\n",
      "Speicherstelle von liste = 2150656261952\n"
     ]
    }
   ],
   "source": [
    "liste = [\"Maus\",\"Katze\",\"Hörnchen\"]\n",
    "print(\"Speicherstelle von liste =\", id(liste))\n",
    "liste.append(\"Titanophoneus potens\")\n",
    "print(\"Speicherstelle von liste =\", id(liste))\n"
   ]
  },
  {
   "cell_type": "code",
   "execution_count": 14,
   "metadata": {},
   "outputs": [
    {
     "name": "stdout",
     "output_type": "stream",
     "text": [
      "Speicherstelle von liste = 2731250552640\n"
     ]
    },
    {
     "ename": "AttributeError",
     "evalue": "'tuple' object has no attribute 'add'",
     "output_type": "error",
     "traceback": [
      "\u001b[1;31m---------------------------------------------------------------------------\u001b[0m",
      "\u001b[1;31mAttributeError\u001b[0m                            Traceback (most recent call last)",
      "\u001b[1;32m<ipython-input-14-6de4ffa0ca13>\u001b[0m in \u001b[0;36m<module>\u001b[1;34m\u001b[0m\n\u001b[0;32m      1\u001b[0m \u001b[0mliste\u001b[0m \u001b[1;33m=\u001b[0m \u001b[1;33m(\u001b[0m\u001b[1;34m\"Maus\"\u001b[0m\u001b[1;33m,\u001b[0m\u001b[1;34m\"Katze\"\u001b[0m\u001b[1;33m,\u001b[0m\u001b[1;34m\"Hörnchen\"\u001b[0m\u001b[1;33m)\u001b[0m\u001b[1;33m\u001b[0m\u001b[1;33m\u001b[0m\u001b[0m\n\u001b[0;32m      2\u001b[0m \u001b[0mprint\u001b[0m\u001b[1;33m(\u001b[0m\u001b[1;34m\"Speicherstelle von liste =\"\u001b[0m\u001b[1;33m,\u001b[0m \u001b[0mid\u001b[0m\u001b[1;33m(\u001b[0m\u001b[0mliste\u001b[0m\u001b[1;33m)\u001b[0m\u001b[1;33m)\u001b[0m\u001b[1;33m\u001b[0m\u001b[1;33m\u001b[0m\u001b[0m\n\u001b[1;32m----> 3\u001b[1;33m \u001b[0mliste\u001b[0m\u001b[1;33m.\u001b[0m\u001b[0madd\u001b[0m\u001b[1;33m(\u001b[0m\u001b[1;34m\"Titanophoneus potens\"\u001b[0m\u001b[1;33m)\u001b[0m\u001b[1;33m\u001b[0m\u001b[1;33m\u001b[0m\u001b[0m\n\u001b[0m\u001b[0;32m      4\u001b[0m \u001b[0mprint\u001b[0m\u001b[1;33m(\u001b[0m\u001b[1;34m\"Speicherstelle von liste =\"\u001b[0m\u001b[1;33m,\u001b[0m \u001b[0mid\u001b[0m\u001b[1;33m(\u001b[0m\u001b[0mliste\u001b[0m\u001b[1;33m)\u001b[0m\u001b[1;33m)\u001b[0m\u001b[1;33m\u001b[0m\u001b[1;33m\u001b[0m\u001b[0m\n",
      "\u001b[1;31mAttributeError\u001b[0m: 'tuple' object has no attribute 'add'"
     ]
    }
   ],
   "source": []
  },
  {
   "cell_type": "markdown",
   "metadata": {},
   "source": [
    "Booleans"
   ]
  },
  {
   "cell_type": "code",
   "execution_count": 67,
   "metadata": {},
   "outputs": [
    {
     "name": "stdout",
     "output_type": "stream",
     "text": [
      " 8 ist -  True\n",
      "-8 ist -  True\n",
      " 0 ist -  False\n",
      " 8 * 8 -  True\n",
      " 8 - 8 -  False\n"
     ]
    }
   ],
   "source": [
    "a = 8\n",
    "b = 0\n",
    "print(\" 8 ist - \",bool(a))\n",
    "print(\"-8 ist - \",bool(-a))\n",
    "print(\" 0 ist - \",bool(b))\n",
    "print(\" 8 * 8 - \",bool(a * a))\n",
    "print(\" 8 - 8 - \",bool(a - a))"
   ]
  },
  {
   "cell_type": "code",
   "execution_count": 15,
   "metadata": {},
   "outputs": [
    {
     "name": "stdout",
     "output_type": "stream",
     "text": [
      " a < b : True\n",
      " a > b : False\n",
      "a == b : False\n",
      "a != b : True\n"
     ]
    }
   ],
   "source": [
    "a = 8\n",
    "b = 9\n",
    "print(\" a < b :\", a < b)\n",
    "print(\" a > b :\", a > b)\n",
    "print(\"a == b :\",a == b)\n",
    "print(\"a != b :\",a != b)"
   ]
  },
  {
   "cell_type": "code",
   "execution_count": 68,
   "metadata": {},
   "outputs": [
    {
     "name": "stdout",
     "output_type": "stream",
     "text": [
      "'Hallo' ist nicht leer -  True\n",
      "'' ist nicht leer -  False\n",
      " h kommt vor -  False\n",
      " H kommt vor -  True\n"
     ]
    }
   ],
   "source": [
    "zeichenkette = \"Hallo\"\n",
    "zeichen = \"H\"\n",
    "print(\"'Hallo' ist nicht leer - \",bool(zeichenkette))\n",
    "print(\"'' ist nicht leer - \",bool(\"\"))\n",
    "print(\" h kommt vor - \",bool(zeichenkette.count(\"h\")))\n",
    "print(\" H kommt vor - \",bool(\"Hallo\".count(zeichen)))"
   ]
  },
  {
   "cell_type": "code",
   "execution_count": 69,
   "metadata": {},
   "outputs": [
    {
     "name": "stdout",
     "output_type": "stream",
     "text": [
      "True + False = 3   = True\n",
      "True - False = 1   = True\n",
      "True - True  = 0   = False\n",
      "True * False = 0   = False\n",
      "True * True  = 1   = True\n",
      "True * 0.4   = 0.4 = True\n"
     ]
    }
   ],
   "source": [
    "a = True\n",
    "b = False\n",
    "print(\"True + False =\",a + a + a,\"  =\", bool(a + a + a))\n",
    "print(\"True - False =\",a - b,\"  =\", bool(a - b))\n",
    "print(\"True - True  =\",a - a,\"  =\", bool(a - a))\n",
    "print(\"True * False =\", a * b,\"  =\", bool(a * b))\n",
    "print(\"True * True  =\", a * a,\"  =\", bool(a * a))\n",
    "print(\"True * 0.4   =\", a * 0.4,\"=\", bool(a * 0.4))"
   ]
  },
  {
   "cell_type": "code",
   "execution_count": 52,
   "metadata": {},
   "outputs": [
    {
     "name": "stdout",
     "output_type": "stream",
     "text": [
      "True + True + True  = 3   - True\n",
      "True + False + True = 2   - True\n"
     ]
    }
   ],
   "source": [
    "a = True\n",
    "b = False\n",
    "print(\"True + True + True  =\",a + a + a,\"  -\", bool(a + a + a))\n",
    "print(\"True + False + True =\",a + b + a,\"  -\", bool(a + b + a))"
   ]
  },
  {
   "cell_type": "code",
   "execution_count": 59,
   "metadata": {},
   "outputs": [
    {
     "name": "stdout",
     "output_type": "stream",
     "text": [
      "True and False = False\n",
      "True or False  = True\n",
      "True or False or True = True\n",
      "not True       = False\n"
     ]
    }
   ],
   "source": [
    "a = True\n",
    "b = False\n",
    "print(\"True and False =\",a and b)\n",
    "print(\"True or False  =\",a or b)\n",
    "print(\"True or False or True =\",a or b or a)\n",
    "print(\"not True       =\",not a)"
   ]
  },
  {
   "cell_type": "code",
   "execution_count": null,
   "metadata": {},
   "outputs": [],
   "source": []
  },
  {
   "cell_type": "code",
   "execution_count": 22,
   "metadata": {},
   "outputs": [
    {
     "name": "stdout",
     "output_type": "stream",
     "text": [
      "to int     : 9\n",
      "to float   : 1.0\n",
      "to complex : (9.8+0j)\n",
      "to bool    : True\n"
     ]
    }
   ],
   "source": [
    "print(\"to int     :\",int(9.8))\n",
    "print(\"to float   :\",float(True))\n",
    "print(\"to complex :\",complex(9.8))\n",
    "print(\"to bool    :\",bool(4+3J))"
   ]
  },
  {
   "cell_type": "code",
   "execution_count": null,
   "metadata": {},
   "outputs": [],
   "source": []
  },
  {
   "cell_type": "markdown",
   "metadata": {},
   "source": [
    "Random"
   ]
  },
  {
   "cell_type": "code",
   "execution_count": 4,
   "metadata": {},
   "outputs": [
    {
     "name": "stdout",
     "output_type": "stream",
     "text": [
      "89\n",
      "12\n",
      "39\n"
     ]
    }
   ],
   "source": [
    "import random\n",
    "\n",
    "for a in range(3):\n",
    "    print(random.randrange(1, 100))"
   ]
  },
  {
   "cell_type": "code",
   "execution_count": 57,
   "metadata": {},
   "outputs": [
    {
     "name": "stdout",
     "output_type": "stream",
     "text": [
      "True and False = 51\n",
      "True or False  = 1\n",
      "not True       = False\n",
      "not True       = False\n"
     ]
    }
   ],
   "source": [
    "a = 1\n",
    "b = 51\n",
    "c = 20\n",
    "print(\"True and False =\",a and b)\n",
    "print(\"True or False  =\",a or c)\n",
    "print(\"not True       =\",not a)\n",
    "print(\"not True       =\",not b)"
   ]
  },
  {
   "cell_type": "code",
   "execution_count": null,
   "metadata": {},
   "outputs": [],
   "source": []
  },
  {
   "cell_type": "code",
   "execution_count": 31,
   "metadata": {},
   "outputs": [
    {
     "name": "stdout",
     "output_type": "stream",
     "text": [
      "2395376942640\n",
      "2395376964848\n",
      "2395376942640\n"
     ]
    }
   ],
   "source": [
    "string =\"Hallo\"\n",
    "print (id(string))\n",
    "string += \"World\"\n",
    "print (id(string))\n",
    "string2 =\"Hallo\"\n",
    "print (id(string2))"
   ]
  },
  {
   "cell_type": "code",
   "execution_count": 33,
   "metadata": {},
   "outputs": [
    {
     "name": "stdout",
     "output_type": "stream",
     "text": [
      "2395376942640\n",
      "2395376942640\n"
     ]
    }
   ],
   "source": [
    "string =\"Hallo\"\n",
    "string2 =\"Hallo\"\n",
    "print (id(string))\n",
    "print (id(string2))"
   ]
  },
  {
   "cell_type": "code",
   "execution_count": null,
   "metadata": {},
   "outputs": [],
   "source": []
  }
 ],
 "metadata": {
  "kernelspec": {
   "display_name": "Python 3",
   "language": "python",
   "name": "python3"
  },
  "language_info": {
   "codemirror_mode": {
    "name": "ipython",
    "version": 3
   },
   "file_extension": ".py",
   "mimetype": "text/x-python",
   "name": "python",
   "nbconvert_exporter": "python",
   "pygments_lexer": "ipython3",
   "version": "3.8.6"
  }
 },
 "nbformat": 4,
 "nbformat_minor": 4
}
