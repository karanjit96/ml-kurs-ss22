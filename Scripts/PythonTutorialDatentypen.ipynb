{
 "cells": [
  {
   "cell_type": "markdown",
   "metadata": {},
   "source": [
    "Tutorial Datentypen"
   ]
  },
  {
   "cell_type": "markdown",
   "metadata": {},
   "source": [
    "Speicherverwaltung"
   ]
  },
  {
   "cell_type": "code",
   "execution_count": 5,
   "metadata": {},
   "outputs": [
    {
     "name": "stdout",
     "output_type": "stream",
     "text": [
      "Speicherstelle von a = 5 - 4382222112\n",
      "Speicherstelle von a = 6 - 4382222144\n",
      "Speicherstelle von b = 7 - 4382222176\n",
      "Speicherstelle von a = 7 - 4382222176\n",
      "Speicherstelle von c = 6 - 4382222144\n"
     ]
    }
   ],
   "source": [
    "a = 5\n",
    "print(\"Speicherstelle von a =\", a ,\"-\" , id(a))\n",
    "\n",
    "a = 6\n",
    "print(\"Speicherstelle von a =\", a ,\"-\" , id(a))\n",
    "\n",
    "b = 7 \n",
    "print(\"Speicherstelle von b =\", b ,\"-\" , id(b))\n",
    "\n",
    "a = b \n",
    "print(\"Speicherstelle von a =\", a ,\"-\" , id(a))\n",
    "\n",
    "c = 6 \n",
    "print(\"Speicherstelle von c =\", c ,\"-\" , id(c))"
   ]
  },
  {
   "cell_type": "code",
   "execution_count": 6,
   "metadata": {},
   "outputs": [
    {
     "name": "stdout",
     "output_type": "stream",
     "text": [
      "<class 'int'>\n",
      "<class 'float'>\n",
      "<class 'complex'>\n",
      "<class 'bool'>\n"
     ]
    }
   ],
   "source": [
    "ganzzahl = 6;\n",
    "print(type(ganzzahl))\n",
    "\n",
    "gleitkommazahl = 6.9;\n",
    "print(type(gleitkommazahl))\n",
    "\n",
    "komplex = 2.0+4.9J\n",
    "print(type(komplex))\n",
    "\n",
    "boolean = True;\n",
    "print(type(boolean))"
   ]
  },
  {
   "cell_type": "code",
   "execution_count": 7,
   "metadata": {},
   "outputs": [
    {
     "name": "stdout",
     "output_type": "stream",
     "text": [
      "integer <class 'int'> 7\n",
      "integer <class 'float'> 55.300000000000004 \n",
      "\n",
      "<class 'int'> 10\n",
      "<class 'float'> 15.9\n",
      "<class 'complex'> 15.9\n"
     ]
    }
   ],
   "source": [
    "\n",
    "integer  = 7\n",
    "flieskomma = 7.9\n",
    "print(\"integer\",type(integer), integer)\n",
    "integer = integer * flieskomma\n",
    "print(\"integer\",type(integer), integer,\"\\n\")\n",
    "\n",
    "print(type(8 + True), 8 + True + True)\n",
    "print(type(8 + 7.9), 8 + 7.9)\n",
    "print(type(8 + 7.9+3J), 8 + 7.9)"
   ]
  },
  {
   "cell_type": "code",
   "execution_count": 8,
   "metadata": {},
   "outputs": [
    {
     "name": "stdout",
     "output_type": "stream",
     "text": [
      "[8, 2, 3, 8, 2, 3, 8, 2, 3]\n"
     ]
    }
   ],
   "source": [
    "list =[8 ,2,3]\n",
    "list = list * 3\n",
    "print(list)"
   ]
  },
  {
   "cell_type": "code",
   "execution_count": null,
   "metadata": {},
   "outputs": [],
   "source": []
  },
  {
   "cell_type": "code",
   "execution_count": 9,
   "metadata": {},
   "outputs": [
    {
     "name": "stdout",
     "output_type": "stream",
     "text": [
      "<class 'bytes'>\n",
      "b'\\x00\\x00\\x00\\x00\\x00'\n"
     ]
    }
   ],
   "source": [
    "a = bytes(5)\n",
    "print(type(a))\n",
    "print(a)"
   ]
  },
  {
   "cell_type": "code",
   "execution_count": null,
   "metadata": {},
   "outputs": [],
   "source": []
  },
  {
   "cell_type": "code",
   "execution_count": 10,
   "metadata": {},
   "outputs": [
    {
     "name": "stdout",
     "output_type": "stream",
     "text": [
      "Speicherstelle von liste = 4717785408\n",
      "Speicherstelle von liste = 4717785408\n"
     ]
    }
   ],
   "source": [
    "liste = [\"Maus\",\"Katze\",\"Hörnchen\"]\n",
    "print(\"Speicherstelle von liste =\", id(liste))\n",
    "liste.append(\"Titanophoneus potens\")\n",
    "print(\"Speicherstelle von liste =\", id(liste))\n"
   ]
  },
  {
   "cell_type": "code",
   "execution_count": null,
   "metadata": {},
   "outputs": [],
   "source": []
  },
  {
   "cell_type": "markdown",
   "metadata": {},
   "source": [
    "Booleans"
   ]
  },
  {
   "cell_type": "code",
   "execution_count": 11,
   "metadata": {},
   "outputs": [
    {
     "name": "stdout",
     "output_type": "stream",
     "text": [
      " 8 ist -  True\n",
      "-8 ist -  True\n",
      " 0 ist -  False\n",
      " 8 * 8 -  True\n",
      " 8 - 8 -  False\n"
     ]
    }
   ],
   "source": [
    "a = 8\n",
    "b = 0\n",
    "print(\" 8 ist - \",bool(a))\n",
    "print(\"-8 ist - \",bool(-a))\n",
    "print(\" 0 ist - \",bool(b))\n",
    "print(\" 8 * 8 - \",bool(a * a))\n",
    "print(\" 8 - 8 - \",bool(a - a))"
   ]
  },
  {
   "cell_type": "code",
   "execution_count": 12,
   "metadata": {},
   "outputs": [
    {
     "name": "stdout",
     "output_type": "stream",
     "text": [
      " a < b : True\n",
      " a > b : False\n",
      "a == b : False\n",
      "a != b : True\n"
     ]
    }
   ],
   "source": [
    "a = 8\n",
    "b = 9\n",
    "print(\" a < b :\", a < b)\n",
    "print(\" a > b :\", a > b)\n",
    "print(\"a == b :\",a == b)\n",
    "print(\"a != b :\",a != b)"
   ]
  },
  {
   "cell_type": "code",
   "execution_count": 13,
   "metadata": {},
   "outputs": [
    {
     "name": "stdout",
     "output_type": "stream",
     "text": [
      "'Hallo' ist nicht leer -  True\n",
      "'' ist nicht leer -  False\n",
      " h kommt vor -  False\n",
      " H kommt vor -  True\n"
     ]
    }
   ],
   "source": [
    "zeichenkette = \"Hallo\"\n",
    "zeichen = \"H\"\n",
    "print(\"'Hallo' ist nicht leer - \",bool(zeichenkette))\n",
    "print(\"'' ist nicht leer - \",bool(\"\"))\n",
    "print(\" h kommt vor - \",bool(zeichenkette.count(\"h\")))\n",
    "print(\" H kommt vor - \",bool(\"Hallo\".count(zeichen)))"
   ]
  },
  {
   "cell_type": "code",
   "execution_count": 14,
   "metadata": {},
   "outputs": [
    {
     "name": "stdout",
     "output_type": "stream",
     "text": [
      "True + False = 3   = True\n",
      "True - False = 1   = True\n",
      "True - True  = 0   = False\n",
      "True * False = 0   = False\n",
      "True * True  = 1   = True\n",
      "True * 0.4   = 0.4 = True\n"
     ]
    }
   ],
   "source": [
    "a = True\n",
    "b = False\n",
    "print(\"True + False =\",a + a + a,\"  =\", bool(a + a + a))\n",
    "print(\"True - False =\",a - b,\"  =\", bool(a - b))\n",
    "print(\"True - True  =\",a - a,\"  =\", bool(a - a))\n",
    "print(\"True * False =\", a * b,\"  =\", bool(a * b))\n",
    "print(\"True * True  =\", a * a,\"  =\", bool(a * a))\n",
    "print(\"True * 0.4   =\", a * 0.4,\"=\", bool(a * 0.4))"
   ]
  },
  {
   "cell_type": "code",
   "execution_count": 15,
   "metadata": {},
   "outputs": [
    {
     "name": "stdout",
     "output_type": "stream",
     "text": [
      "True + True + True  = 3   - True\n",
      "True + False + True = 2   - True\n"
     ]
    }
   ],
   "source": [
    "a = True\n",
    "b = False\n",
    "print(\"True + True + True  =\",a + a + a,\"  -\", bool(a + a + a))\n",
    "print(\"True + False + True =\",a + b + a,\"  -\", bool(a + b + a))"
   ]
  },
  {
   "cell_type": "code",
   "execution_count": 16,
   "metadata": {},
   "outputs": [
    {
     "name": "stdout",
     "output_type": "stream",
     "text": [
      "True and False = False\n",
      "True or False  = True\n",
      "True or False or True = True\n",
      "not True       = False\n"
     ]
    }
   ],
   "source": [
    "a = True\n",
    "b = False\n",
    "print(\"True and False =\",a and b)\n",
    "print(\"True or False  =\",a or b)\n",
    "print(\"True or False or True =\",a or b or a)\n",
    "print(\"not True       =\",not a)"
   ]
  },
  {
   "cell_type": "code",
   "execution_count": null,
   "metadata": {},
   "outputs": [],
   "source": []
  },
  {
   "cell_type": "code",
   "execution_count": 17,
   "metadata": {},
   "outputs": [
    {
     "name": "stdout",
     "output_type": "stream",
     "text": [
      "to int     : 9\n",
      "to float   : 1.0\n",
      "to complex : (9.8+0j)\n",
      "to bool    : True\n"
     ]
    }
   ],
   "source": [
    "print(\"to int     :\",int(9.8))\n",
    "print(\"to float   :\",float(True))\n",
    "print(\"to complex :\",complex(9.8))\n",
    "print(\"to bool    :\",bool(4+3J))"
   ]
  },
  {
   "cell_type": "code",
   "execution_count": null,
   "metadata": {},
   "outputs": [],
   "source": []
  },
  {
   "cell_type": "markdown",
   "metadata": {},
   "source": [
    "Random"
   ]
  },
  {
   "cell_type": "code",
   "execution_count": 18,
   "metadata": {},
   "outputs": [
    {
     "name": "stdout",
     "output_type": "stream",
     "text": [
      "64\n",
      "90\n",
      "24\n"
     ]
    }
   ],
   "source": [
    "import random\n",
    "\n",
    "for a in range(3):\n",
    "    print(random.randrange(1, 100))"
   ]
  },
  {
   "cell_type": "code",
   "execution_count": 19,
   "metadata": {},
   "outputs": [
    {
     "name": "stdout",
     "output_type": "stream",
     "text": [
      "True and False = 51\n",
      "True or False  = 1\n",
      "not True       = False\n",
      "not True       = False\n"
     ]
    }
   ],
   "source": [
    "a = 1\n",
    "b = 51\n",
    "c = 20\n",
    "print(\"True and False =\",a and b)\n",
    "print(\"True or False  =\",a or c)\n",
    "print(\"not True       =\",not a)\n",
    "print(\"not True       =\",not b)"
   ]
  },
  {
   "cell_type": "code",
   "execution_count": null,
   "metadata": {},
   "outputs": [],
   "source": []
  },
  {
   "cell_type": "code",
   "execution_count": 20,
   "metadata": {},
   "outputs": [
    {
     "name": "stdout",
     "output_type": "stream",
     "text": [
      "4717776432\n",
      "4706844272\n",
      "4717776432\n"
     ]
    }
   ],
   "source": [
    "string =\"Hallo\"\n",
    "print (id(string))\n",
    "string += \"World\"\n",
    "print (id(string))\n",
    "string2 =\"Hallo\"\n",
    "print (id(string2))"
   ]
  },
  {
   "cell_type": "code",
   "execution_count": 21,
   "metadata": {},
   "outputs": [
    {
     "name": "stdout",
     "output_type": "stream",
     "text": [
      "4717776432\n",
      "4717776432\n"
     ]
    }
   ],
   "source": [
    "string =\"Hallo\"\n",
    "string2 =\"Hallo\"\n",
    "print (id(string))\n",
    "print (id(string2))"
   ]
  },
  {
   "cell_type": "code",
   "execution_count": null,
   "metadata": {},
   "outputs": [],
   "source": []
  }
 ],
 "metadata": {
  "kernelspec": {
   "display_name": "Python 3",
   "language": "python",
   "name": "python3"
  },
  "language_info": {
   "codemirror_mode": {
    "name": "ipython",
    "version": 3
   },
   "file_extension": ".py",
   "mimetype": "text/x-python",
   "name": "python",
   "nbconvert_exporter": "python",
   "pygments_lexer": "ipython3",
   "version": "3.8.11"
  }
 },
 "nbformat": 4,
 "nbformat_minor": 4
}
