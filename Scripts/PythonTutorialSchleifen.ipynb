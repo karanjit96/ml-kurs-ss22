{
 "cells": [
  {
   "cell_type": "markdown",
   "metadata": {},
   "source": [
    "Tutorial Schleifen"
   ]
  },
  {
   "cell_type": "code",
   "execution_count": 1,
   "metadata": {},
   "outputs": [
    {
     "name": "stdout",
     "output_type": "stream",
     "text": [
      "Haus\n",
      "Monument\n",
      "Tempel\n"
     ]
    }
   ],
   "source": [
    "bauwerk = [\"Haus\",\"Monument\",\"Tempel\",\"Haus\"]\n",
    "for objekt in bauwerk:\n",
    "    print(objekt)    \n",
    "    if (objekt == \"Tempel\"):\n",
    "        break\n",
    "else:\n",
    "    print(\"ende\")    "
   ]
  },
  {
   "cell_type": "code",
   "execution_count": 2,
   "metadata": {},
   "outputs": [
    {
     "name": "stdout",
     "output_type": "stream",
     "text": [
      "Tempel\n"
     ]
    }
   ],
   "source": [
    "bauwerk = [\"Haus\",\"Monument\",\"Tempel\",\"Haus\"]\n",
    "for objekt in bauwerk:\n",
    "    if (objekt != \"Tempel\"):\n",
    "        continue\n",
    "    print(objekt)    "
   ]
  },
  {
   "cell_type": "markdown",
   "metadata": {},
   "source": [
    "for...pass"
   ]
  },
  {
   "cell_type": "code",
   "execution_count": 3,
   "metadata": {},
   "outputs": [
    {
     "name": "stdout",
     "output_type": "stream",
     "text": [
      "for hat nichts gemacht\n"
     ]
    }
   ],
   "source": [
    "for value in range(0,3):\n",
    "    pass\n",
    "    \n",
    "print(\"for hat nichts gemacht\")"
   ]
  },
  {
   "cell_type": "markdown",
   "metadata": {},
   "source": [
    "Klasse range"
   ]
  },
  {
   "cell_type": "code",
   "execution_count": 4,
   "metadata": {},
   "outputs": [
    {
     "name": "stdout",
     "output_type": "stream",
     "text": [
      "<class 'range'>\n",
      "range(0, 9, 2)\n",
      "start :  0\n",
      "stop  :  9\n",
      "step  :  2\n"
     ]
    }
   ],
   "source": [
    "menge = range(0,9,2)\n",
    "print (type(menge))\n",
    "print (menge)\n",
    "print (\"start : \",menge.start)\n",
    "print (\"stop  : \",menge.stop)\n",
    "print (\"step  : \",menge.step)"
   ]
  },
  {
   "cell_type": "code",
   "execution_count": 5,
   "metadata": {},
   "outputs": [
    {
     "name": "stdout",
     "output_type": "stream",
     "text": [
      "steigend : -5 -4 -3 -2 -1 0 1 2 3 \n",
      "fallend : 14 12 10 8 6 4 "
     ]
    }
   ],
   "source": [
    "print (\"steigend :\" ,end =' ')  \n",
    "for index in range(-5,4,1):\n",
    "    print (index ,end =' ')\n",
    "else: \n",
    "    print('')\n",
    "    \n",
    "print (\"fallend :\" ,end =' ')    \n",
    "for index in range(14,2,-2):\n",
    "    print (index ,end =' ')\n"
   ]
  },
  {
   "cell_type": "code",
   "execution_count": 6,
   "metadata": {},
   "outputs": [
    {
     "name": "stdout",
     "output_type": "stream",
     "text": [
      "Liste =  [1, 2, 3, 4]\n",
      "Set   =  {1, 2, 3, 4}\n"
     ]
    }
   ],
   "source": [
    "liste = list(range(1,5,1))\n",
    "zahlen = set(range(1,5,1))\n",
    "print(\"Liste = \",liste)\n",
    "print(\"Set   = \",zahlen)"
   ]
  },
  {
   "cell_type": "code",
   "execution_count": 7,
   "metadata": {},
   "outputs": [
    {
     "name": "stdout",
     "output_type": "stream",
     "text": [
      "0 3 6 9 ;\n"
     ]
    }
   ],
   "source": [
    "for zahl in range(0, 10, 3):\n",
    "    print(zahl, end = ' ')\n",
    "else:\n",
    "    print(';')"
   ]
  },
  {
   "cell_type": "code",
   "execution_count": 8,
   "metadata": {},
   "outputs": [
    {
     "name": "stdout",
     "output_type": "stream",
     "text": [
      "0\n",
      "4\n",
      "8\n"
     ]
    }
   ],
   "source": [
    "start = 0\n",
    "ende = 10\n",
    "schritt = 4\n",
    "for zahl in range(start, ende, schritt):\n",
    "  print(zahl)"
   ]
  },
  {
   "cell_type": "code",
   "execution_count": 9,
   "metadata": {},
   "outputs": [
    {
     "name": "stdout",
     "output_type": "stream",
     "text": [
      "K\n",
      "e\n",
      "t\n",
      "t\n",
      "e\n"
     ]
    }
   ],
   "source": [
    "for zeichen in \"Kette\":\n",
    "  print(zeichen)"
   ]
  },
  {
   "cell_type": "code",
   "execution_count": 10,
   "metadata": {},
   "outputs": [
    {
     "name": "stdout",
     "output_type": "stream",
     "text": [
      "e\n",
      "t\n",
      "t\n"
     ]
    }
   ],
   "source": [
    "kette = \"Kette\"\n",
    "for zeichen in range(1,4):\n",
    "    print(kette[zeichen])"
   ]
  },
  {
   "cell_type": "markdown",
   "metadata": {},
   "source": [
    "while"
   ]
  },
  {
   "cell_type": "code",
   "execution_count": 11,
   "metadata": {},
   "outputs": [
    {
     "name": "stdout",
     "output_type": "stream",
     "text": [
      "0\n",
      "1\n",
      "2\n"
     ]
    }
   ],
   "source": [
    "boolean = True\n",
    "value = 0\n",
    "\n",
    "while boolean:\n",
    "    if (value > 1):\n",
    "        boolean = False\n",
    "    print (value)    \n",
    "    value +=1    "
   ]
  },
  {
   "cell_type": "markdown",
   "metadata": {},
   "source": [
    "Endlosschleife"
   ]
  },
  {
   "cell_type": "code",
   "execution_count": null,
   "metadata": {},
   "outputs": [
    {
     "name": "stderr",
     "output_type": "stream",
     "text": [
      "IOPub data rate exceeded.\n",
      "The notebook server will temporarily stop sending output\n",
      "to the client in order to avoid crashing it.\n",
      "To change this limit, set the config variable\n",
      "`--NotebookApp.iopub_data_rate_limit`.\n",
      "\n",
      "Current values:\n",
      "NotebookApp.iopub_data_rate_limit=1000000.0 (bytes/sec)\n",
      "NotebookApp.rate_limit_window=3.0 (secs)\n",
      "\n"
     ]
    }
   ],
   "source": [
    "zahlen =['0']\n",
    "index = 0\n",
    "while index < len(zahlen):\n",
    "    index+=1\n",
    "    zahlen.append(index)\n",
    "    print(zahlen)"
   ]
  },
  {
   "cell_type": "markdown",
   "metadata": {},
   "source": [
    "while...else"
   ]
  },
  {
   "cell_type": "code",
   "execution_count": null,
   "metadata": {},
   "outputs": [],
   "source": []
  },
  {
   "cell_type": "code",
   "execution_count": null,
   "metadata": {},
   "outputs": [],
   "source": [
    "bauwerk = [\"Haus\",\"Monument\",\"Tempel\",\"Haus\"]\n",
    "index = 0\n",
    "while index < len(bauwerk):\n",
    "        print(bauwerk[index], end =\"; \")\n",
    "        index +=1\n",
    "else:\n",
    "        print(\"\\nDas waren alle Bauwerke\")\n"
   ]
  },
  {
   "cell_type": "markdown",
   "metadata": {},
   "source": [
    "while...break"
   ]
  },
  {
   "cell_type": "code",
   "execution_count": null,
   "metadata": {},
   "outputs": [],
   "source": [
    "bauwerk = [\"Haus\",\"Monument\",\"Tempel\",\"Haus\"]\n",
    "index = 0\n",
    "while index < len(bauwerk):\n",
    "        print(bauwerk[index], end =\"; \")\n",
    "        if bauwerk[index] == \"Monument\":\n",
    "            break \n",
    "        index +=1\n",
    "            \n",
    "else:\n",
    "        print(\"\\nalle Bauwerke bis zum Monument\")"
   ]
  },
  {
   "cell_type": "markdown",
   "metadata": {},
   "source": [
    "while...continue"
   ]
  },
  {
   "cell_type": "code",
   "execution_count": null,
   "metadata": {},
   "outputs": [],
   "source": [
    "bauwerk = [\"Haus\",\"Monument\",\"Tempel\",\"Garage\",\"Haus\"]\n",
    "neu = []\n",
    "key = \"Haus\"\n",
    "index = 0\n",
    "while index < len(bauwerk):\n",
    "        index +=1\n",
    "        if bauwerk[index-1] == key:\n",
    "            continue \n",
    "        neu.append(bauwerk[index-1])\n",
    "else:\n",
    "        print(neu, \"\\nalle Bauwerke außer\",filter)"
   ]
  },
  {
   "cell_type": "code",
   "execution_count": null,
   "metadata": {},
   "outputs": [],
   "source": [
    "bauwerk = [\"Haus\",\"Monument\",\"Tempel\",\"Garage\",\"Haus\"]\n",
    "neu = bauwerk.copy()\n",
    "key = \"Haus\"\n",
    "\n",
    "while neu.count(key):\n",
    "    neu.remove(key)\n",
    "\n",
    "else:\n",
    "        print(neu,\"\\nalle Bauwerke außer\",key)  "
   ]
  },
  {
   "cell_type": "markdown",
   "metadata": {},
   "source": [
    "while...pass (Endlosschleife)"
   ]
  },
  {
   "cell_type": "code",
   "execution_count": null,
   "metadata": {},
   "outputs": [],
   "source": [
    "while True:\n",
    "    pass"
   ]
  }
 ],
 "metadata": {
  "kernelspec": {
   "display_name": "Python 3",
   "language": "python",
   "name": "python3"
  },
  "language_info": {
   "codemirror_mode": {
    "name": "ipython",
    "version": 3
   },
   "file_extension": ".py",
   "mimetype": "text/x-python",
   "name": "python",
   "nbconvert_exporter": "python",
   "pygments_lexer": "ipython3",
   "version": "3.8.6"
  }
 },
 "nbformat": 4,
 "nbformat_minor": 4
}
