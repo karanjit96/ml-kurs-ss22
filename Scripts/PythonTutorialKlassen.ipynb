{
 "cells": [
  {
   "cell_type": "markdown",
   "metadata": {},
   "source": [
    "Klassen"
   ]
  },
  {
   "cell_type": "code",
   "execution_count": 17,
   "metadata": {
    "scrolled": true
   },
   "outputs": [],
   "source": [
    "class Person:\n",
    "    vorname = \"Micky\"\n",
    "    nachname = \"Mouse\"\n",
    "    \n",
    "    def __init__(self):\n",
    "        pass\n",
    "       \n",
    "    def set_name(self, vorname, nachname ):\n",
    "        self.nachname = nachname\n",
    "        vorname = vorname; #Fehler"
   ]
  },
  {
   "cell_type": "code",
   "execution_count": 18,
   "metadata": {},
   "outputs": [
    {
     "name": "stdout",
     "output_type": "stream",
     "text": [
      "Micky Duck\n",
      "Micky Mouse\n"
     ]
    }
   ],
   "source": [
    "person_a = Person()\n",
    "person_b = Person()\n",
    "\n",
    "person_a.set_name( \"Donald\", \"Duck\")\n",
    "\n",
    "print(person_a.vorname,person_a.nachname)\n",
    "print(person_b.vorname,person_b.nachname)"
   ]
  },
  {
   "cell_type": "code",
   "execution_count": 1,
   "metadata": {},
   "outputs": [
    {
     "name": "stdout",
     "output_type": "stream",
     "text": [
      "Herr\n"
     ]
    },
    {
     "ename": "AttributeError",
     "evalue": "'Person' object has no attribute 'vorname'",
     "output_type": "error",
     "traceback": [
      "\u001b[1;31m---------------------------------------------------------------------------\u001b[0m",
      "\u001b[1;31mAttributeError\u001b[0m                            Traceback (most recent call last)",
      "\u001b[1;32m<ipython-input-1-2ad8ba70f575>\u001b[0m in \u001b[0;36m<module>\u001b[1;34m\u001b[0m\n\u001b[0;32m      6\u001b[0m \u001b[0mperson_a\u001b[0m \u001b[1;33m=\u001b[0m \u001b[0mPerson\u001b[0m\u001b[1;33m(\u001b[0m\u001b[1;33m)\u001b[0m\u001b[1;33m\u001b[0m\u001b[1;33m\u001b[0m\u001b[0m\n\u001b[0;32m      7\u001b[0m \u001b[0mprint\u001b[0m\u001b[1;33m(\u001b[0m\u001b[0mperson_a\u001b[0m\u001b[1;33m.\u001b[0m\u001b[0manrede\u001b[0m\u001b[1;33m)\u001b[0m\u001b[1;33m\u001b[0m\u001b[1;33m\u001b[0m\u001b[0m\n\u001b[1;32m----> 8\u001b[1;33m \u001b[0mprint\u001b[0m\u001b[1;33m(\u001b[0m\u001b[0mperson_a\u001b[0m\u001b[1;33m.\u001b[0m\u001b[0mvorname\u001b[0m\u001b[1;33m)\u001b[0m\u001b[1;33m\u001b[0m\u001b[1;33m\u001b[0m\u001b[0m\n\u001b[0m\u001b[0;32m      9\u001b[0m \u001b[0mprint\u001b[0m\u001b[1;33m(\u001b[0m\u001b[0mperson_a\u001b[0m\u001b[1;33m.\u001b[0m\u001b[0mnachname\u001b[0m\u001b[1;33m)\u001b[0m\u001b[1;33m\u001b[0m\u001b[1;33m\u001b[0m\u001b[0m\n",
      "\u001b[1;31mAttributeError\u001b[0m: 'Person' object has no attribute 'vorname'"
     ]
    }
   ],
   "source": [
    "class Person:\n",
    "    _vorname = \"Micky\"    #protected\n",
    "    __nachname = \"Mouse\"  #private\n",
    "    anrede =\"Herr\"        #public\n",
    " \n",
    "person_a = Person()\n",
    "print(person_a.anrede)\n",
    "print(person_a.vorname)\n",
    "print(person_a.nachname)    "
   ]
  },
  {
   "cell_type": "code",
   "execution_count": 2,
   "metadata": {},
   "outputs": [],
   "source": [
    "class Person:\n",
    "    vorname = \"Micky\"\n",
    "    nachname = \"Mouse\"\n",
    "    \n",
    "    def __init__(self):\n",
    "        pass\n",
    "       \n",
    "    def set_name(self, nachname, vorname):\n",
    "        self.nachname = nachname\n",
    "        self.vorname = vorname"
   ]
  },
  {
   "cell_type": "code",
   "execution_count": 3,
   "metadata": {},
   "outputs": [
    {
     "name": "stdout",
     "output_type": "stream",
     "text": [
      "Herr\n"
     ]
    }
   ],
   "source": [
    "def set_anrede(self, anrede):\n",
    "    self.anrede = anrede\n",
    "    \n",
    "Person.set_anrede = set_anrede\n",
    "\n",
    "person = Person()\n",
    "person.set_anrede(\"Herr\")   \n",
    "\n",
    "print(person.anrede)"
   ]
  },
  {
   "cell_type": "code",
   "execution_count": 4,
   "metadata": {},
   "outputs": [
    {
     "name": "stdout",
     "output_type": "stream",
     "text": [
      "Dr.\n"
     ]
    }
   ],
   "source": [
    "def set_anrede(self, anrede):\n",
    "    self.anrede = anrede\n",
    "    \n",
    "set_anrede(person,\"Dr.\")\n",
    "print(person.anrede)"
   ]
  },
  {
   "cell_type": "code",
   "execution_count": 5,
   "metadata": {},
   "outputs": [],
   "source": [
    "def add_alter(self, alter):\n",
    "    self.alter = alter\n",
    "\n",
    "Person.set_alter = add_alter"
   ]
  },
  {
   "cell_type": "code",
   "execution_count": 6,
   "metadata": {},
   "outputs": [
    {
     "name": "stdout",
     "output_type": "stream",
     "text": [
      "25\n"
     ]
    }
   ],
   "source": [
    "person = Person()\n",
    "person.set_alter(25)  \n",
    "print(person.alter)"
   ]
  },
  {
   "cell_type": "code",
   "execution_count": 7,
   "metadata": {},
   "outputs": [
    {
     "name": "stdout",
     "output_type": "stream",
     "text": [
      "44\n"
     ]
    }
   ],
   "source": [
    "person = Person()\n",
    "add_alter(person,44)       \n",
    "print(person.alter)"
   ]
  },
  {
   "cell_type": "code",
   "execution_count": 8,
   "metadata": {},
   "outputs": [
    {
     "name": "stdout",
     "output_type": "stream",
     "text": [
      "Herr\n",
      "Frau\n"
     ]
    }
   ],
   "source": [
    "Person.add_anrede = set_anrede\n",
    "person.set_anrede(\"Herr\")  \n",
    "print(person.anrede)\n",
    "\n",
    "person.add_anrede(\"Frau\")  \n",
    "print(person.anrede)"
   ]
  },
  {
   "cell_type": "code",
   "execution_count": 9,
   "metadata": {},
   "outputs": [
    {
     "name": "stdout",
     "output_type": "stream",
     "text": [
      "Dr.\n"
     ]
    }
   ],
   "source": [
    "set_anrede(person, \"Dr.\")\n",
    "print(person.anrede)"
   ]
  },
  {
   "cell_type": "code",
   "execution_count": 10,
   "metadata": {},
   "outputs": [
    {
     "name": "stdout",
     "output_type": "stream",
     "text": [
      "2661\n",
      "Dungeon\n",
      "Keeper\n"
     ]
    }
   ],
   "source": [
    "class Student(Person):\n",
    "    def set_matrikel_nr(self, matrikel):\n",
    "        self.matrikel_nr = matrikel\n",
    "        \n",
    "student = Student()\n",
    "student.set_name( \"Keeper\", \"Dungeon\")\n",
    "student.set_matrikel_nr(2661)\n",
    "\n",
    "print(student.matrikel_nr)    \n",
    "print(student.vorname)     \n",
    "print(student.nachname)     "
   ]
  },
  {
   "cell_type": "code",
   "execution_count": 11,
   "metadata": {},
   "outputs": [
    {
     "name": "stdout",
     "output_type": "stream",
     "text": [
      "Student ist eine Person\n",
      "Student ist ein(e) Student*in\n",
      "Person ist eine Person\n",
      "Person is kein(e) Student*in\n",
      "str ist keine Person\n",
      "str is kein(e) Student*in\n"
     ]
    }
   ],
   "source": [
    "def check_class(instance):\n",
    "    class_name = type(instance).__name__\n",
    "    if isinstance(instance,Person):\n",
    "        print(class_name,\"ist eine Person\" )\n",
    "    else:\n",
    "        print(class_name,\"ist keine Person\" )\n",
    "\n",
    "    if isinstance(instance,Student):\n",
    "        print(class_name,\"ist ein(e) Student*in\" )\n",
    "    else:\n",
    "        print(class_name,\"is kein(e) Student*in\" )\n",
    "\n",
    "check_class(Student())\n",
    "check_class(Person())\n",
    "check_class(\"He-Man\")"
   ]
  },
  {
   "cell_type": "code",
   "execution_count": 12,
   "metadata": {},
   "outputs": [],
   "source": [
    "def check_class(instance):\n",
    "    if isinstance(instance,Student):\n",
    "        process_student(instance)\n",
    "    elif isinstance(instance,Person):\n",
    "        process_person(instance)\n",
    "    else:\n",
    "        print(\"wrong Data\" )"
   ]
  },
  {
   "cell_type": "markdown",
   "metadata": {},
   "source": [
    "static"
   ]
  },
  {
   "cell_type": "code",
   "execution_count": 13,
   "metadata": {},
   "outputs": [
    {
     "name": "stdout",
     "output_type": "stream",
     "text": [
      "Static.static =  4\n"
     ]
    }
   ],
   "source": [
    "class Static:\n",
    "    static = 4\n",
    "    \n",
    "    def __init__(self):\n",
    "        self.dynamic = 10\n",
    "    \n",
    "print(\"Static.static = \", Static.static)"
   ]
  },
  {
   "cell_type": "code",
   "execution_count": 14,
   "metadata": {},
   "outputs": [
    {
     "name": "stdout",
     "output_type": "stream",
     "text": [
      "Static.static =  4\n",
      "a.static =  4\n",
      "Static.static =  42\n",
      "a.static =  21\n"
     ]
    }
   ],
   "source": [
    "class Static:\n",
    "    static = 4\n",
    "    \n",
    "    def __init__(self):\n",
    "        pass\n",
    "\n",
    "a = Static()\n",
    "print(\"Static.static = \", Static.static)\n",
    "print(\"a.static = \", a.static)\n",
    "\n",
    "Static.static = 42\n",
    "a.static = 21\n",
    "\n",
    "print(\"Static.static = \", Static.static)\n",
    "print(\"a.static = \", a.static)"
   ]
  },
  {
   "cell_type": "code",
   "execution_count": 15,
   "metadata": {},
   "outputs": [
    {
     "name": "stdout",
     "output_type": "stream",
     "text": [
      "Initial =  42\n",
      "a.static =  42\n",
      "b.static =  6\n",
      "Static.static =  42\n"
     ]
    }
   ],
   "source": [
    "a = Static()\n",
    "b = Static()\n",
    "\n",
    "print(\"Initial = \", a.static)\n",
    "b.static = 6\n",
    "print(\"a.static = \", a.static)\n",
    "print(\"b.static = \", b.static)\n",
    "print(\"Static.static = \", Static.static)"
   ]
  },
  {
   "cell_type": "code",
   "execution_count": 16,
   "metadata": {},
   "outputs": [
    {
     "name": "stdout",
     "output_type": "stream",
     "text": [
      "[]\n",
      "[4, 5]\n",
      "[4, 5]\n",
      "[4, 5]\n"
     ]
    }
   ],
   "source": [
    "class Liste:\n",
    "    _test = list()\n",
    "    \n",
    "    def __init__(self):\n",
    "        pass\n",
    "    \n",
    "    def append(self, f):\n",
    "        self._test.append(f)\n",
    "    \n",
    "    def print_list(self):\n",
    "        print(self._test)\n",
    "        \n",
    "a = Liste()\n",
    "b = Liste()\n",
    "a.print_list()\n",
    "\n",
    "b.append(4)\n",
    "b.append(5)\n",
    "\n",
    "a.print_list()\n",
    "b.print_list()\n",
    "print(Liste._test)"
   ]
  },
  {
   "cell_type": "code",
   "execution_count": 17,
   "metadata": {},
   "outputs": [
    {
     "name": "stdout",
     "output_type": "stream",
     "text": [
      "[]\n",
      "[]\n",
      "[4, 5]\n"
     ]
    }
   ],
   "source": [
    "class Liste:\n",
    "      \n",
    "    def __init__(self):\n",
    "        self. _test = list()\n",
    "        pass\n",
    "    \n",
    "    def append(self, f):\n",
    "        self._test.append(f)\n",
    "    \n",
    "    def print_list(self):\n",
    "        print(self._test)\n",
    "        \n",
    "a = Liste()\n",
    "b = Liste()\n",
    "a.print_list()\n",
    "\n",
    "b.append(4)\n",
    "b.append(5)\n",
    "\n",
    "a.print_list()\n",
    "b.print_list()"
   ]
  },
  {
   "cell_type": "code",
   "execution_count": 18,
   "metadata": {},
   "outputs": [
    {
     "name": "stdout",
     "output_type": "stream",
     "text": [
      "none\n",
      "4\n",
      "5\n",
      "none\n"
     ]
    }
   ],
   "source": [
    "class Wert:\n",
    "    _wert = \"none\"\n",
    "    \n",
    "    def __init__(self):\n",
    "        pass\n",
    "    \n",
    "    def set(self, value):\n",
    "        self._wert = value\n",
    "    \n",
    "    def print_wert(self):\n",
    "        print(self._wert)\n",
    "        \n",
    "a = Wert()\n",
    "b = Wert()\n",
    "a.print_wert()\n",
    "\n",
    "a.set(4)\n",
    "b.set(5)\n",
    "\n",
    "a.print_wert()\n",
    "b.print_wert()\n",
    "print(Wert._wert)"
   ]
  },
  {
   "cell_type": "code",
   "execution_count": 19,
   "metadata": {},
   "outputs": [
    {
     "name": "stdout",
     "output_type": "stream",
     "text": [
      "5\n",
      "5\n",
      "None\n"
     ]
    }
   ],
   "source": [
    "def get_five(object):\n",
    "    if isinstance(object,int): \n",
    "        return int(5)\n",
    "    elif isinstance(object,str): \n",
    "        return str(\"5\")\n",
    "    else:\n",
    "        return None\n",
    "    \n",
    "    \n",
    "c = get_five(1)\n",
    "print(c)\n",
    "\n",
    "c = get_five('text')\n",
    "print(c)\n",
    "\n",
    "c = get_five(0.1)\n",
    "print(c)"
   ]
  },
  {
   "cell_type": "code",
   "execution_count": 20,
   "metadata": {},
   "outputs": [
    {
     "name": "stdout",
     "output_type": "stream",
     "text": [
      "5 - OK\n",
      "None - Error\n"
     ]
    }
   ],
   "source": [
    "def check(object):\n",
    "    print(c, end =\" - \")\n",
    "    if object is not None:\n",
    "        print (\"OK\")\n",
    "    if object is None:\n",
    "        print (\"Error\")\n",
    "    \n",
    "    \n",
    "c = get_five(1)\n",
    "check(c)\n",
    "\n",
    "c = get_five(0.1)\n",
    "check(c)"
   ]
  },
  {
   "cell_type": "code",
   "execution_count": null,
   "metadata": {},
   "outputs": [],
   "source": []
  }
 ],
 "metadata": {
  "kernelspec": {
   "display_name": "Python 3",
   "language": "python",
   "name": "python3"
  },
  "language_info": {
   "codemirror_mode": {
    "name": "ipython",
    "version": 3
   },
   "file_extension": ".py",
   "mimetype": "text/x-python",
   "name": "python",
   "nbconvert_exporter": "python",
   "pygments_lexer": "ipython3",
   "version": "3.8.6"
  }
 },
 "nbformat": 4,
 "nbformat_minor": 4
}
