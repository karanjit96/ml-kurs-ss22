{
 "cells": [
  {
   "cell_type": "markdown",
   "metadata": {},
   "source": [
    "Tutorial Funktionen"
   ]
  },
  {
   "cell_type": "code",
   "execution_count": 1,
   "metadata": {},
   "outputs": [
    {
     "name": "stdout",
     "output_type": "stream",
     "text": [
      "140725254096672\n",
      "140725254096672\n",
      "140725254096736\n",
      "7\n",
      "140725254096768\n",
      "8\n"
     ]
    }
   ],
   "source": [
    "def f(a):\n",
    "    print(id (a))\n",
    "    a+=2\n",
    "    print(id (a))\n",
    "    print(a)    \n",
    "    \n",
    "a = 5\n",
    "print(id(a))\n",
    "f(a)\n",
    "a = 8\n",
    "print(id(a))\n",
    "print(a)"
   ]
  },
  {
   "cell_type": "code",
   "execution_count": 2,
   "metadata": {},
   "outputs": [
    {
     "name": "stdout",
     "output_type": "stream",
     "text": [
      "140725254096672\n",
      "140725254096672\n",
      "140725254096736\n",
      "7\n",
      "140725254096768\n",
      "8\n"
     ]
    }
   ],
   "source": [
    "def f(a):\n",
    "    print(id (a))\n",
    "    a+=2\n",
    "    print(id (a))\n",
    "    print(a)    \n",
    "    \n",
    "a = 5\n",
    "print(id(a))\n",
    "f(a)\n",
    "a = 8\n",
    "print(id(a))\n",
    "print(a)"
   ]
  },
  {
   "cell_type": "code",
   "execution_count": 3,
   "metadata": {},
   "outputs": [
    {
     "name": "stdout",
     "output_type": "stream",
     "text": [
      " Funktion macht folgendes:\n",
      "        noch nix \n"
     ]
    }
   ],
   "source": [
    "def funktion(boolean):\n",
    "    \"\"\" Funktion macht folgendes:\n",
    "        noch nix \"\"\"\n",
    "    pass\n",
    "\n",
    "\n",
    "print(funktion.__doc__)"
   ]
  },
  {
   "cell_type": "code",
   "execution_count": 4,
   "metadata": {},
   "outputs": [
    {
     "name": "stdout",
     "output_type": "stream",
     "text": [
      "print(value, ..., sep=' ', end='\\n', file=sys.stdout, flush=False)\n",
      "\n",
      "Prints the values to a stream, or to sys.stdout by default.\n",
      "Optional keyword arguments:\n",
      "file:  a file-like object (stream); defaults to the current sys.stdout.\n",
      "sep:   string inserted between values, default a space.\n",
      "end:   string appended after the last value, default a newline.\n",
      "flush: whether to forcibly flush the stream.\n"
     ]
    }
   ],
   "source": [
    "print(print.__doc__)"
   ]
  },
  {
   "cell_type": "code",
   "execution_count": 5,
   "metadata": {},
   "outputs": [
    {
     "name": "stdout",
     "output_type": "stream",
     "text": [
      "<class 'float'>\n",
      "<class 'int'>\n"
     ]
    }
   ],
   "source": [
    "def funktion(boolean):\n",
    "    if (boolean):\n",
    "        return(8.9)\n",
    "    return(8)\n",
    "\n",
    "value = funktion(True)\n",
    "print(type(value))\n",
    "\n",
    "value = funktion(False)\n",
    "print(type(value))"
   ]
  },
  {
   "cell_type": "code",
   "execution_count": 6,
   "metadata": {},
   "outputs": [
    {
     "name": "stdout",
     "output_type": "stream",
     "text": [
      "zahl vor der Funktion    : 5  ; id= 140725254096672\n",
      "zahl in der Funktion     : 5  ; id= 140725254096672\n",
      "zahl in der Funktion * 5 : 25 ; id= 140725254097312\n",
      "zahl nach der Funktion   : 25 ; id= 140725254097312\n"
     ]
    }
   ],
   "source": [
    "def funktion(zahl):\n",
    "    print(\"zahl in der Funktion     :\",zahl, \" ; id=\", id(zahl))\n",
    "    zahl *= 5\n",
    "    print(\"zahl in der Funktion * 5 :\",zahl, \"; id=\", id(zahl))\n",
    "\n",
    "    return(zahl)\n",
    "\n",
    "zahl = 5\n",
    "print(\"zahl vor der Funktion    :\", zahl, \" ; id=\", id(zahl))\n",
    "zahl = funktion(zahl)\n",
    "print(\"zahl nach der Funktion   :\", zahl, \"; id=\", id(zahl))"
   ]
  },
  {
   "cell_type": "code",
   "execution_count": 7,
   "metadata": {},
   "outputs": [
    {
     "name": "stdout",
     "output_type": "stream",
     "text": [
      "liste vor der Funktion    : [1, 2]  ;      id= 2351045504256\n",
      "liste in der Funktion     : [1, 2]       ; id= 2351045504256\n",
      "liste in der Funktion * 2 : [1, 2, 1, 2] ; id= 2351045504256\n",
      "liste nach der Funktion   : [1, 2, 1, 2] ; id= 2351045504256\n"
     ]
    }
   ],
   "source": [
    "def funktion(liste):\n",
    "    print(\"liste in der Funktion     :\",liste, \"      ; id=\", id(liste))\n",
    "    liste *= 2\n",
    "    print(\"liste in der Funktion * 2 :\",liste, \"; id=\", id(liste))\n",
    "\n",
    "    return(liste)\n",
    "\n",
    "liste = [1,2]\n",
    "print(\"liste vor der Funktion    :\", liste, \" ;      id=\", id(liste))\n",
    "liste = funktion(liste)\n",
    "print(\"liste nach der Funktion   :\", liste, \"; id=\", id(liste))"
   ]
  },
  {
   "cell_type": "code",
   "execution_count": 8,
   "metadata": {},
   "outputs": [
    {
     "name": "stdout",
     "output_type": "stream",
     "text": [
      "liste vor der Funktion    : [1, 2]  ;      id= 2351045354240\n",
      "liste in der Funktion     : [1, 2]       ; id= 2351045354240\n",
      "liste in der Funktion * 2 : [1, 2, 1, 2] ; id= 2351045354240\n",
      "liste nach der Funktion   : [1, 2, 1, 2] ; id= 2351045354240\n"
     ]
    }
   ],
   "source": [
    "def funktion(liste):\n",
    "    print(\"liste in der Funktion     :\",liste, \"      ; id=\", id(liste))\n",
    "    liste *= 2\n",
    "    print(\"liste in der Funktion * 2 :\",liste, \"; id=\", id(liste))\n",
    "\n",
    "\n",
    "liste = [1,2]\n",
    "print(\"liste vor der Funktion    :\", liste, \" ;      id=\", id(liste))\n",
    "funktion(liste)\n",
    "print(\"liste nach der Funktion   :\", liste, \"; id=\", id(liste))"
   ]
  },
  {
   "cell_type": "code",
   "execution_count": 9,
   "metadata": {},
   "outputs": [
    {
     "name": "stdout",
     "output_type": "stream",
     "text": [
      "liste vor der Funktion    : [1, 2]  ;      id= 2351045513536\n",
      "liste in der Funktion     : [1, 2]       ; id= 2351045349504\n",
      "liste in der Funktion * 2 : [1, 2, 1, 2] ; id= 2351045349504\n",
      "liste nach der Funktion   : [1, 2] ;       id= 2351045513536\n",
      "liste2 nach der Funktion  : [1, 2, 1, 2] ; id= 2351045349504\n"
     ]
    }
   ],
   "source": [
    "def funktion(liste):\n",
    "    print(\"liste in der Funktion     :\",liste, \"      ; id=\", id(liste))\n",
    "    liste *= 2\n",
    "    print(\"liste in der Funktion * 2 :\",liste, \"; id=\", id(liste))\n",
    "\n",
    "    return(liste)\n",
    "\n",
    "liste = [1,2]\n",
    "print(\"liste vor der Funktion    :\", liste, \" ;      id=\", id(liste))\n",
    "liste2 = funktion(liste.copy())\n",
    "print(\"liste nach der Funktion   :\", liste, \";       id=\", id(liste))\n",
    "print(\"liste2 nach der Funktion  :\", liste2, \"; id=\", id(liste2))"
   ]
  },
  {
   "cell_type": "code",
   "execution_count": 10,
   "metadata": {},
   "outputs": [
    {
     "name": "stdout",
     "output_type": "stream",
     "text": [
      "erster Parameter  : Maus\n",
      "zweiter Parameter : 7\n",
      "dritter Parameter : 5.6\n"
     ]
    }
   ],
   "source": [
    "def funktion():\n",
    "    zahl = 5.6\n",
    "    index = 7\n",
    "    return (\"Maus\", index, zahl)\n",
    "    \n",
    "    \n",
    "ergebnis = funktion()    \n",
    "print(\"erster Parameter  :\",ergebnis[0])\n",
    "print(\"zweiter Parameter :\",ergebnis[1])\n",
    "print(\"dritter Parameter :\",ergebnis[2])\n"
   ]
  },
  {
   "cell_type": "code",
   "execution_count": null,
   "metadata": {},
   "outputs": [],
   "source": []
  },
  {
   "cell_type": "code",
   "execution_count": 11,
   "metadata": {},
   "outputs": [
    {
     "name": "stdout",
     "output_type": "stream",
     "text": [
      "s\n"
     ]
    }
   ],
   "source": [
    "liste = []\n",
    "if liste: \n",
    "    print (\"s\")\n",
    "    \n",
    "liste = [\"\"]\n",
    "if liste: \n",
    "    print (\"s\")    \n",
    "    "
   ]
  },
  {
   "cell_type": "code",
   "execution_count": 12,
   "metadata": {},
   "outputs": [
    {
     "name": "stdout",
     "output_type": "stream",
     "text": [
      "a ist größer als b\n"
     ]
    }
   ],
   "source": [
    "a =5\n",
    "b =4\n",
    "\n",
    "if (a>b):\n",
    "    print (\"a ist größer als b\")"
   ]
  },
  {
   "cell_type": "code",
   "execution_count": 13,
   "metadata": {},
   "outputs": [
    {
     "name": "stdout",
     "output_type": "stream",
     "text": [
      "a ist nicht größer b\n"
     ]
    }
   ],
   "source": [
    "a = 5\n",
    "b = 5\n",
    "\n",
    "if (a > b):\n",
    "    print (\"a ist größer als b\")\n",
    "else:\n",
    "    print (\"a ist nicht größer b\")"
   ]
  },
  {
   "cell_type": "code",
   "execution_count": 14,
   "metadata": {},
   "outputs": [
    {
     "name": "stdout",
     "output_type": "stream",
     "text": [
      "a ist kleiner als b\n"
     ]
    }
   ],
   "source": [
    "a = 5\n",
    "b = 6\n",
    "\n",
    "if (a > b):\n",
    "    print (\"a ist größer als b\")\n",
    "elif (a < b):\n",
    "    print (\"a ist kleiner als b\")\n",
    "elif (a == b):\n",
    "    print (\"a ist gleich b\")"
   ]
  },
  {
   "cell_type": "code",
   "execution_count": 15,
   "metadata": {},
   "outputs": [
    {
     "name": "stdout",
     "output_type": "stream",
     "text": [
      "a ist viel größer als b\n"
     ]
    }
   ],
   "source": [
    "a =8\n",
    "b =5\n",
    "\n",
    "if (a>b):\n",
    "    if (a> (b+2)):\n",
    "        print (\"a ist viel größer als b\")\n",
    "    else:\n",
    "        print (\"a ist größer als b\")\n",
    "elif (a<b):\n",
    "    print (\"a ist kleiner als b\")\n",
    "else:\n",
    "        print (\"a ist gleich b\")"
   ]
  },
  {
   "cell_type": "code",
   "execution_count": 16,
   "metadata": {},
   "outputs": [
    {
     "name": "stdout",
     "output_type": "stream",
     "text": [
      "<class 'tuple'>\n",
      "Haus\n",
      "2\n",
      "Tempel\n",
      "Haus\n",
      "2\n"
     ]
    }
   ],
   "source": [
    "def function(*bauwerke):\n",
    "    print(type(bauwerke))\n",
    "    for bauwerk in bauwerke:\n",
    "        print(bauwerk)\n",
    "    print(bauwerke[1])\n",
    "\n",
    "function(\"Haus\",2,\"Tempel\",\"Haus\")"
   ]
  },
  {
   "cell_type": "code",
   "execution_count": 17,
   "metadata": {},
   "outputs": [
    {
     "name": "stdout",
     "output_type": "stream",
     "text": [
      "Bauwerk ist Haus\n",
      "Bauwerk ist Halle\n"
     ]
    }
   ],
   "source": [
    "def function(bauwerk = \"Haus\"):\n",
    "    print(\"Bauwerk ist\", bauwerk)\n",
    "    \n",
    "function()\n",
    "function(\"Halle\")"
   ]
  },
  {
   "cell_type": "code",
   "execution_count": 18,
   "metadata": {},
   "outputs": [
    {
     "name": "stdout",
     "output_type": "stream",
     "text": [
      "Affe\n",
      "Hörnchen\n"
     ]
    }
   ],
   "source": [
    "def function(tier1, tier2 , tier3=\"Hörnchen\"):\n",
    "    print (tier3)\n",
    "     \n",
    "function(tier1=\"Katze\",tier2=\"Maus\",tier3=\"Affe\")    \n",
    "function(tier1=\"Katze\",tier2=\"Maus\")    "
   ]
  },
  {
   "cell_type": "code",
   "execution_count": 19,
   "metadata": {},
   "outputs": [
    {
     "name": "stdout",
     "output_type": "stream",
     "text": [
      "<class 'dict'>\n",
      "Hauskatze\n"
     ]
    }
   ],
   "source": [
    "def function(**tier):\n",
    "    print (type(tier))\n",
    "    print (tier[\"gatung\"])\n",
    "    \n",
    "     \n",
    "function(familie=\"Katzen\",gatung=\"Hauskatze\")     "
   ]
  },
  {
   "cell_type": "code",
   "execution_count": 20,
   "metadata": {},
   "outputs": [
    {
     "name": "stdout",
     "output_type": "stream",
     "text": [
      "3 <class 'int'>\n",
      "3.2 <class 'float'>\n",
      "ab <class 'str'>\n",
      "['a', 'b', 'a', 'c'] <class 'list'>\n"
     ]
    }
   ],
   "source": [
    "def add(x, y):\n",
    "    return(x+y)\n",
    "           \n",
    "liste1 =[\"a\",\"b\"] \n",
    "liste2 =[\"a\",\"c\"]\n",
    "print(add(1,2),type(add(1,2)))\n",
    "print(add(1,2.2),type(add(1,2.2)))\n",
    "print(add(\"a\",\"b\"),type(add(\"a\",\"b\")))     \n",
    "print(add(liste1,liste2),type(add(liste1,liste2)))             "
   ]
  },
  {
   "cell_type": "code",
   "execution_count": 21,
   "metadata": {},
   "outputs": [
    {
     "name": "stdout",
     "output_type": "stream",
     "text": [
      "5\n"
     ]
    },
    {
     "ename": "NameError",
     "evalue": "name 'laenge' is not defined",
     "output_type": "error",
     "traceback": [
      "\u001b[1;31m---------------------------------------------------------------------------\u001b[0m",
      "\u001b[1;31mNameError\u001b[0m                                 Traceback (most recent call last)",
      "\u001b[1;32m<ipython-input-21-612cdcf73d7a>\u001b[0m in \u001b[0;36m<module>\u001b[1;34m\u001b[0m\n\u001b[0;32m      4\u001b[0m \u001b[0mprint\u001b[0m \u001b[1;33m(\u001b[0m\u001b[0mlaenge\u001b[0m\u001b[1;33m(\u001b[0m\u001b[0mliste\u001b[0m\u001b[1;33m)\u001b[0m\u001b[1;33m)\u001b[0m\u001b[1;33m\u001b[0m\u001b[1;33m\u001b[0m\u001b[0m\n\u001b[0;32m      5\u001b[0m \u001b[1;32mdel\u001b[0m\u001b[1;33m(\u001b[0m\u001b[0mlaenge\u001b[0m\u001b[1;33m)\u001b[0m\u001b[1;33m\u001b[0m\u001b[1;33m\u001b[0m\u001b[0m\n\u001b[1;32m----> 6\u001b[1;33m \u001b[0mprint\u001b[0m \u001b[1;33m(\u001b[0m\u001b[0mlaenge\u001b[0m\u001b[1;33m(\u001b[0m\u001b[0mliste\u001b[0m\u001b[1;33m)\u001b[0m\u001b[1;33m)\u001b[0m\u001b[1;33m\u001b[0m\u001b[1;33m\u001b[0m\u001b[0m\n\u001b[0m",
      "\u001b[1;31mNameError\u001b[0m: name 'laenge' is not defined"
     ]
    }
   ],
   "source": [
    "liste = [1,2,3,4,5]\n",
    "laenge = len\n",
    "\n",
    "print (laenge(liste))\n",
    "del(laenge)\n",
    "print (laenge(liste))"
   ]
  },
  {
   "cell_type": "code",
   "execution_count": 22,
   "metadata": {},
   "outputs": [
    {
     "name": "stdout",
     "output_type": "stream",
     "text": [
      "Länge :  5\n",
      "5\n"
     ]
    }
   ],
   "source": [
    "liste = [1,2,3,4,5]\n",
    "laenge = len\n",
    "\n",
    "def len(object):\n",
    "    print(\"Länge : \", laenge(object))\n",
    "    return(laenge(object))\n",
    "    \n",
    "print (len(liste))"
   ]
  },
  {
   "cell_type": "code",
   "execution_count": 23,
   "metadata": {},
   "outputs": [
    {
     "ename": "TypeError",
     "evalue": "unsupported operand type(s) for +: 'int' and 'str'",
     "output_type": "error",
     "traceback": [
      "\u001b[1;31m---------------------------------------------------------------------------\u001b[0m",
      "\u001b[1;31mTypeError\u001b[0m                                 Traceback (most recent call last)",
      "\u001b[1;32m<ipython-input-23-ce72335f5c81>\u001b[0m in \u001b[0;36m<module>\u001b[1;34m\u001b[0m\n\u001b[0;32m      2\u001b[0m     \u001b[1;32mreturn\u001b[0m\u001b[1;33m(\u001b[0m\u001b[0mx\u001b[0m\u001b[1;33m+\u001b[0m\u001b[0my\u001b[0m\u001b[1;33m)\u001b[0m\u001b[1;33m\u001b[0m\u001b[1;33m\u001b[0m\u001b[0m\n\u001b[0;32m      3\u001b[0m \u001b[1;33m\u001b[0m\u001b[0m\n\u001b[1;32m----> 4\u001b[1;33m \u001b[0mprint\u001b[0m\u001b[1;33m(\u001b[0m\u001b[0madd\u001b[0m\u001b[1;33m(\u001b[0m\u001b[1;36m1\u001b[0m\u001b[1;33m,\u001b[0m\u001b[1;34m\"a\"\u001b[0m\u001b[1;33m)\u001b[0m\u001b[1;33m,\u001b[0m\u001b[0mtype\u001b[0m\u001b[1;33m(\u001b[0m\u001b[0madd\u001b[0m\u001b[1;33m(\u001b[0m\u001b[1;36m1\u001b[0m\u001b[1;33m,\u001b[0m\u001b[1;34m\"a\"\u001b[0m\u001b[1;33m)\u001b[0m\u001b[1;33m)\u001b[0m\u001b[1;33m)\u001b[0m\u001b[1;33m\u001b[0m\u001b[1;33m\u001b[0m\u001b[0m\n\u001b[0m",
      "\u001b[1;32m<ipython-input-23-ce72335f5c81>\u001b[0m in \u001b[0;36madd\u001b[1;34m(x, y)\u001b[0m\n\u001b[0;32m      1\u001b[0m \u001b[1;32mdef\u001b[0m \u001b[0madd\u001b[0m\u001b[1;33m(\u001b[0m\u001b[0mx\u001b[0m\u001b[1;33m,\u001b[0m \u001b[0my\u001b[0m\u001b[1;33m)\u001b[0m\u001b[1;33m:\u001b[0m\u001b[1;33m\u001b[0m\u001b[1;33m\u001b[0m\u001b[0m\n\u001b[1;32m----> 2\u001b[1;33m     \u001b[1;32mreturn\u001b[0m\u001b[1;33m(\u001b[0m\u001b[0mx\u001b[0m\u001b[1;33m+\u001b[0m\u001b[0my\u001b[0m\u001b[1;33m)\u001b[0m\u001b[1;33m\u001b[0m\u001b[1;33m\u001b[0m\u001b[0m\n\u001b[0m\u001b[0;32m      3\u001b[0m \u001b[1;33m\u001b[0m\u001b[0m\n\u001b[0;32m      4\u001b[0m \u001b[0mprint\u001b[0m\u001b[1;33m(\u001b[0m\u001b[0madd\u001b[0m\u001b[1;33m(\u001b[0m\u001b[1;36m1\u001b[0m\u001b[1;33m,\u001b[0m\u001b[1;34m\"a\"\u001b[0m\u001b[1;33m)\u001b[0m\u001b[1;33m,\u001b[0m\u001b[0mtype\u001b[0m\u001b[1;33m(\u001b[0m\u001b[0madd\u001b[0m\u001b[1;33m(\u001b[0m\u001b[1;36m1\u001b[0m\u001b[1;33m,\u001b[0m\u001b[1;34m\"a\"\u001b[0m\u001b[1;33m)\u001b[0m\u001b[1;33m)\u001b[0m\u001b[1;33m)\u001b[0m\u001b[1;33m\u001b[0m\u001b[1;33m\u001b[0m\u001b[0m\n",
      "\u001b[1;31mTypeError\u001b[0m: unsupported operand type(s) for +: 'int' and 'str'"
     ]
    }
   ],
   "source": [
    "def add(x, y):\n",
    "    return(x+y)\n",
    "           \n",
    "print(add(1,\"a\"),type(add(1,\"a\")))"
   ]
  },
  {
   "cell_type": "code",
   "execution_count": 24,
   "metadata": {},
   "outputs": [
    {
     "name": "stdout",
     "output_type": "stream",
     "text": [
      "12.0 °Celsius\n",
      "53.6  °Kelvin\n"
     ]
    }
   ],
   "source": [
    "def asCelsius(temperature):\n",
    "    print(temperature - 273.15, \"°Celsius\")\n",
    "    \n",
    "def asKelvin(temperature):\n",
    "    t = (((temperature -273.15) * 9) / 5) + 32\n",
    "    print(t,\" °Kelvin\")    \n",
    "    \n",
    "def Temperature(unit, temperature ):\n",
    "    unit(temperature)\n",
    "    \n",
    "temperature = 285.15    \n",
    "Temperature(asCelsius, temperature)\n",
    "Temperature(asKelvin, temperature)      "
   ]
  },
  {
   "cell_type": "code",
   "execution_count": 25,
   "metadata": {},
   "outputs": [
    {
     "name": "stdout",
     "output_type": "stream",
     "text": [
      "98.6  °Kelvin\n",
      "37.0 °Celsius\n"
     ]
    }
   ],
   "source": [
    "temperature = 310.15\n",
    "funktionen = {asCelsius,asKelvin}\n",
    "\n",
    "for x in funktionen:\n",
    "    x(temperature)\n"
   ]
  },
  {
   "cell_type": "code",
   "execution_count": 26,
   "metadata": {},
   "outputs": [
    {
     "name": "stdout",
     "output_type": "stream",
     "text": [
      "4  +  5 = 9\n",
      "9  -  1 = 8\n",
      "8  +  100 = 108\n"
     ]
    }
   ],
   "source": [
    "def add(x,y):\n",
    "    print(x, \" + \", y, end =\" = \")\n",
    "    return(x+y)\n",
    "\n",
    "def sub(x,y):\n",
    "    print(x, \" - \", y,end =\" = \")\n",
    "    return(x-y)\n",
    "\n",
    "a = 4\n",
    "befehle = [(add,5),(sub,1),(add,100)]\n",
    "for x in befehle:\n",
    "    a =x[0](a,x[1])\n",
    "    print(a)"
   ]
  },
  {
   "cell_type": "code",
   "execution_count": 27,
   "metadata": {},
   "outputs": [
    {
     "name": "stdout",
     "output_type": "stream",
     "text": [
      "[<function <lambda> at 0x00000223654BDEE0>, <function <lambda> at 0x00000223654BDE50>, <function <lambda> at 0x00000223654BDDC0>]\n",
      "<function <lambda> at 0x00000223654BDEE0>\n"
     ]
    },
    {
     "ename": "TypeError",
     "evalue": "'list' object is not an iterator",
     "output_type": "error",
     "traceback": [
      "\u001b[1;31m---------------------------------------------------------------------------\u001b[0m",
      "\u001b[1;31mTypeError\u001b[0m                                 Traceback (most recent call last)",
      "\u001b[1;32m<ipython-input-27-c01e57f22dfd>\u001b[0m in \u001b[0;36m<module>\u001b[1;34m\u001b[0m\n\u001b[0;32m      8\u001b[0m \u001b[1;32mfor\u001b[0m \u001b[0mx\u001b[0m \u001b[1;32min\u001b[0m \u001b[0ml\u001b[0m\u001b[1;33m[\u001b[0m\u001b[1;36m0\u001b[0m\u001b[1;33m]\u001b[0m\u001b[1;33m:\u001b[0m\u001b[1;33m\u001b[0m\u001b[1;33m\u001b[0m\u001b[0m\n\u001b[0;32m      9\u001b[0m     \u001b[0mprint\u001b[0m\u001b[1;33m(\u001b[0m\u001b[0mx\u001b[0m\u001b[1;33m)\u001b[0m\u001b[1;33m\u001b[0m\u001b[1;33m\u001b[0m\u001b[0m\n\u001b[1;32m---> 10\u001b[1;33m     \u001b[0ma\u001b[0m \u001b[1;33m=\u001b[0m\u001b[0mx\u001b[0m\u001b[1;33m(\u001b[0m\u001b[0ma\u001b[0m\u001b[1;33m,\u001b[0m\u001b[0mnext\u001b[0m\u001b[1;33m(\u001b[0m\u001b[0ml\u001b[0m\u001b[1;33m[\u001b[0m\u001b[1;36m1\u001b[0m\u001b[1;33m]\u001b[0m\u001b[1;33m)\u001b[0m\u001b[1;33m)\u001b[0m\u001b[1;33m\u001b[0m\u001b[1;33m\u001b[0m\u001b[0m\n\u001b[0m\u001b[0;32m     11\u001b[0m     \u001b[0mprint\u001b[0m\u001b[1;33m(\u001b[0m\u001b[0ma\u001b[0m\u001b[1;33m)\u001b[0m\u001b[1;33m\u001b[0m\u001b[1;33m\u001b[0m\u001b[0m\n",
      "\u001b[1;31mTypeError\u001b[0m: 'list' object is not an iterator"
     ]
    }
   ],
   "source": [
    "a = 4\n",
    "y = 4\n",
    "befehle = [(lambda x, y: x+y),(lambda x, y: x-y),\n",
    "          (lambda x, y: x+y)]\n",
    "parameter =[5, 1, 100]\n",
    "l =[befehle,parameter]\n",
    "print (l[0])\n",
    "for x in l[0]:\n",
    "    print(x)\n",
    "    a =x(a,next(l[1]))\n",
    "    print(a)"
   ]
  },
  {
   "cell_type": "code",
   "execution_count": null,
   "metadata": {},
   "outputs": [],
   "source": []
  }
 ],
 "metadata": {
  "kernelspec": {
   "display_name": "Python 3",
   "language": "python",
   "name": "python3"
  },
  "language_info": {
   "codemirror_mode": {
    "name": "ipython",
    "version": 3
   },
   "file_extension": ".py",
   "mimetype": "text/x-python",
   "name": "python",
   "nbconvert_exporter": "python",
   "pygments_lexer": "ipython3",
   "version": "3.8.6"
  }
 },
 "nbformat": 4,
 "nbformat_minor": 4
}
