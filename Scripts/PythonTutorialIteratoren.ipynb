{
 "cells": [
  {
   "cell_type": "markdown",
   "metadata": {},
   "source": [
    "Iteratoren"
   ]
  },
  {
   "cell_type": "code",
   "execution_count": 1,
   "metadata": {},
   "outputs": [
    {
     "name": "stdout",
     "output_type": "stream",
     "text": [
      "10\n",
      "4\n",
      "10\n"
     ]
    }
   ],
   "source": [
    "liste = [10,4,10,6,22,9]\n",
    "iterator = iter(liste)\n",
    "\n",
    "print(next(iterator))\n",
    "print(next(iterator))\n",
    "print(next(iterator))"
   ]
  },
  {
   "cell_type": "code",
   "execution_count": 2,
   "metadata": {},
   "outputs": [
    {
     "name": "stdout",
     "output_type": "stream",
     "text": [
      "6\n",
      "22\n",
      "9\n"
     ]
    }
   ],
   "source": [
    "for element in iterator:\n",
    "    print(element)"
   ]
  },
  {
   "cell_type": "code",
   "execution_count": 3,
   "metadata": {},
   "outputs": [
    {
     "name": "stdout",
     "output_type": "stream",
     "text": [
      "10\n",
      "4\n"
     ]
    },
    {
     "ename": "StopIteration",
     "evalue": "",
     "output_type": "error",
     "traceback": [
      "\u001b[1;31m---------------------------------------------------------------------------\u001b[0m",
      "\u001b[1;31mStopIteration\u001b[0m                             Traceback (most recent call last)",
      "\u001b[1;32m<ipython-input-3-26d9fdb975e8>\u001b[0m in \u001b[0;36m<module>\u001b[1;34m\u001b[0m\n\u001b[0;32m      4\u001b[0m \u001b[0mprint\u001b[0m\u001b[1;33m(\u001b[0m\u001b[0mnext\u001b[0m\u001b[1;33m(\u001b[0m\u001b[0miterator\u001b[0m\u001b[1;33m)\u001b[0m\u001b[1;33m)\u001b[0m\u001b[1;33m\u001b[0m\u001b[1;33m\u001b[0m\u001b[0m\n\u001b[0;32m      5\u001b[0m \u001b[0mprint\u001b[0m\u001b[1;33m(\u001b[0m\u001b[0mnext\u001b[0m\u001b[1;33m(\u001b[0m\u001b[0miterator\u001b[0m\u001b[1;33m)\u001b[0m\u001b[1;33m)\u001b[0m\u001b[1;33m\u001b[0m\u001b[1;33m\u001b[0m\u001b[0m\n\u001b[1;32m----> 6\u001b[1;33m \u001b[0mprint\u001b[0m\u001b[1;33m(\u001b[0m\u001b[0mnext\u001b[0m\u001b[1;33m(\u001b[0m\u001b[0miterator\u001b[0m\u001b[1;33m)\u001b[0m\u001b[1;33m)\u001b[0m\u001b[1;33m\u001b[0m\u001b[1;33m\u001b[0m\u001b[0m\n\u001b[0m",
      "\u001b[1;31mStopIteration\u001b[0m: "
     ]
    }
   ],
   "source": [
    "liste = [10,4]\n",
    "iterator = iter(liste)\n",
    "\n",
    "print(next(iterator))\n",
    "print(next(iterator))\n",
    "print(next(iterator))"
   ]
  },
  {
   "cell_type": "code",
   "execution_count": 4,
   "metadata": {},
   "outputs": [
    {
     "name": "stdout",
     "output_type": "stream",
     "text": [
      "<class 'list_iterator'>\n",
      "<class 'tuple_iterator'>\n"
     ]
    }
   ],
   "source": [
    "liste = [10,4]\n",
    "iterator = iter(liste)\n",
    "print(type(iterator))\n",
    "\n",
    "tupel = (10,4)\n",
    "iterator = iter(tupel)\n",
    "print(type(iterator))"
   ]
  },
  {
   "cell_type": "code",
   "execution_count": 5,
   "metadata": {},
   "outputs": [
    {
     "name": "stdout",
     "output_type": "stream",
     "text": [
      "<tuple_iterator object at 0x000001F126581520>\n",
      "10\n",
      "<class 'int'>\n"
     ]
    },
    {
     "ename": "StopIteration",
     "evalue": "",
     "output_type": "error",
     "traceback": [
      "\u001b[1;31m---------------------------------------------------------------------------\u001b[0m",
      "\u001b[1;31mStopIteration\u001b[0m                             Traceback (most recent call last)",
      "\u001b[1;32m<ipython-input-5-b20a472bbd79>\u001b[0m in \u001b[0;36m<module>\u001b[1;34m\u001b[0m\n\u001b[0;32m      5\u001b[0m \u001b[0mprint\u001b[0m\u001b[1;33m(\u001b[0m\u001b[0mtype\u001b[0m\u001b[1;33m(\u001b[0m\u001b[0mnext\u001b[0m\u001b[1;33m(\u001b[0m\u001b[0miterator\u001b[0m\u001b[1;33m)\u001b[0m\u001b[1;33m)\u001b[0m\u001b[1;33m)\u001b[0m\u001b[1;33m\u001b[0m\u001b[1;33m\u001b[0m\u001b[0m\n\u001b[0;32m      6\u001b[0m \u001b[1;33m\u001b[0m\u001b[0m\n\u001b[1;32m----> 7\u001b[1;33m \u001b[0mprint\u001b[0m\u001b[1;33m(\u001b[0m\u001b[0mnext\u001b[0m\u001b[1;33m(\u001b[0m\u001b[0miterator\u001b[0m\u001b[1;33m)\u001b[0m\u001b[1;33m)\u001b[0m\u001b[1;33m\u001b[0m\u001b[1;33m\u001b[0m\u001b[0m\n\u001b[0m",
      "\u001b[1;31mStopIteration\u001b[0m: "
     ]
    }
   ],
   "source": [
    "tupel = (10,4)\n",
    "iterator = iter(tupel)\n",
    "print(iterator)\n",
    "print(next(iterator))\n",
    "print(type(next(iterator)))\n",
    "\n",
    "print(next(iterator))"
   ]
  },
  {
   "cell_type": "code",
   "execution_count": 6,
   "metadata": {},
   "outputs": [
    {
     "name": "stdout",
     "output_type": "stream",
     "text": [
      "1\n",
      "2\n",
      "3\n"
     ]
    }
   ],
   "source": [
    "liste =[1,2,3]\n",
    "iterator = iter(liste)\n",
    "for number in iterator:\n",
    "    print (number)"
   ]
  },
  {
   "cell_type": "code",
   "execution_count": 7,
   "metadata": {},
   "outputs": [
    {
     "name": "stdout",
     "output_type": "stream",
     "text": [
      "1\n",
      "2\n",
      "3\n"
     ]
    }
   ],
   "source": [
    "liste =[1,2,3]\n",
    "for number in liste:\n",
    "    print (number)"
   ]
  },
  {
   "cell_type": "code",
   "execution_count": 8,
   "metadata": {},
   "outputs": [
    {
     "name": "stdout",
     "output_type": "stream",
     "text": [
      "[(0, 'Banane'), (1, 'Zitrone'), (2, 'Apfel')]\n",
      "[]\n"
     ]
    }
   ],
   "source": [
    "liste ={\"Apfel\",\"Banane\",\"Zitrone\"}\n",
    "enum = enumerate(liste)\n",
    "print(list(enum))\n",
    "print(list(enum))"
   ]
  },
  {
   "cell_type": "code",
   "execution_count": 9,
   "metadata": {},
   "outputs": [
    {
     "name": "stdout",
     "output_type": "stream",
     "text": [
      "[(30, 'Apfel'), (31, 'Banane'), (32, 'Zitrone')]\n"
     ]
    }
   ],
   "source": [
    "liste =[\"Apfel\",\"Banane\",\"Zitrone\"]\n",
    "enum = enumerate(liste,30)\n",
    "print(list(enum))"
   ]
  },
  {
   "cell_type": "code",
   "execution_count": null,
   "metadata": {},
   "outputs": [],
   "source": []
  },
  {
   "cell_type": "code",
   "execution_count": 10,
   "metadata": {},
   "outputs": [
    {
     "data": {
      "text/plain": [
       "list"
      ]
     },
     "execution_count": 10,
     "metadata": {},
     "output_type": "execute_result"
    }
   ],
   "source": [
    "liste =[1,2,3,4,5]\n",
    "type(sorted(liste))\n"
   ]
  },
  {
   "cell_type": "code",
   "execution_count": 11,
   "metadata": {},
   "outputs": [
    {
     "name": "stdout",
     "output_type": "stream",
     "text": [
      "<map object at 0x000001F126572100>\n",
      "org - [0, 4, 5, 9]\n",
      "+ 4 - [4, 8, 9, 13]\n",
      "+ 4 - []\n"
     ]
    }
   ],
   "source": [
    "def offset(a):\n",
    "    return a + 4\n",
    "\n",
    "zahlen = [0,4,5,9]\n",
    "m = map(offset, zahlen) \n",
    "\n",
    "print(m)\n",
    "print(\"org -\",zahlen)\n",
    "print(\"+ 4 -\",list(m))\n",
    "print(\"+ 4 -\",list(m))"
   ]
  },
  {
   "cell_type": "code",
   "execution_count": 12,
   "metadata": {},
   "outputs": [
    {
     "name": "stdout",
     "output_type": "stream",
     "text": [
      "org - [0, 4, 5, 9]\n",
      "pop - [0, 5, 9]\n",
      "+ 4 - [4, 9, 13]\n",
      "+ 4 - []\n"
     ]
    }
   ],
   "source": [
    "def offset(a):\n",
    "    return a + 4\n",
    "\n",
    "zahlen = [0,4,5,9]\n",
    "m = map(offset, zahlen) \n",
    "print(\"org -\",zahlen)\n",
    "zahlen.pop(1)\n",
    "print(\"pop -\",zahlen)\n",
    "print(\"+ 4 -\",list(m))\n",
    "print(\"+ 4 -\",list(m))"
   ]
  },
  {
   "cell_type": "code",
   "execution_count": 13,
   "metadata": {},
   "outputs": [
    {
     "name": "stdout",
     "output_type": "stream",
     "text": [
      "['Hausle', 'Autole', 'Bombele']\n"
     ]
    }
   ],
   "source": [
    "def schwaebisch (a):\n",
    "    return (a +\"le\")\n",
    "\n",
    "a  = ['Haus',\"Auto\",\"Bombe\"]\n",
    "print( list(map (schwaebisch,a)))"
   ]
  },
  {
   "cell_type": "code",
   "execution_count": 14,
   "metadata": {},
   "outputs": [
    {
     "name": "stdout",
     "output_type": "stream",
     "text": [
      "<class 'tuple'>\n",
      "('Hausle', 'Autole', 'Bombele')\n"
     ]
    }
   ],
   "source": [
    "s = (*map (schwaebisch,a),)\n",
    "print(type(s))\n",
    "print(s)"
   ]
  },
  {
   "cell_type": "code",
   "execution_count": 15,
   "metadata": {},
   "outputs": [
    {
     "name": "stdout",
     "output_type": "stream",
     "text": [
      "Werte =  [1, 2, 3, 4, 0]\n",
      "alle Werte > 0 ?  False\n",
      "  ein Wert > 0 ?  True\n",
      "\n",
      "Werte =  [1, 2, 3, 4]\n",
      "alle Werte > 0 ?  True\n"
     ]
    }
   ],
   "source": [
    "liste = [1,2,3,4,0]\n",
    "print(\"Werte = \", liste)\n",
    "print(\"alle Werte > 0 ? \", all(liste))\n",
    "print(\"  ein Wert > 0 ? \", any(liste))\n",
    "\n",
    "print(\"\\nWerte = \", liste[0:4])\n",
    "print(\"alle Werte > 0 ? \", all(liste[0:4]))"
   ]
  },
  {
   "cell_type": "code",
   "execution_count": 16,
   "metadata": {},
   "outputs": [
    {
     "name": "stdout",
     "output_type": "stream",
     "text": [
      "minimum ist :  -1\n",
      "maximum ist :  4.999\n",
      "\n",
      "minimum ist :  U1\n",
      "maximum ist :  ab\n"
     ]
    }
   ],
   "source": [
    "liste = [-1, 2.1, 4.999, 4.99, 0]\n",
    "print(\"minimum ist : \", min(liste))\n",
    "print(\"maximum ist : \", max(liste))\n",
    "\n",
    "liste = [\"aa\",\"ab\",\"U1\",\"Ue\"]\n",
    "print(\"\\nminimum ist : \", min(liste))\n",
    "print(\"maximum ist : \", max(liste))"
   ]
  },
  {
   "cell_type": "code",
   "execution_count": 17,
   "metadata": {},
   "outputs": [
    {
     "name": "stdout",
     "output_type": "stream",
     "text": [
      "original  -  [1, 2.1, 3, 4.99, 0]\n",
      "sortiert  -  [0, 1, 2.1, 3, 4.99]\n",
      "\n",
      " ['u', 'g', 'a', 'Ä', '𒀭', 'U', '1']\n",
      " ['1', 'U', 'a', 'g', 'u', 'Ä', '𒀭']\n"
     ]
    }
   ],
   "source": [
    "liste = [1,2.1,3,4.99,0]\n",
    "print(\"original  - \",liste);\n",
    "print(\"sortiert  - \",sorted(liste))\n",
    "\n",
    "liste = [\"u\",\"g\",\"a\",\"Ä\",\"𒀭\",\"U\",\"1\"]\n",
    "print(\"\\n\", liste)\n",
    "print(\"\",sorted(liste))"
   ]
  },
  {
   "cell_type": "code",
   "execution_count": 18,
   "metadata": {},
   "outputs": [
    {
     "name": "stdout",
     "output_type": "stream",
     "text": [
      "original  -  [1, 2.1, 3, 4.99, 0]\n",
      "umgedreht -  [0, 4.99, 3, 2.1, 1]\n",
      "\n",
      "original  -  ['u', 'g', 'a', 'Ä', 'a', 'U', '1']\n",
      "umgedreht -  ['1', 'U', 'a', 'Ä', 'a', 'g', 'u']\n",
      "umgedreht -  <list_reverseiterator object at 0x000001F126581CA0>\n"
     ]
    }
   ],
   "source": [
    "liste = [1,2.1,3,4.99,0]\n",
    "print(\"original  - \",liste);\n",
    "print(\"umgedreht - \",list(reversed(liste)))\n",
    "\n",
    "liste = [\"u\",\"g\",\"a\",\"Ä\",\"a\",\"U\",\"1\"]\n",
    "print(\"\\noriginal  - \",liste);\n",
    "print(\"umgedreht - \", list(reversed(liste)))\n",
    "print(\"umgedreht - \", reversed(liste))"
   ]
  },
  {
   "cell_type": "code",
   "execution_count": 19,
   "metadata": {},
   "outputs": [
    {
     "name": "stdout",
     "output_type": "stream",
     "text": [
      "Werte -  [1, 2.1, 3, 4.99, -1]\n",
      "summe -  10.09\n"
     ]
    }
   ],
   "source": [
    "liste = [1,2.1,3,4.99,-1]\n",
    "print(\"Werte - \",liste);\n",
    "print(\"summe - \",sum(liste));\n"
   ]
  },
  {
   "cell_type": "code",
   "execution_count": 20,
   "metadata": {},
   "outputs": [
    {
     "data": {
      "text/plain": [
       "0.08999999999999986"
      ]
     },
     "execution_count": 20,
     "metadata": {},
     "output_type": "execute_result"
    }
   ],
   "source": [
    "10.09-10\n"
   ]
  },
  {
   "cell_type": "code",
   "execution_count": 21,
   "metadata": {},
   "outputs": [
    {
     "name": "stdout",
     "output_type": "stream",
     "text": [
      "[3, 4, 5]\n"
     ]
    }
   ],
   "source": [
    "def filterFunction(value):\n",
    "    if value > 2:\n",
    "        return True\n",
    "    else: \n",
    "        return False\n",
    "        \n",
    "liste = [1,2,3,4,5]\n",
    "f =filter(filterFunction, liste)\n",
    "print(list(f))"
   ]
  },
  {
   "cell_type": "code",
   "execution_count": 22,
   "metadata": {},
   "outputs": [
    {
     "name": "stdout",
     "output_type": "stream",
     "text": [
      "[3, 4, 5]\n"
     ]
    }
   ],
   "source": [
    "liste = [1,2,3,4,5]\n",
    "f =filter(lambda x: True if x > 2 else False, liste)\n",
    "f =filter(lambda x: x > 2 , liste)\n",
    "print(list(f))"
   ]
  },
  {
   "cell_type": "code",
   "execution_count": null,
   "metadata": {},
   "outputs": [],
   "source": []
  }
 ],
 "metadata": {
  "kernelspec": {
   "display_name": "Python 3",
   "language": "python",
   "name": "python3"
  },
  "language_info": {
   "codemirror_mode": {
    "name": "ipython",
    "version": 3
   },
   "file_extension": ".py",
   "mimetype": "text/x-python",
   "name": "python",
   "nbconvert_exporter": "python",
   "pygments_lexer": "ipython3",
   "version": "3.8.6"
  }
 },
 "nbformat": 4,
 "nbformat_minor": 4
}
