{
 "cells": [
  {
   "cell_type": "markdown",
   "metadata": {},
   "source": [
    "Tutorial Listen, Tupe, Sets Dictionarys"
   ]
  },
  {
   "cell_type": "code",
   "execution_count": 1,
   "metadata": {},
   "outputs": [
    {
     "name": "stdout",
     "output_type": "stream",
     "text": [
      "Romanes eunt domus\n",
      "8  *  6.6  = \n",
      " 52.8\n"
     ]
    }
   ],
   "source": [
    "print (\"Romanes\", \"eunt\",\"domus\")\n",
    "\n",
    "integer = 8\n",
    "float = 6.6\n",
    "print (integer,\" * \", float, ' = \\n', integer * float)"
   ]
  },
  {
   "cell_type": "code",
   "execution_count": 2,
   "metadata": {},
   "outputs": [
    {
     "name": "stdout",
     "output_type": "stream",
     "text": [
      "('Drache', 'kriegt', 'den', 'Ring', 'nicht')\n"
     ]
    }
   ],
   "source": [
    "liste = (\"Drache\", \"kriegt\", \"den\", \"Ring\",\"nicht\")\n",
    "print(liste)"
   ]
  },
  {
   "cell_type": "code",
   "execution_count": 3,
   "metadata": {},
   "outputs": [
    {
     "name": "stdout",
     "output_type": "stream",
     "text": [
      "Ich sehe \"doppelt\"\n",
      "ich sehe 'einfach'\n",
      "Ich sehe \"doppelt anders\"\n"
     ]
    }
   ],
   "source": [
    "print('Ich sehe \"doppelt\"')\n",
    "print(\"ich sehe 'einfach'\" )\n",
    "print(\"Ich sehe \\\"doppelt anders\\\"\" )"
   ]
  },
  {
   "cell_type": "code",
   "execution_count": 4,
   "metadata": {},
   "outputs": [
    {
     "name": "stdout",
     "output_type": "stream",
     "text": [
      " Erste Zeile\n",
      "Zweite Zeile\n",
      "Dritte Zeile\n"
     ]
    }
   ],
   "source": [
    "Zeichenkette = \"\"\" Erste Zeile\n",
    "Zweite Zeile\n",
    "Dritte Zeile\"\"\"\n",
    "print(Zeichenkette)"
   ]
  },
  {
   "cell_type": "code",
   "execution_count": 5,
   "metadata": {},
   "outputs": [
    {
     "name": "stdout",
     "output_type": "stream",
     "text": [
      " Größter Wert ist 10\n",
      " Größter Wert ist 10\n",
      " Größter Wert ist 11.5\n"
     ]
    }
   ],
   "source": [
    "menge = [3, 2, 8, 10 , 6]\n",
    "maximum = \" Größter Wert ist \" + str(max(menge)) \n",
    "print(maximum)\n",
    "\n",
    "menge.append(11.5)\n",
    "print(maximum)\n",
    "\n",
    "maximum = \" Größter Wert ist \" + str(max(menge)) \n",
    "print(maximum)"
   ]
  },
  {
   "cell_type": "code",
   "execution_count": 6,
   "metadata": {},
   "outputs": [
    {
     "name": "stdout",
     "output_type": "stream",
     "text": [
      "Am Anfang war das Ende\n"
     ]
    }
   ],
   "source": [
    "anfang = \"Am Anfang\"\n",
    "mitte = \"war das\"\n",
    "ende = \"Ende\"\n",
    "alles = anfang +\" \"+ mitte +\" \"+  ende\n",
    "print(alles)"
   ]
  },
  {
   "cell_type": "code",
   "execution_count": 7,
   "metadata": {},
   "outputs": [
    {
     "name": "stdout",
     "output_type": "stream",
     "text": [
      "Apfel Kuchen\n",
      "Apfel Kuchen\n",
      "ApfelKuchen\n",
      "Apfel-im-Kuchen\n"
     ]
    }
   ],
   "source": [
    "apfel = \"Apfel\"\n",
    "print(apfel, \"Kuchen\")\n",
    "print(apfel, \"Kuchen\", sep=None)\n",
    "print(apfel, \"Kuchen\", sep='')\n",
    "print(apfel, \"Kuchen\", sep='-im-')"
   ]
  },
  {
   "cell_type": "code",
   "execution_count": 8,
   "metadata": {},
   "outputs": [
    {
     "name": "stdout",
     "output_type": "stream",
     "text": [
      "('Montag', 'Dienstag', 'Mittwoch')\n",
      "Tage = \n",
      "Tage = Montag;Dienstag;Mittwoch\n"
     ]
    }
   ],
   "source": [
    "wochentage = (\"Montag\",\"Dienstag\",\"Mittwoch\")\n",
    "print(wochentage)\n",
    "\n",
    "tage = \"Tage = \"\n",
    "tage.join(wochentage)\n",
    "print(tage)\n",
    "\n",
    "tage += \";\".join(wochentage)\n",
    "print(tage)"
   ]
  },
  {
   "cell_type": "code",
   "execution_count": 9,
   "metadata": {},
   "outputs": [
    {
     "name": "stdout",
     "output_type": "stream",
     "text": [
      "Momentmal\n",
      "momentmal\n"
     ]
    }
   ],
   "source": [
    "Zeichenkette = \"MomentMal\"\n",
    "print(Zeichenkette.capitalize())\n",
    "print(Zeichenkette.lower())"
   ]
  },
  {
   "cell_type": "code",
   "execution_count": 10,
   "metadata": {},
   "outputs": [
    {
     "name": "stdout",
     "output_type": "stream",
     "text": [
      "ML ist Statistik."
     ]
    }
   ],
   "source": [
    "print(\"ML\", end = \" ist \")\n",
    "print(\"Statistik\", end = \".\")"
   ]
  },
  {
   "cell_type": "code",
   "execution_count": 11,
   "metadata": {},
   "outputs": [],
   "source": [
    "with open('datei.txt', mode='w') as datei_objekt:\n",
    "    print('hallo SSD', file=datei_objekt)"
   ]
  },
  {
   "cell_type": "markdown",
   "metadata": {},
   "source": [
    "Kollektionen"
   ]
  },
  {
   "cell_type": "code",
   "execution_count": 12,
   "metadata": {},
   "outputs": [
    {
     "name": "stdout",
     "output_type": "stream",
     "text": [
      "2106019494144\n",
      "{'Haus', 'Tempel', 'Monument'}\n",
      "2106019494144\n",
      "{'Garage', 'Haus', 'Tempel', 'Monument'}\n"
     ]
    }
   ],
   "source": [
    "bauwerk = {\"Haus\",\"Monument\",\"Tempel\",\"Haus\"}\n",
    "print(id(bauwerk))\n",
    "print(bauwerk)\n",
    "bauwerk.add(\"Garage\")\n",
    "print(id(bauwerk))\n",
    "print(bauwerk)"
   ]
  },
  {
   "cell_type": "code",
   "execution_count": null,
   "metadata": {},
   "outputs": [],
   "source": []
  },
  {
   "cell_type": "code",
   "execution_count": 15,
   "metadata": {},
   "outputs": [
    {
     "name": "stdout",
     "output_type": "stream",
     "text": [
      "{'Haus', 'Tempel', 'Monument'}\n"
     ]
    }
   ],
   "source": [
    "bauwerk = {\"Haus\",\"Monument\",\"Tempel\",\"Haus\"}\n",
    "print(bauwerk)\n"
   ]
  },
  {
   "cell_type": "code",
   "execution_count": 16,
   "metadata": {},
   "outputs": [
    {
     "name": "stdout",
     "output_type": "stream",
     "text": [
      "Tuple :  ['Haus', 'Monument', 'Tempel', 'Haus']\n",
      "Tuple :  ('Haus', 'Monument', 'Tempel', 'Haus')\n",
      "Set   :  {'Haus', 'Tempel', 'Monument'}\n",
      "Liste :  ['Haus', 'Tempel', 'Monument']\n"
     ]
    }
   ],
   "source": [
    "bauwerk = [\"Haus\",\"Monument\",\"Tempel\",\"Haus\"]\n",
    "\n",
    "bauwerkTuple = tuple(bauwerk)\n",
    "bauwerkSet = set(bauwerk)\n",
    "bauwerkListe = list(bauwerkSet)\n",
    "\n",
    "print(\"Tuple : \",bauwerk)\n",
    "print(\"Tuple : \",bauwerkTuple)\n",
    "print(\"Set   : \",bauwerkSet)\n",
    "print(\"Liste : \",bauwerkListe)"
   ]
  },
  {
   "cell_type": "code",
   "execution_count": 17,
   "metadata": {},
   "outputs": [
    {
     "name": "stdout",
     "output_type": "stream",
     "text": [
      "['Haus', 'Monument', 'Tempel', 'Haus', 'Garten']\n",
      "Monument\n",
      "['Haus', 'Monument']\n",
      "['Tempel', 'Haus']\n",
      "['Tempel', 'Haus', 'Garten']\n"
     ]
    }
   ],
   "source": [
    "bauwerk = [\"Haus\",\"Monument\",\"Tempel\",\"Haus\",\"Garten\"]\n",
    "print(bauwerk)\n",
    "print(bauwerk[1])\n",
    "print(bauwerk[:2])\n",
    "print(bauwerk[2:4])\n",
    "print(bauwerk[2:])"
   ]
  },
  {
   "cell_type": "code",
   "execution_count": 18,
   "metadata": {},
   "outputs": [
    {
     "name": "stdout",
     "output_type": "stream",
     "text": [
      "['Haus', 'Monument', 'Tempel', 'Garage']\n",
      "Garage , Monument\n"
     ]
    }
   ],
   "source": [
    "bauwerk = [\"Haus\",\"Monument\",\"Tempel\",\"Garage\"]\n",
    "print(bauwerk)\n",
    "print(bauwerk[-1],\",\",bauwerk[-3])"
   ]
  },
  {
   "cell_type": "code",
   "execution_count": 19,
   "metadata": {},
   "outputs": [
    {
     "name": "stdout",
     "output_type": "stream",
     "text": [
      "Haus ist da\n",
      "Garage ist nicht da\n"
     ]
    }
   ],
   "source": [
    "bauwerk = [\"Haus\",\"Monument\",\"Tempel\",\"Haus\"]\n",
    "\n",
    "if \"Haus\" in bauwerk:\n",
    "    print(\"Haus ist da\")\n",
    "\n",
    "if \"Garage\" not in bauwerk:\n",
    "    print(\"Garage ist nicht da\")"
   ]
  },
  {
   "cell_type": "code",
   "execution_count": 20,
   "metadata": {},
   "outputs": [
    {
     "name": "stdout",
     "output_type": "stream",
     "text": [
      "Bauwerk : Haus\n",
      "Bauwerk : Monument\n",
      "Bauwerk : Tempel\n",
      "Bauwerk : Haus\n"
     ]
    }
   ],
   "source": [
    "bauwerk = [\"Haus\",\"Monument\",\"Tempel\",\"Haus\"]\n",
    "\n",
    "for objekt in bauwerk:\n",
    "    print(\"Bauwerk :\", objekt)"
   ]
  },
  {
   "cell_type": "markdown",
   "metadata": {},
   "source": [
    "Sets"
   ]
  },
  {
   "cell_type": "code",
   "execution_count": 21,
   "metadata": {},
   "outputs": [
    {
     "name": "stdout",
     "output_type": "stream",
     "text": [
      "['Haus', 'Garage', 'Monument']\n",
      "['Tempel', 'Monument']\n",
      "['Haus', 'Garage', 'Monument', 'Tempel', 'Monument']\n"
     ]
    }
   ],
   "source": [
    "profan = [\"Haus\",\"Garage\",\"Monument\"]\n",
    "sakral = [\"Tempel\",\"Monument\"]\n",
    "print(profan)\n",
    "print(sakral)\n",
    "\n",
    "bauwerk = profan + sakral\n",
    "print(bauwerk)"
   ]
  },
  {
   "cell_type": "code",
   "execution_count": 22,
   "metadata": {},
   "outputs": [
    {
     "name": "stdout",
     "output_type": "stream",
     "text": [
      "{'Haus', 'Tempel', 'Monument'}\n"
     ]
    }
   ],
   "source": [
    "bauwerk = {\"Haus\",\"Monument\",\"Tempel\",\"Haus\"}\n",
    "print(bauwerk)"
   ]
  },
  {
   "cell_type": "code",
   "execution_count": 23,
   "metadata": {},
   "outputs": [
    {
     "name": "stdout",
     "output_type": "stream",
     "text": [
      "Haus\n",
      "Tempel\n",
      "Monument\n"
     ]
    }
   ],
   "source": [
    "for objekt in bauwerk:\n",
    "    print(objekt)"
   ]
  },
  {
   "cell_type": "code",
   "execution_count": 24,
   "metadata": {},
   "outputs": [
    {
     "name": "stdout",
     "output_type": "stream",
     "text": [
      "False\n",
      "True\n"
     ]
    }
   ],
   "source": [
    "print(\"Schule\" in bauwerk) \n",
    "print(\"Haus\" in bauwerk) "
   ]
  },
  {
   "cell_type": "code",
   "execution_count": 25,
   "metadata": {},
   "outputs": [
    {
     "name": "stdout",
     "output_type": "stream",
     "text": [
      "{'Haus', 'Tempel', 'Monument'}\n",
      "{'Garage', 'Haus', 'Tempel', 'Monument'}\n"
     ]
    }
   ],
   "source": [
    "print(bauwerk)\n",
    "bauwerk.add(\"Garage\")\n",
    "print(bauwerk)"
   ]
  },
  {
   "cell_type": "code",
   "execution_count": 26,
   "metadata": {},
   "outputs": [
    {
     "name": "stdout",
     "output_type": "stream",
     "text": [
      "{'Garage', 'Haus', 'Tempel', 'Monument'}\n",
      "{'Haus', 'Dom', 'Garage', 'Schuppen', 'Tempel', 'Monument'}\n"
     ]
    }
   ],
   "source": [
    "print(bauwerk)\n",
    "bauwerk.update({\"Dom\",\"Schuppen\"})\n",
    "print(bauwerk)"
   ]
  },
  {
   "cell_type": "code",
   "execution_count": 27,
   "metadata": {},
   "outputs": [
    {
     "name": "stdout",
     "output_type": "stream",
     "text": [
      "{'Haus', 'Tempel', 'Monument'}\n",
      "{'Tempel', 'Monument'}\n"
     ]
    },
    {
     "ename": "KeyError",
     "evalue": "'Haus'",
     "output_type": "error",
     "traceback": [
      "\u001b[1;31m---------------------------------------------------------------------------\u001b[0m",
      "\u001b[1;31mKeyError\u001b[0m                                  Traceback (most recent call last)",
      "\u001b[1;32m<ipython-input-27-af46ad7a4b54>\u001b[0m in \u001b[0;36m<module>\u001b[1;34m\u001b[0m\n\u001b[0;32m      3\u001b[0m \u001b[0mbauwerk\u001b[0m\u001b[1;33m.\u001b[0m\u001b[0mremove\u001b[0m\u001b[1;33m(\u001b[0m\u001b[1;34m\"Haus\"\u001b[0m\u001b[1;33m)\u001b[0m\u001b[1;33m\u001b[0m\u001b[1;33m\u001b[0m\u001b[0m\n\u001b[0;32m      4\u001b[0m \u001b[0mprint\u001b[0m\u001b[1;33m(\u001b[0m\u001b[0mbauwerk\u001b[0m\u001b[1;33m)\u001b[0m\u001b[1;33m\u001b[0m\u001b[1;33m\u001b[0m\u001b[0m\n\u001b[1;32m----> 5\u001b[1;33m \u001b[0mbauwerk\u001b[0m\u001b[1;33m.\u001b[0m\u001b[0mremove\u001b[0m\u001b[1;33m(\u001b[0m\u001b[1;34m\"Haus\"\u001b[0m\u001b[1;33m)\u001b[0m\u001b[1;33m\u001b[0m\u001b[1;33m\u001b[0m\u001b[0m\n\u001b[0m",
      "\u001b[1;31mKeyError\u001b[0m: 'Haus'"
     ]
    }
   ],
   "source": [
    "bauwerk = {\"Haus\",\"Monument\",\"Tempel\",\"Haus\"}\n",
    "print(bauwerk)\n",
    "bauwerk.remove(\"Haus\")\n",
    "print(bauwerk)\n",
    "bauwerk.remove(\"Haus\")"
   ]
  },
  {
   "cell_type": "code",
   "execution_count": 28,
   "metadata": {},
   "outputs": [
    {
     "name": "stdout",
     "output_type": "stream",
     "text": [
      "{'Haus', 'Tempel', 'Monument'}\n",
      "set()\n"
     ]
    }
   ],
   "source": [
    "bauwerk = {\"Haus\",\"Monument\",\"Tempel\",\"Haus\"}\n",
    "print(bauwerk)\n",
    "bauwerk.clear()\n",
    "print(bauwerk)"
   ]
  },
  {
   "cell_type": "code",
   "execution_count": 29,
   "metadata": {},
   "outputs": [
    {
     "name": "stdout",
     "output_type": "stream",
     "text": [
      "{'Haus', 'Tempel', 'Monument'}\n",
      "{'Tempel', 'Monument'}\n"
     ]
    }
   ],
   "source": [
    "bauwerk = {\"Haus\",\"Monument\",\"Tempel\",\"Haus\"}\n",
    "print(bauwerk)\n",
    "bauwerk.pop()\n",
    "print(bauwerk)"
   ]
  },
  {
   "cell_type": "code",
   "execution_count": 30,
   "metadata": {},
   "outputs": [
    {
     "name": "stdout",
     "output_type": "stream",
     "text": [
      "{'Haus', 'Tempel', 'Monument'}\n"
     ]
    },
    {
     "ename": "NameError",
     "evalue": "name 'bauwerk' is not defined",
     "output_type": "error",
     "traceback": [
      "\u001b[1;31m---------------------------------------------------------------------------\u001b[0m",
      "\u001b[1;31mNameError\u001b[0m                                 Traceback (most recent call last)",
      "\u001b[1;32m<ipython-input-30-42b4e7d9568f>\u001b[0m in \u001b[0;36m<module>\u001b[1;34m\u001b[0m\n\u001b[0;32m      2\u001b[0m \u001b[0mprint\u001b[0m\u001b[1;33m(\u001b[0m\u001b[0mbauwerk\u001b[0m\u001b[1;33m)\u001b[0m\u001b[1;33m\u001b[0m\u001b[1;33m\u001b[0m\u001b[0m\n\u001b[0;32m      3\u001b[0m \u001b[1;32mdel\u001b[0m \u001b[0mbauwerk\u001b[0m\u001b[1;33m\u001b[0m\u001b[1;33m\u001b[0m\u001b[0m\n\u001b[1;32m----> 4\u001b[1;33m \u001b[0mprint\u001b[0m\u001b[1;33m(\u001b[0m\u001b[0mbauwerk\u001b[0m\u001b[1;33m)\u001b[0m\u001b[1;33m\u001b[0m\u001b[1;33m\u001b[0m\u001b[0m\n\u001b[0m",
      "\u001b[1;31mNameError\u001b[0m: name 'bauwerk' is not defined"
     ]
    }
   ],
   "source": [
    "bauwerk = {\"Haus\",\"Monument\",\"Tempel\",\"Haus\"}\n",
    "print(bauwerk)\n",
    "del bauwerk\n",
    "print(bauwerk)"
   ]
  },
  {
   "cell_type": "code",
   "execution_count": null,
   "metadata": {},
   "outputs": [],
   "source": []
  },
  {
   "cell_type": "code",
   "execution_count": 31,
   "metadata": {},
   "outputs": [
    {
     "name": "stdout",
     "output_type": "stream",
     "text": [
      "{'Garage', 'Haus', 'Monument'}\n",
      "{'Tempel', 'Monument'}\n",
      "{'Haus', 'Garage', 'Tempel', 'Monument'}\n"
     ]
    }
   ],
   "source": [
    "profan = {\"Haus\",\"Garage\",\"Monument\"}\n",
    "sakral = {\"Tempel\",\"Monument\"}\n",
    "print(profan)\n",
    "print(sakral)\n",
    "bauwerk = profan.union(sakral)\n",
    "print(bauwerk)"
   ]
  },
  {
   "cell_type": "code",
   "execution_count": 32,
   "metadata": {},
   "outputs": [
    {
     "name": "stdout",
     "output_type": "stream",
     "text": [
      "{'Garage', 'Haus', 'Monument'}\n",
      "{'Tempel', 'Monument'}\n",
      "{'Monument'}\n",
      "{'Monument'}\n"
     ]
    }
   ],
   "source": [
    "profan = {\"Haus\",\"Garage\",\"Monument\"}\n",
    "sakral = {\"Tempel\",\"Monument\"}\n",
    "print(profan)\n",
    "print(sakral)\n",
    "\n",
    "bauwerk = profan.intersection(sakral)\n",
    "print(bauwerk)\n",
    "\n",
    "profan.intersection_update(sakral)\n",
    "print(profan)"
   ]
  },
  {
   "cell_type": "code",
   "execution_count": 33,
   "metadata": {},
   "outputs": [
    {
     "name": "stdout",
     "output_type": "stream",
     "text": [
      "{'Garage', 'Haus', 'Monument'}\n",
      "{'Tempel', 'Monument'}\n",
      "{'Garage', 'Haus', 'Tempel'}\n",
      "{'Garage', 'Haus', 'Tempel'}\n"
     ]
    }
   ],
   "source": [
    "profan = {\"Haus\",\"Garage\",\"Monument\"}\n",
    "sakral = {\"Tempel\",\"Monument\"}\n",
    "print(profan)\n",
    "print(sakral)\n",
    "\n",
    "bauwerk = profan.symmetric_difference(sakral)\n",
    "print(bauwerk)\n",
    "\n",
    "profan.symmetric_difference_update(sakral)\n",
    "print(profan)"
   ]
  },
  {
   "cell_type": "code",
   "execution_count": 34,
   "metadata": {},
   "outputs": [
    {
     "name": "stdout",
     "output_type": "stream",
     "text": [
      "{'Garage', 'Haus', 'Monument'}\n",
      "{'Tempel', 'Monument'}\n",
      "{'Garage', 'Haus'}\n",
      "{'Garage', 'Haus'}\n"
     ]
    }
   ],
   "source": [
    "profan = {\"Haus\",\"Garage\",\"Monument\"}\n",
    "sakral = {\"Tempel\",\"Monument\"}\n",
    "print(profan)\n",
    "print(sakral)\n",
    "\n",
    "bauwerk = profan.difference(sakral)\n",
    "print(bauwerk)\n",
    "\n",
    "profan.difference_update(sakral)\n",
    "print(profan)"
   ]
  },
  {
   "cell_type": "code",
   "execution_count": 35,
   "metadata": {},
   "outputs": [
    {
     "name": "stdout",
     "output_type": "stream",
     "text": [
      "{'Garage', 'Haus', 'Monument'}\n",
      "{'Monument'}\n",
      "True\n",
      "False\n"
     ]
    }
   ],
   "source": [
    "profan = {\"Haus\",\"Garage\",\"Monument\"}\n",
    "sakral = {\"Monument\",}\n",
    "print(profan)\n",
    "print(sakral)\n",
    "\n",
    "bauwerk  = sakral.issubset(profan)\n",
    "print(bauwerk)\n",
    "\n",
    "bauwerk  = profan.issubset(sakral)\n",
    "print(bauwerk)"
   ]
  },
  {
   "cell_type": "code",
   "execution_count": 36,
   "metadata": {},
   "outputs": [
    {
     "name": "stdout",
     "output_type": "stream",
     "text": [
      "{'Garage', 'Haus', 'Monument'}\n",
      "{'Monument'}\n",
      "False\n",
      "True\n"
     ]
    }
   ],
   "source": [
    "profan = {\"Haus\",\"Garage\",\"Monument\"}\n",
    "sakral = {\"Monument\",}\n",
    "print(profan)\n",
    "print(sakral)\n",
    "\n",
    "bauwerk  = sakral.issuperset(profan)\n",
    "print(bauwerk)\n",
    "\n",
    "bauwerk  = profan.issuperset(sakral)\n",
    "print(bauwerk)"
   ]
  },
  {
   "cell_type": "code",
   "execution_count": 37,
   "metadata": {},
   "outputs": [
    {
     "name": "stdout",
     "output_type": "stream",
     "text": [
      "{'Garage', 'Haus', 'Monument'}\n",
      "{'Garage', 'Haus', 'Monument'}\n"
     ]
    }
   ],
   "source": [
    "profan = {\"Haus\",\"Garage\",\"Monument\"}\n",
    "print(profan)\n",
    "\n",
    "bauwerk  = profan.copy()\n",
    "print(bauwerk)"
   ]
  },
  {
   "cell_type": "code",
   "execution_count": 38,
   "metadata": {},
   "outputs": [
    {
     "name": "stdout",
     "output_type": "stream",
     "text": [
      "{'Garage', 'Haus', 'Monument'}\n",
      "{'Tempel', 'Monument'}\n",
      "False\n",
      "True\n"
     ]
    }
   ],
   "source": [
    "profan = {\"Haus\",\"Garage\",\"Monument\"}\n",
    "sakral = {\"Monument\",\"Tempel\"}\n",
    "print(profan)\n",
    "print(sakral)\n",
    "\n",
    "print(sakral.isdisjoint(profan))\n",
    "sakral.remove(\"Monument\")\n",
    "print(sakral.isdisjoint(profan))"
   ]
  },
  {
   "cell_type": "code",
   "execution_count": 39,
   "metadata": {},
   "outputs": [
    {
     "name": "stdout",
     "output_type": "stream",
     "text": [
      "{'Garage', 'Haus'}\n",
      "{'Tempel', 'Monument'}\n",
      "{'Monument'}\n",
      "{'Haus', 'Garage', 'Tempel', 'Monument'}\n"
     ]
    }
   ],
   "source": [
    "profan = {\"Haus\",\"Garage\"}\n",
    "sakral = {\"Tempel\",\"Monument\"}\n",
    "antik = {\"Monument\"}\n",
    "\n",
    "print(profan)\n",
    "print(sakral)\n",
    "print(antik)\n",
    "\n",
    "bauwerk = profan.union(sakral, antik)\n",
    "\n",
    "print(bauwerk)"
   ]
  },
  {
   "cell_type": "code",
   "execution_count": null,
   "metadata": {},
   "outputs": [],
   "source": []
  },
  {
   "cell_type": "markdown",
   "metadata": {},
   "source": [
    "Tupel"
   ]
  },
  {
   "cell_type": "code",
   "execution_count": 40,
   "metadata": {},
   "outputs": [
    {
     "name": "stdout",
     "output_type": "stream",
     "text": [
      "<class 'str'> Haus\n",
      "<class 'tuple'> ('Haus',)\n",
      "('Haus', 'Haus', 'Haus', 'Garage', 'Monument')\n"
     ]
    }
   ],
   "source": [
    "bauwerk = (\"Haus\")\n",
    "print(type(bauwerk),bauwerk)\n",
    "\n",
    "bauwerk = (\"Haus\",)\n",
    "print(type(bauwerk),bauwerk)\n",
    "\n",
    "bauwerk = (\"Haus\",\"Haus\",\"Haus\",\"Garage\",\"Monument\")\n",
    "print(bauwerk)"
   ]
  },
  {
   "cell_type": "code",
   "execution_count": 41,
   "metadata": {},
   "outputs": [
    {
     "name": "stdout",
     "output_type": "stream",
     "text": [
      "('Haus', 'Haus', 'Haus', 'Garage', 'Monument')\n",
      "5\n"
     ]
    }
   ],
   "source": [
    "print(bauwerk)\n",
    "print(len(bauwerk))"
   ]
  },
  {
   "cell_type": "code",
   "execution_count": 42,
   "metadata": {},
   "outputs": [
    {
     "name": "stdout",
     "output_type": "stream",
     "text": [
      "('Haus', 'Haus', 'Haus', 'Garage', 'Monument')\n",
      "3\n"
     ]
    }
   ],
   "source": [
    "print(bauwerk)\n",
    "print(bauwerk.count(\"Haus\"))"
   ]
  },
  {
   "cell_type": "code",
   "execution_count": 43,
   "metadata": {},
   "outputs": [
    {
     "name": "stdout",
     "output_type": "stream",
     "text": [
      "('Haus', 'Haus', 'Haus', 'Garage', 'Monument')\n",
      "3\n"
     ]
    }
   ],
   "source": [
    "print(bauwerk)\n",
    "print(bauwerk.index(\"Garage\"))"
   ]
  },
  {
   "cell_type": "code",
   "execution_count": 44,
   "metadata": {},
   "outputs": [
    {
     "name": "stdout",
     "output_type": "stream",
     "text": [
      "('Haus', 'Garage', 'Monument')\n",
      "('Haus', 'Garage', 'Tempel', 'Schuppen')\n"
     ]
    },
    {
     "ename": "NameError",
     "evalue": "name 'bauwerk' is not defined",
     "output_type": "error",
     "traceback": [
      "\u001b[1;31m---------------------------------------------------------------------------\u001b[0m",
      "\u001b[1;31mNameError\u001b[0m                                 Traceback (most recent call last)",
      "\u001b[1;32m<ipython-input-44-4a2986df378a>\u001b[0m in \u001b[0;36m<module>\u001b[1;34m\u001b[0m\n\u001b[0;32m     10\u001b[0m \u001b[1;33m\u001b[0m\u001b[0m\n\u001b[0;32m     11\u001b[0m \u001b[1;32mdel\u001b[0m \u001b[0mbauwerk\u001b[0m\u001b[1;33m\u001b[0m\u001b[1;33m\u001b[0m\u001b[0m\n\u001b[1;32m---> 12\u001b[1;33m \u001b[0mprint\u001b[0m\u001b[1;33m(\u001b[0m\u001b[0mbauwerk\u001b[0m\u001b[1;33m)\u001b[0m\u001b[1;33m\u001b[0m\u001b[1;33m\u001b[0m\u001b[0m\n\u001b[0m",
      "\u001b[1;31mNameError\u001b[0m: name 'bauwerk' is not defined"
     ]
    }
   ],
   "source": [
    "bauwerk = (\"Haus\",\"Garage\",\"Monument\")\n",
    "print(bauwerk)\n",
    "\n",
    "tmp = list(bauwerk)\n",
    "tmp.append(\"Schuppen\")\n",
    "tmp[2] = \"Tempel\";\n",
    "\n",
    "bauwerk = tuple(tmp)\n",
    "print(bauwerk)\n",
    "\n",
    "del bauwerk\n",
    "print(bauwerk)"
   ]
  },
  {
   "cell_type": "markdown",
   "metadata": {},
   "source": [
    "Liste"
   ]
  },
  {
   "cell_type": "code",
   "execution_count": 45,
   "metadata": {},
   "outputs": [
    {
     "name": "stdout",
     "output_type": "stream",
     "text": [
      "['Haus', 'Monument', 'Tempel', 'Haus']\n"
     ]
    }
   ],
   "source": [
    "bauwerk = [\"Haus\",\"Monument\",\"Tempel\",\"Haus\"]\n",
    "print(bauwerk)"
   ]
  },
  {
   "cell_type": "code",
   "execution_count": 46,
   "metadata": {},
   "outputs": [
    {
     "name": "stdout",
     "output_type": "stream",
     "text": [
      "['Haus', 'Monument', 'Tempel', 'Haus']\n",
      "4\n"
     ]
    }
   ],
   "source": [
    "print(bauwerk)\n",
    "print(len(bauwerk))"
   ]
  },
  {
   "cell_type": "code",
   "execution_count": null,
   "metadata": {},
   "outputs": [],
   "source": []
  },
  {
   "cell_type": "code",
   "execution_count": 47,
   "metadata": {},
   "outputs": [
    {
     "name": "stdout",
     "output_type": "stream",
     "text": [
      "['Haus', 'Garage', 'Monument']\n",
      "['Tempel', 'Monument']\n",
      "['Haus', 'Garage', 'Monument', 'Tempel', 'Monument']\n"
     ]
    }
   ],
   "source": [
    "profan = [\"Haus\",\"Garage\",\"Monument\"]\n",
    "sakral = [\"Tempel\",\"Monument\"]\n",
    "print(profan)\n",
    "print(sakral)\n",
    "\n",
    "bauwerk = profan + sakral\n",
    "print(bauwerk)"
   ]
  },
  {
   "cell_type": "code",
   "execution_count": 48,
   "metadata": {},
   "outputs": [
    {
     "name": "stdout",
     "output_type": "stream",
     "text": [
      "['Haus', 'Garage', 'Monument', 'Tempel', 'Monument']\n",
      "['Garage', 'Monument']\n"
     ]
    }
   ],
   "source": [
    "print(bauwerk)\n",
    "print(bauwerk[1:3])"
   ]
  },
  {
   "cell_type": "code",
   "execution_count": 49,
   "metadata": {},
   "outputs": [
    {
     "name": "stdout",
     "output_type": "stream",
     "text": [
      "['Haus', 'Garage', 'Monument', 'Tempel', 'Monument']\n",
      "['Haus', 'Garage', 'Monument']\n"
     ]
    }
   ],
   "source": [
    "print(bauwerk)\n",
    "print(bauwerk[:3])"
   ]
  },
  {
   "cell_type": "code",
   "execution_count": 50,
   "metadata": {},
   "outputs": [
    {
     "name": "stdout",
     "output_type": "stream",
     "text": [
      "['Haus', 'Garage', 'Monument', 'Tempel', 'Monument']\n",
      "Monument\n"
     ]
    }
   ],
   "source": [
    "print(bauwerk)\n",
    "print(bauwerk[-1])"
   ]
  },
  {
   "cell_type": "code",
   "execution_count": null,
   "metadata": {},
   "outputs": [],
   "source": []
  },
  {
   "cell_type": "code",
   "execution_count": 51,
   "metadata": {},
   "outputs": [
    {
     "name": "stdout",
     "output_type": "stream",
     "text": [
      "['Haus', 'Garage', 'Monument', 'Tempel', 'Monument']\n"
     ]
    }
   ],
   "source": [
    "objekt=bauwerk.copy()\n",
    "print(objekt)"
   ]
  },
  {
   "cell_type": "code",
   "execution_count": 52,
   "metadata": {},
   "outputs": [
    {
     "name": "stdout",
     "output_type": "stream",
     "text": [
      "['Haus']\n",
      "['Haus', 'Schule', 'Schule']\n",
      "['Haus', 'Schule', 'Schule', 'Tempel', 'Monument']\n",
      "['Haus', 'Garage', 'Schule', 'Schule', 'Tempel', 'Monument']\n"
     ]
    }
   ],
   "source": [
    "bauwerk = [\"Haus\"]\n",
    "print(bauwerk)\n",
    "bauwerk.append(\"Schule\")\n",
    "bauwerk.append(\"Schule\")\n",
    "print(bauwerk)\n",
    "bauwerk.extend([\"Tempel\",\"Monument\"])\n",
    "print(bauwerk)\n",
    "bauwerk.insert(1,\"Garage\")\n",
    "print(bauwerk)"
   ]
  },
  {
   "cell_type": "code",
   "execution_count": 53,
   "metadata": {},
   "outputs": [
    {
     "name": "stdout",
     "output_type": "stream",
     "text": [
      "['Haus', 'Garage', 'Schule', 'Schule', 'Tempel', 'Monument']\n",
      "['Haus', 'Schule', 'Schule', 'Tempel', 'Monument']\n",
      "['Haus', 'Schule', 'Tempel', 'Monument']\n"
     ]
    }
   ],
   "source": [
    "print(bauwerk)\n",
    "bauwerk.pop(1)\n",
    "print(bauwerk)\n",
    "bauwerk.remove(\"Schule\")\n",
    "print(bauwerk)"
   ]
  },
  {
   "cell_type": "code",
   "execution_count": 54,
   "metadata": {},
   "outputs": [
    {
     "name": "stdout",
     "output_type": "stream",
     "text": [
      "['Haus', 'Schule', 'Tempel', 'Monument']\n",
      "['Monument', 'Tempel', 'Schule', 'Haus']\n"
     ]
    }
   ],
   "source": [
    "print(bauwerk)\n",
    "bauwerk.reverse()\n",
    "print(bauwerk)"
   ]
  },
  {
   "cell_type": "code",
   "execution_count": 55,
   "metadata": {},
   "outputs": [
    {
     "name": "stdout",
     "output_type": "stream",
     "text": [
      "['Monument', 'Tempel', 'Schule', 'Haus']\n",
      "[]\n"
     ]
    }
   ],
   "source": [
    "print(bauwerk)\n",
    "bauwerk.clear()\n",
    "print(bauwerk)"
   ]
  },
  {
   "cell_type": "code",
   "execution_count": 56,
   "metadata": {},
   "outputs": [
    {
     "name": "stdout",
     "output_type": "stream",
     "text": [
      "['Dom']\n",
      "['Dom', 'Dom', 'Haus']\n"
     ]
    }
   ],
   "source": [
    "bauwerk.append(\"Dom\")\n",
    "print(bauwerk)\n",
    "\n",
    "\n",
    "\n",
    "bauwerk.extend([\"Dom\",\"Haus\"])\n",
    "print(bauwerk)\n",
    "\n"
   ]
  },
  {
   "cell_type": "code",
   "execution_count": 57,
   "metadata": {},
   "outputs": [
    {
     "name": "stdout",
     "output_type": "stream",
     "text": [
      "['Dom', 'Dom', 'Haus']\n",
      "Haus ist 1 mal vorhanden\n"
     ]
    }
   ],
   "source": [
    "print(bauwerk)\n",
    "print(\"Haus ist\",bauwerk.count(\"Haus\"), \"mal vorhanden\")"
   ]
  },
  {
   "cell_type": "code",
   "execution_count": 58,
   "metadata": {},
   "outputs": [
    {
     "name": "stdout",
     "output_type": "stream",
     "text": [
      "['Dom', 'Dom', 'Haus']\n",
      "der erste Index des Doms ist  0\n"
     ]
    }
   ],
   "source": [
    "print(bauwerk)\n",
    "print(\"der erste Index des Doms ist \",bauwerk.index(\"Dom\"))"
   ]
  },
  {
   "cell_type": "code",
   "execution_count": 59,
   "metadata": {},
   "outputs": [
    {
     "name": "stdout",
     "output_type": "stream",
     "text": [
      "['Dom', 'Dom', 'Haus']\n",
      "['Haus', 'Dom', 'Dom']\n"
     ]
    }
   ],
   "source": [
    "print(bauwerk)\n",
    "bauwerk.sort(reverse = True)\n",
    "print(bauwerk)"
   ]
  },
  {
   "cell_type": "code",
   "execution_count": 60,
   "metadata": {},
   "outputs": [
    {
     "name": "stdout",
     "output_type": "stream",
     "text": [
      "['Dom', 'Dom', 'Haus']\n"
     ]
    }
   ],
   "source": [
    "def getLength(e):\n",
    "  return len(e)\n",
    "\n",
    "bauwerk.sort(key=getLength)\n",
    "print(bauwerk)"
   ]
  },
  {
   "cell_type": "markdown",
   "metadata": {},
   "source": [
    "Distionarys"
   ]
  },
  {
   "cell_type": "code",
   "execution_count": 61,
   "metadata": {},
   "outputs": [
    {
     "name": "stdout",
     "output_type": "stream",
     "text": [
      "{'Frucht': 'Orange', 'Gewicht': 160, 'Geschmack': 'süß'}\n"
     ]
    }
   ],
   "source": [
    "frucht1 ={\n",
    "    \"Frucht\" : \"Orange\",\n",
    "    \"Gewicht\" : 160,\n",
    "    \"Geschmack\":\"süß\"}\n",
    "\n",
    "print(frucht1)"
   ]
  },
  {
   "cell_type": "code",
   "execution_count": 62,
   "metadata": {},
   "outputs": [
    {
     "name": "stdout",
     "output_type": "stream",
     "text": [
      "Das Gewicht einer Orange ist 160\n"
     ]
    }
   ],
   "source": [
    "print(\"Das Gewicht einer \", end=\"\")\n",
    "print(frucht1.get('Frucht'), end=\" ist \")\n",
    "print(frucht1['Gewicht'])"
   ]
  },
  {
   "cell_type": "code",
   "execution_count": 63,
   "metadata": {},
   "outputs": [
    {
     "name": "stdout",
     "output_type": "stream",
     "text": [
      "{'Frucht': 'Orange', 'Gewicht': 160, 'Geschmack': 'süß'}\n",
      "{}\n"
     ]
    }
   ],
   "source": [
    "print(frucht1)\n",
    "frucht1.clear()\n",
    "print(frucht1)"
   ]
  },
  {
   "cell_type": "code",
   "execution_count": 64,
   "metadata": {},
   "outputs": [
    {
     "name": "stdout",
     "output_type": "stream",
     "text": [
      "{}\n",
      "{'Gewicht': 200}\n"
     ]
    }
   ],
   "source": [
    "frucht2 = frucht1\n",
    "print (frucht1)\n",
    "frucht2[\"Gewicht\"] = 200\n",
    "print (frucht1)"
   ]
  },
  {
   "cell_type": "code",
   "execution_count": 65,
   "metadata": {},
   "outputs": [
    {
     "name": "stdout",
     "output_type": "stream",
     "text": [
      "{'Gewicht': 200}\n",
      "{'Gewicht': 200}\n"
     ]
    }
   ],
   "source": [
    "frucht2 = frucht1.copy()\n",
    "frucht2[\"Gewicht\"] = 200\n",
    "print (frucht1)\n",
    "print (frucht2)"
   ]
  },
  {
   "cell_type": "code",
   "execution_count": 66,
   "metadata": {},
   "outputs": [
    {
     "name": "stdout",
     "output_type": "stream",
     "text": [
      "{'Frucht': 42, 'Gewicht': 42, 'Geschmack': 42}\n"
     ]
    }
   ],
   "source": [
    "keys = ('Frucht', 'Gewicht', 'Geschmack')\n",
    "default = 42\n",
    " \n",
    "frucht = dict.fromkeys(keys, default)\n",
    "print(frucht)"
   ]
  },
  {
   "cell_type": "code",
   "execution_count": 67,
   "metadata": {},
   "outputs": [
    {
     "name": "stdout",
     "output_type": "stream",
     "text": [
      "dict_keys(['Gewicht'])\n"
     ]
    }
   ],
   "source": [
    "print(frucht1.keys())"
   ]
  },
  {
   "cell_type": "code",
   "execution_count": 68,
   "metadata": {},
   "outputs": [
    {
     "name": "stdout",
     "output_type": "stream",
     "text": [
      "dict_values([200])\n"
     ]
    }
   ],
   "source": [
    "print (frucht1.values())"
   ]
  },
  {
   "cell_type": "code",
   "execution_count": 69,
   "metadata": {},
   "outputs": [
    {
     "name": "stdout",
     "output_type": "stream",
     "text": [
      "dict_items([('Gewicht', 200)])\n"
     ]
    }
   ],
   "source": [
    "print (frucht1.items())"
   ]
  },
  {
   "cell_type": "code",
   "execution_count": 70,
   "metadata": {},
   "outputs": [
    {
     "name": "stdout",
     "output_type": "stream",
     "text": [
      "dict_items([('Gewicht', 200)])\n",
      "Gewicht 200\n"
     ]
    }
   ],
   "source": [
    "items = frucht1.items()\n",
    "print (frucht1.items())\n",
    "\n",
    "liste = list(items)\n",
    "print(liste[0][0],liste[0][1] ) "
   ]
  },
  {
   "cell_type": "code",
   "execution_count": 71,
   "metadata": {},
   "outputs": [
    {
     "name": "stdout",
     "output_type": "stream",
     "text": [
      "200\n"
     ]
    }
   ],
   "source": [
    "print(frucht1[\"Gewicht\"])"
   ]
  },
  {
   "cell_type": "code",
   "execution_count": 72,
   "metadata": {},
   "outputs": [
    {
     "name": "stdout",
     "output_type": "stream",
     "text": [
      "{'Gewicht': 200}\n",
      "{}\n",
      "200\n",
      "100\n"
     ]
    }
   ],
   "source": [
    "print (frucht1)\n",
    "gewicht = frucht1.pop(\"Gewicht\")\n",
    "print (frucht1)\n",
    "print(gewicht)\n",
    "gewicht = frucht1.pop(\"Gewicht\", 100)\n",
    "print(gewicht)\n"
   ]
  },
  {
   "cell_type": "code",
   "execution_count": 73,
   "metadata": {},
   "outputs": [
    {
     "name": "stdout",
     "output_type": "stream",
     "text": [
      "{}\n"
     ]
    },
    {
     "ename": "KeyError",
     "evalue": "'popitem(): dictionary is empty'",
     "output_type": "error",
     "traceback": [
      "\u001b[1;31m---------------------------------------------------------------------------\u001b[0m",
      "\u001b[1;31mKeyError\u001b[0m                                  Traceback (most recent call last)",
      "\u001b[1;32m<ipython-input-73-01456d08abd3>\u001b[0m in \u001b[0;36m<module>\u001b[1;34m\u001b[0m\n\u001b[0;32m      1\u001b[0m \u001b[0mprint\u001b[0m\u001b[1;33m(\u001b[0m\u001b[0mfrucht1\u001b[0m\u001b[1;33m)\u001b[0m\u001b[1;33m\u001b[0m\u001b[1;33m\u001b[0m\u001b[0m\n\u001b[1;32m----> 2\u001b[1;33m \u001b[0mprint\u001b[0m\u001b[1;33m(\u001b[0m\u001b[1;34m\" geholt     :\"\u001b[0m\u001b[1;33m,\u001b[0m\u001b[0mfrucht1\u001b[0m\u001b[1;33m.\u001b[0m\u001b[0mpopitem\u001b[0m\u001b[1;33m(\u001b[0m\u001b[1;33m)\u001b[0m\u001b[1;33m)\u001b[0m\u001b[1;33m\u001b[0m\u001b[1;33m\u001b[0m\u001b[0m\n\u001b[0m\u001b[0;32m      3\u001b[0m \u001b[0mprint\u001b[0m\u001b[1;33m(\u001b[0m\u001b[1;34m\" verblieben :\"\u001b[0m\u001b[1;33m,\u001b[0m \u001b[0mfrucht1\u001b[0m\u001b[1;33m)\u001b[0m\u001b[1;33m\u001b[0m\u001b[1;33m\u001b[0m\u001b[0m\n",
      "\u001b[1;31mKeyError\u001b[0m: 'popitem(): dictionary is empty'"
     ]
    }
   ],
   "source": [
    "print(frucht1)\n",
    "print(\" geholt     :\",frucht1.popitem())\n",
    "print(\" verblieben :\", frucht1)"
   ]
  },
  {
   "cell_type": "code",
   "execution_count": null,
   "metadata": {},
   "outputs": [],
   "source": []
  },
  {
   "cell_type": "code",
   "execution_count": 74,
   "metadata": {},
   "outputs": [
    {
     "name": "stdout",
     "output_type": "stream",
     "text": [
      "{}\n",
      "{'Farbe': 'Orange'}\n",
      "{'Farbe': 'Orange', 'Gewicht': 165}\n"
     ]
    }
   ],
   "source": [
    "print (frucht1)\n",
    "frucht1[\"Farbe\"] = \"Orange\"\n",
    "print (frucht1)\n",
    "\n",
    "frucht1.update({\"Gewicht\" : 165})\n",
    "print (frucht1)"
   ]
  },
  {
   "cell_type": "code",
   "execution_count": 75,
   "metadata": {},
   "outputs": [
    {
     "ename": "NameError",
     "evalue": "name 'setdefault' is not defined",
     "output_type": "error",
     "traceback": [
      "\u001b[1;31m---------------------------------------------------------------------------\u001b[0m",
      "\u001b[1;31mNameError\u001b[0m                                 Traceback (most recent call last)",
      "\u001b[1;32m<ipython-input-75-3d4777c9ad7c>\u001b[0m in \u001b[0;36m<module>\u001b[1;34m\u001b[0m\n\u001b[1;32m----> 1\u001b[1;33m \u001b[0msetdefault\u001b[0m\u001b[1;33m(\u001b[0m\u001b[1;33m)\u001b[0m\u001b[1;33m\u001b[0m\u001b[1;33m\u001b[0m\u001b[0m\n\u001b[0m",
      "\u001b[1;31mNameError\u001b[0m: name 'setdefault' is not defined"
     ]
    }
   ],
   "source": [
    "setdefault()"
   ]
  },
  {
   "cell_type": "code",
   "execution_count": 76,
   "metadata": {},
   "outputs": [
    {
     "name": "stdout",
     "output_type": "stream",
     "text": [
      "{'Farbe': 'Orange', 'Gewicht': 165}\n",
      "Orange\n",
      "{'Farbe': 'Orange', 'Gewicht': 165}\n",
      "Orange\n",
      "{'Farbe': 'Orange', 'Gewicht': 165}\n"
     ]
    }
   ],
   "source": [
    "print (frucht1)\n",
    "print (frucht1.setdefault(\"Farbe\" , \"orange\"))\n",
    "print (frucht1)\n",
    "print (frucht1.setdefault(\"Farbe\" , \"gelb\"))\n",
    "print (frucht1)"
   ]
  },
  {
   "cell_type": "code",
   "execution_count": null,
   "metadata": {},
   "outputs": [],
   "source": []
  },
  {
   "cell_type": "markdown",
   "metadata": {},
   "source": [
    "Dictionarys"
   ]
  },
  {
   "cell_type": "code",
   "execution_count": 77,
   "metadata": {},
   "outputs": [
    {
     "name": "stdout",
     "output_type": "stream",
     "text": [
      "{'Frucht': 'Orange', 'Gewicht': 160, 'Geschmack': 'süß'}\n",
      "{'Frucht': 'Zitrone', 'Gewicht': 120, 'Geschmack': 'sauer'}\n"
     ]
    }
   ],
   "source": [
    "index = ['Frucht', 'Gewicht', 'Geschmack']\n",
    "values = ('Orange', 160, 'süß')\n",
    "values2 = ['Zitrone', 120, 'sauer']\n",
    "\n",
    "frucht1=dict(zip(index, values))\n",
    "frucht2=dict(zip(index, values2))\n",
    "\n",
    "print (frucht1)\n",
    "print (frucht2)"
   ]
  },
  {
   "cell_type": "code",
   "execution_count": 78,
   "metadata": {},
   "outputs": [
    {
     "name": "stdout",
     "output_type": "stream",
     "text": [
      "('A', 1, 3)\n",
      "('B', 2, 4)\n",
      "('C', 3, 5)\n"
     ]
    }
   ],
   "source": [
    "index = ['A', 'B', 'C','D']\n",
    "values1 = {1,2,3}\n",
    "values2 = (3,4,5,6)\n",
    "\n",
    "a = zip(index, values1, values2)\n",
    "\n",
    "for index in a:\n",
    "    print(index)"
   ]
  },
  {
   "cell_type": "code",
   "execution_count": 79,
   "metadata": {},
   "outputs": [
    {
     "name": "stdout",
     "output_type": "stream",
     "text": [
      "[('A', 1), ('B', 2), ('C', 2), ('D', 5)]\n",
      "Buchstaben  ('A', 'B', 'C', 'D')\n",
      "Zahlen  (1, 2, 2, 5)\n"
     ]
    },
    {
     "data": {
      "text/plain": [
       "zip"
      ]
     },
     "execution_count": 79,
     "metadata": {},
     "output_type": "execute_result"
    }
   ],
   "source": [
    "bzListe = [('A',1), ('B',2), ('C',2),('D',5)]\n",
    "print(bzListe)\n",
    "bListe, zListe = list(zip(*bzListe))\n",
    "print(\"Buchstaben \",bListe) \n",
    "print(\"Zahlen \",zListe) \n",
    "type(zip(*bzListe))"
   ]
  },
  {
   "cell_type": "code",
   "execution_count": 80,
   "metadata": {},
   "outputs": [
    {
     "name": "stdout",
     "output_type": "stream",
     "text": [
      "[('A', 1), ('B', 2), ('C', 2), ('D', 5)]\n",
      "Buchstaben  (1, 2, 2, 5)\n",
      "Zahlen  ('A', 'B', 'C', 'D')\n"
     ]
    },
    {
     "data": {
      "text/plain": [
       "zip"
      ]
     },
     "execution_count": 80,
     "metadata": {},
     "output_type": "execute_result"
    }
   ],
   "source": [
    "bzListe = [('A',1), ('B',2), ('C',2),('D',5)]\n",
    "print(bzListe)\n",
    "bListe, zListe = set(zip(*bzListe))\n",
    "print(\"Buchstaben \",bListe) \n",
    "print(\"Zahlen \",zListe) \n",
    "type(zip(*bzListe))"
   ]
  },
  {
   "cell_type": "code",
   "execution_count": null,
   "metadata": {},
   "outputs": [],
   "source": []
  }
 ],
 "metadata": {
  "kernelspec": {
   "display_name": "Python 3",
   "language": "python",
   "name": "python3"
  },
  "language_info": {
   "codemirror_mode": {
    "name": "ipython",
    "version": 3
   },
   "file_extension": ".py",
   "mimetype": "text/x-python",
   "name": "python",
   "nbconvert_exporter": "python",
   "pygments_lexer": "ipython3",
   "version": "3.8.6"
  }
 },
 "nbformat": 4,
 "nbformat_minor": 4
}
